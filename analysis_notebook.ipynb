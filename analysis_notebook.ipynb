{
 "cells": [
  {
   "cell_type": "markdown",
   "metadata": {},
   "source": [
    "### Imports and Loading of buildings_metadata.xlsx to a dataframe"
   ]
  },
  {
   "cell_type": "code",
   "execution_count": 134,
   "metadata": {},
   "outputs": [],
   "source": [
    "import os\n",
    "import pandas as pd\n",
    "import plotly.express as px\n",
    "import plotly.graph_objects as go\n",
    "\n",
    "# Load the buildings_metadata.xlsx file into a pandas DataFrame\n",
    "file_path = \"buildings_metadata.xlsx\"\n",
    "buildings_metadata_df = pd.read_excel(file_path)"
   ]
  },
  {
   "cell_type": "code",
   "execution_count": 135,
   "metadata": {},
   "outputs": [
    {
     "name": "stdout",
     "output_type": "stream",
     "text": [
      "['21 or more' '1' '6 to 10' '2 to 5' nan '11 to 15' '16 to 20']\n"
     ]
    }
   ],
   "source": [
    "#print all the unique values in the bldg_stories_above field in the dataframe\n",
    "print(buildings_metadata_df['bldg_stories_above'].unique())"
   ]
  },
  {
   "cell_type": "markdown",
   "metadata": {},
   "source": [
    "---"
   ]
  },
  {
   "cell_type": "markdown",
   "metadata": {},
   "source": [
    "### Plotting Stories vs GWP Intensity"
   ]
  },
  {
   "cell_type": "markdown",
   "metadata": {},
   "source": [
    "#### Cleaning Data"
   ]
  },
  {
   "cell_type": "code",
   "execution_count": 136,
   "metadata": {},
   "outputs": [],
   "source": [
    "# Remove any rows from the DataFrame where the bldg_stories_above field is NaN\n",
    "filtered_bldgs_df1 = buildings_metadata_df.copy()\n",
    "filtered_bldgs_df1 = filtered_bldgs_df1.dropna(subset=['bldg_stories_above'])\n",
    "\n",
    "# Remove data points where the \"eci_a_to_c_cfa\" field is above 1200\n",
    "filtered_bldgs_df1 = filtered_bldgs_df1[filtered_bldgs_df1['eci_a_to_c_cfa'] <= 1200]\n",
    "\n",
    "# Limit to New Construction\n",
    "filtered_bldgs_df1 = filtered_bldgs_df1[filtered_bldgs_df1['bldg_proj_type'] == 'New Construction']\n",
    "\n",
    "# Calculate the count of data points in each bucket\n",
    "stories_order = ['1', '2 to 5', '6 to 10', '11 to 15', '16 to 20', '21 or more']\n",
    "bucket_counts = filtered_bldgs_df1['bldg_stories_above'].value_counts()\n",
    "bucket_counts = bucket_counts.reindex(stories_order)  # Ensure correct order"
   ]
  },
  {
   "cell_type": "markdown",
   "metadata": {},
   "source": [
    "#### Plotting Data"
   ]
  },
  {
   "cell_type": "code",
   "execution_count": 137,
   "metadata": {},
   "outputs": [
    {
     "data": {
      "application/vnd.plotly.v1+json": {
       "config": {
        "plotlyServerURL": "https://plotly.com"
       },
       "data": [
        {
         "alignmentgroup": "True",
         "boxpoints": "all",
         "customdata": [
          [
           "BSECF",
           "Tally LCA"
          ],
          [
           "BSE",
           "One Click LCA"
          ],
          [
           "BSECF",
           "Tally LCA"
          ],
          [
           "BSE",
           "Tally LCA"
          ],
          [
           "BSECF",
           "Tally LCA"
          ],
          [
           "BSECF",
           "One Click LCA"
          ],
          [
           "BSECF",
           "Tally LCA"
          ],
          [
           "BSECF",
           "One Click LCA"
          ],
          [
           "BSECF",
           "Tally LCA"
          ],
          [
           "BSECF",
           "Tally LCA"
          ],
          [
           "BSECF",
           "Tally LCA"
          ],
          [
           "BSECF",
           "One Click LCA"
          ],
          [
           "BSECF",
           "Tally LCA"
          ],
          [
           "BSE",
           "One Click LCA"
          ],
          [
           "BSECF",
           "One Click LCA"
          ],
          [
           "BSECF",
           "One Click LCA"
          ],
          [
           "BSECF",
           "Tally LCA"
          ],
          [
           "BSECF",
           "Tally LCA"
          ],
          [
           "BSECF",
           "Tally LCA"
          ],
          [
           "BSECF",
           "One Click LCA"
          ],
          [
           "BSECF",
           "Tally LCA"
          ],
          [
           "BSECF",
           "Tally LCA"
          ],
          [
           "BSECF",
           "Tally LCA"
          ],
          [
           "BSE",
           "Tally LCA"
          ],
          [
           "BSECF",
           "Tally LCA"
          ],
          [
           "BSECF",
           "Tally LCA"
          ],
          [
           "BSECF",
           "Tally LCA"
          ],
          [
           "BSECF",
           "Tally LCA"
          ],
          [
           "BSE",
           "One Click LCA"
          ],
          [
           "BSE",
           "One Click LCA"
          ],
          [
           "BSECF",
           "Tally LCA"
          ],
          [
           "BSE",
           "One Click LCA"
          ],
          [
           "BSECF",
           "Tally LCA"
          ],
          [
           "BSE",
           "One Click LCA"
          ],
          [
           "BSECF",
           "Tally LCA"
          ],
          [
           "BSECF",
           "One Click LCA"
          ],
          [
           "BSE",
           "Tally LCA"
          ],
          [
           "BSECF",
           "One Click LCA"
          ],
          [
           "BSECF",
           "One Click LCA"
          ],
          [
           "BSECF",
           "Tally LCA"
          ],
          [
           "BSECF",
           "Tally LCA"
          ],
          [
           "BSEC",
           "One Click LCA"
          ],
          [
           "BSECF",
           "Tally LCA"
          ],
          [
           "BSEC",
           "Tally LCA"
          ],
          [
           "BSEC",
           "Tally LCA"
          ],
          [
           "BSECF",
           "One Click LCA"
          ],
          [
           "BSECF",
           "Tally LCA"
          ],
          [
           "BSECF",
           "Tally LCA"
          ],
          [
           "BSECF",
           "Tally LCA"
          ],
          [
           "BSECF",
           "Tally LCA"
          ],
          [
           "BSECF",
           "Tally LCA"
          ],
          [
           "BSE",
           "One Click LCA"
          ],
          [
           "BSECF",
           "Tally LCA"
          ],
          [
           "BSE",
           "One Click LCA"
          ],
          [
           "BSECF",
           "One Click LCA"
          ],
          [
           "BSECF",
           "One Click LCA"
          ],
          [
           "BSE",
           "One Click LCA"
          ],
          [
           "BSE",
           "One Click LCA"
          ],
          [
           "BSE",
           "One Click LCA"
          ],
          [
           "BSECF",
           "Tally LCA"
          ],
          [
           "BSE",
           "One Click LCA"
          ],
          [
           "BSE",
           "One Click LCA"
          ],
          [
           "BSE",
           "One Click LCA"
          ],
          [
           "BSE",
           "One Click LCA"
          ],
          [
           "BSE",
           "One Click LCA"
          ],
          [
           "BSE",
           "One Click LCA"
          ],
          [
           "BSE",
           "One Click LCA"
          ],
          [
           "BSEC",
           "One Click LCA"
          ],
          [
           "BSE",
           "One Click LCA"
          ],
          [
           "BSECF",
           "Tally LCA"
          ],
          [
           "BSECF",
           "Tally LCA"
          ],
          [
           "BSECF",
           "Tally LCA"
          ],
          [
           "BSECF",
           "Tally LCA"
          ],
          [
           "BSECF",
           "Tally LCA"
          ],
          [
           "BSECF",
           "Tally LCA"
          ],
          [
           "BSECF",
           "Tally LCA"
          ],
          [
           "BSECF",
           "Tally LCA"
          ],
          [
           "BSE",
           "Tally LCA"
          ],
          [
           "BSECF",
           "Tally LCA"
          ],
          [
           "BSECF",
           "Tally LCA"
          ],
          [
           "BSECF",
           "Tally LCA"
          ],
          [
           "BSECF",
           "Tally LCA"
          ],
          [
           "BSECF",
           "Tally LCA"
          ],
          [
           "BSECF",
           "Tally LCA"
          ],
          [
           "BSECF",
           "Tally LCA"
          ],
          [
           "BSECF",
           "Tally LCA"
          ],
          [
           "BSECF",
           "Tally LCA"
          ],
          [
           "BSECF",
           "One Click LCA"
          ],
          [
           "BSECF",
           "Tally LCA"
          ],
          [
           "BSECF",
           "Tally LCA"
          ],
          [
           "BSECF",
           "Tally LCA"
          ],
          [
           "BSE",
           "Tally LCA"
          ],
          [
           "BSECF",
           "Tally LCA"
          ],
          [
           "BSEC",
           "One Click LCA"
          ],
          [
           "BSE",
           "One Click LCA"
          ],
          [
           "BSEF",
           "Tally LCA"
          ],
          [
           "BSECF",
           "One Click LCA"
          ],
          [
           "BSECF",
           "One Click LCA"
          ],
          [
           "BSECF",
           "Tally LCA"
          ],
          [
           "BSECF",
           "Tally LCA"
          ],
          [
           "BSE",
           "One Click LCA"
          ],
          [
           "BSEF",
           "Tally LCA"
          ],
          [
           "BSE",
           "Tally LCA"
          ],
          [
           "BSE",
           "Tally LCA"
          ],
          [
           "BSECF",
           "Tally LCA"
          ],
          [
           "BSECF",
           "Tally LCA"
          ],
          [
           "BSE",
           "Tally LCA"
          ],
          [
           "BSECF",
           "One Click LCA"
          ],
          [
           "BSE",
           "One Click LCA"
          ],
          [
           "BSECF",
           "Tally LCA"
          ],
          [
           "BSECF",
           "Tally LCA"
          ],
          [
           "BSE",
           "One Click LCA"
          ],
          [
           "BSE",
           "One Click LCA"
          ],
          [
           "BSE",
           "One Click LCA"
          ],
          [
           "BSE",
           "One Click LCA"
          ],
          [
           "BSE",
           "One Click LCA"
          ],
          [
           "BSE",
           "One Click LCA"
          ],
          [
           "BSECF",
           "Tally LCA"
          ],
          [
           "BSECF",
           "Tally LCA"
          ],
          [
           "BSECF",
           "Tally LCA"
          ],
          [
           "BSECF",
           "Tally LCA"
          ],
          [
           "BSECF",
           "Tally LCA"
          ],
          [
           "BSECF",
           "Tally LCA"
          ],
          [
           "BSECF",
           "Tally LCA"
          ],
          [
           "BSECF",
           "Tally LCA"
          ],
          [
           "BSECF",
           "Tally LCA"
          ],
          [
           "BSECF",
           "Tally LCA"
          ],
          [
           "BSECF",
           "Tally LCA"
          ],
          [
           "BSECF",
           "One Click LCA"
          ],
          [
           "BSECF",
           "Tally LCA"
          ],
          [
           "BSE",
           "Tally LCA"
          ],
          [
           "BSECF",
           "Tally LCA"
          ],
          [
           "BSE",
           "Tally LCA"
          ],
          [
           "BSECF",
           "Tally LCA"
          ],
          [
           "BSECF",
           "Tally LCA"
          ],
          [
           "BSECF",
           "Tally LCA"
          ],
          [
           "BSECF",
           "Tally LCA"
          ],
          [
           "BSECF",
           "Tally LCA"
          ],
          [
           "BSECF",
           "Tally LCA"
          ],
          [
           "BSECF",
           "Tally LCA"
          ],
          [
           "BSE",
           "Tally LCA"
          ],
          [
           "BSECF",
           "Tally LCA"
          ],
          [
           "BSECF",
           "Tally LCA"
          ],
          [
           "BSECF",
           "Tally LCA"
          ],
          [
           "BSECF",
           "Tally LCA"
          ],
          [
           "BSECF",
           "Tally LCA"
          ],
          [
           "BSECF",
           "Tally LCA"
          ],
          [
           "BSECF",
           "Tally LCA"
          ],
          [
           "BSECF",
           "Tally LCA"
          ],
          [
           "BSECF",
           "Tally LCA"
          ],
          [
           "BSE",
           "Tally LCA"
          ],
          [
           "BSECF",
           "Tally LCA"
          ],
          [
           "BSECF",
           "Tally LCA"
          ],
          [
           "BSECF",
           "Tally LCA"
          ],
          [
           "BSECF",
           "Tally LCA"
          ],
          [
           "BSECF",
           "Tally LCA"
          ],
          [
           "BSECF",
           "Tally LCA"
          ],
          [
           "BSECF",
           "Tally LCA"
          ],
          [
           "BSECF",
           "Tally LCA"
          ],
          [
           "BSECF",
           "Tally LCA"
          ],
          [
           "BSE",
           "Tally LCA"
          ],
          [
           "BSECF",
           "Tally LCA"
          ],
          [
           "BSE",
           "Tally LCA"
          ],
          [
           "BSECF",
           "Tally LCA"
          ],
          [
           "BSECF",
           "Tally LCA"
          ],
          [
           "BSECF",
           "Tally LCA"
          ],
          [
           "BSECF",
           "Tally LCA"
          ],
          [
           "BSECF",
           "Tally LCA"
          ],
          [
           "BSECF",
           "Tally LCA"
          ],
          [
           "BSE",
           "One Click LCA"
          ],
          [
           "BSE",
           "One Click LCA"
          ],
          [
           "BSECF",
           "Tally LCA"
          ],
          [
           "BSECF",
           "Tally LCA"
          ],
          [
           "BSECF",
           "Tally LCA"
          ],
          [
           "BSECF",
           "Tally LCA"
          ],
          [
           "BSECF",
           "Tally LCA"
          ],
          [
           "BSE",
           "One Click LCA"
          ],
          [
           "BSE",
           "One Click LCA"
          ],
          [
           "BSE",
           "One Click LCA"
          ],
          [
           "BSECF",
           "Tally LCA"
          ],
          [
           "BSECF",
           "Tally LCA"
          ],
          [
           "BSE",
           "Tally LCA"
          ],
          [
           "BSE",
           "Tally LCA"
          ],
          [
           "BSECF",
           "One Click LCA"
          ],
          [
           "BSECF",
           "Tally LCA"
          ],
          [
           "BSE",
           "Tally LCA"
          ],
          [
           "BSECF",
           "Tally LCA"
          ],
          [
           "BSECF",
           "Tally LCA"
          ],
          [
           "BSE",
           "One Click LCA"
          ],
          [
           "BSE",
           "One Click LCA"
          ],
          [
           "BSE",
           "One Click LCA"
          ],
          [
           "BSEF",
           "Tally LCA"
          ],
          [
           "BSE",
           "One Click LCA"
          ],
          [
           "BSECF",
           "One Click LCA"
          ],
          [
           "BSECF",
           "One Click LCA"
          ],
          [
           "BSE",
           "Tally LCA"
          ],
          [
           "BSE",
           "Tally LCA"
          ],
          [
           "BSE",
           "Tally LCA"
          ],
          [
           "BSECF",
           "One Click LCA"
          ],
          [
           "BSE",
           "One Click LCA"
          ],
          [
           "BSECF",
           "One Click LCA"
          ],
          [
           "BSECF",
           "Tally LCA"
          ],
          [
           "BSE",
           "One Click LCA"
          ],
          [
           "BSECF",
           "Tally LCA"
          ],
          [
           "BSE",
           "One Click LCA"
          ],
          [
           "BSE",
           "One Click LCA"
          ],
          [
           "BSE",
           "One Click LCA"
          ],
          [
           "BSE",
           "One Click LCA"
          ],
          [
           "BSE",
           "One Click LCA"
          ],
          [
           "BSE",
           "One Click LCA"
          ],
          [
           "BSE",
           "One Click LCA"
          ],
          [
           "BSE",
           "One Click LCA"
          ],
          [
           "BSE",
           "Tally LCA"
          ],
          [
           "BSECF",
           "Tally LCA"
          ],
          [
           "BSECF",
           "Tally LCA"
          ],
          [
           "BSECF",
           "Tally LCA"
          ],
          [
           "BSECF",
           "Tally LCA"
          ],
          [
           "BSECF",
           "Tally LCA"
          ],
          [
           "BSECF",
           "Tally LCA"
          ],
          [
           "BSE",
           "One Click LCA"
          ],
          [
           "BSECF",
           "Tally LCA"
          ],
          [
           "BSECF",
           "One Click LCA"
          ],
          [
           "BSE",
           "One Click LCA"
          ],
          [
           "BSE",
           "One Click LCA"
          ],
          [
           "BSE",
           "One Click LCA"
          ],
          [
           "BSECF",
           "Tally LCA"
          ],
          [
           "BSECF",
           "Tally LCA"
          ],
          [
           "BSECF",
           "Tally LCA"
          ],
          [
           "BSE",
           "One Click LCA"
          ],
          [
           "BSEC",
           "One Click LCA"
          ],
          [
           "BSECF",
           "Tally LCA"
          ],
          [
           "BSE",
           "One Click LCA"
          ],
          [
           "BSE",
           "One Click LCA"
          ],
          [
           "BSE",
           "Tally LCA"
          ],
          [
           "BSE",
           "One Click LCA"
          ],
          [
           "BSE",
           "Tally LCA"
          ],
          [
           "BSECF",
           "Tally LCA"
          ],
          [
           "BSE",
           "One Click LCA"
          ],
          [
           "BSE",
           "One Click LCA"
          ],
          [
           "BSECF",
           "Tally LCA"
          ]
         ],
         "fillcolor": "rgb(236,226,240)",
         "hovertemplate": "Building Stories Above Ground=%{x}<br>Normalized Embodied Carbon Intensity (CFA)=%{y}<br>LCA Physical Scope=%{customdata[0]}<br>LCA Software=%{customdata[1]}<extra></extra>",
         "jitter": 0.3,
         "legendgroup": "",
         "line": {
          "color": "rgb(166,189,219)"
         },
         "marker": {
          "color": "rgba(28, 144, 153, 0.5)"
         },
         "name": "",
         "notched": false,
         "offsetgroup": "",
         "orientation": "v",
         "pointpos": 0,
         "showlegend": false,
         "type": "box",
         "x": [
          "21 or more",
          "21 or more",
          "1",
          "6 to 10",
          "2 to 5",
          "1",
          "1",
          "2 to 5",
          "2 to 5",
          "6 to 10",
          "6 to 10",
          "1",
          "1",
          "2 to 5",
          "2 to 5",
          "2 to 5",
          "2 to 5",
          "1",
          "2 to 5",
          "1",
          "1",
          "21 or more",
          "2 to 5",
          "6 to 10",
          "2 to 5",
          "2 to 5",
          "1",
          "2 to 5",
          "6 to 10",
          "6 to 10",
          "2 to 5",
          "2 to 5",
          "2 to 5",
          "1",
          "1",
          "1",
          "11 to 15",
          "1",
          "1",
          "2 to 5",
          "2 to 5",
          "16 to 20",
          "2 to 5",
          "2 to 5",
          "16 to 20",
          "1",
          "6 to 10",
          "1",
          "6 to 10",
          "1",
          "1",
          "1",
          "2 to 5",
          "11 to 15",
          "2 to 5",
          "2 to 5",
          "2 to 5",
          "6 to 10",
          "2 to 5",
          "6 to 10",
          "6 to 10",
          "2 to 5",
          "2 to 5",
          "1",
          "1",
          "2 to 5",
          "2 to 5",
          "2 to 5",
          "1",
          "6 to 10",
          "1",
          "6 to 10",
          "6 to 10",
          "2 to 5",
          "1",
          "1",
          "2 to 5",
          "1",
          "2 to 5",
          "2 to 5",
          "2 to 5",
          "2 to 5",
          "1",
          "6 to 10",
          "2 to 5",
          "2 to 5",
          "1",
          "1",
          "1",
          "1",
          "16 to 20",
          "6 to 10",
          "11 to 15",
          "2 to 5",
          "1",
          "6 to 10",
          "1",
          "1",
          "2 to 5",
          "2 to 5",
          "2 to 5",
          "2 to 5",
          "2 to 5",
          "2 to 5",
          "2 to 5",
          "2 to 5",
          "2 to 5",
          "11 to 15",
          "6 to 10",
          "6 to 10",
          "11 to 15",
          "2 to 5",
          "1",
          "6 to 10",
          "6 to 10",
          "16 to 20",
          "6 to 10",
          "11 to 15",
          "6 to 10",
          "2 to 5",
          "2 to 5",
          "2 to 5",
          "2 to 5",
          "2 to 5",
          "6 to 10",
          "6 to 10",
          "2 to 5",
          "2 to 5",
          "1",
          "2 to 5",
          "6 to 10",
          "2 to 5",
          "11 to 15",
          "6 to 10",
          "11 to 15",
          "11 to 15",
          "2 to 5",
          "6 to 10",
          "6 to 10",
          "2 to 5",
          "1",
          "2 to 5",
          "2 to 5",
          "1",
          "2 to 5",
          "2 to 5",
          "6 to 10",
          "2 to 5",
          "2 to 5",
          "2 to 5",
          "1",
          "2 to 5",
          "2 to 5",
          "6 to 10",
          "2 to 5",
          "6 to 10",
          "11 to 15",
          "21 or more",
          "11 to 15",
          "2 to 5",
          "2 to 5",
          "1",
          "2 to 5",
          "16 to 20",
          "2 to 5",
          "2 to 5",
          "6 to 10",
          "6 to 10",
          "6 to 10",
          "2 to 5",
          "6 to 10",
          "2 to 5",
          "2 to 5",
          "2 to 5",
          "2 to 5",
          "2 to 5",
          "2 to 5",
          "11 to 15",
          "11 to 15",
          "2 to 5",
          "6 to 10",
          "2 to 5",
          "2 to 5",
          "2 to 5",
          "2 to 5",
          "11 to 15",
          "2 to 5",
          "2 to 5",
          "11 to 15",
          "2 to 5",
          "2 to 5",
          "2 to 5",
          "2 to 5",
          "1",
          "1",
          "2 to 5",
          "2 to 5",
          "11 to 15",
          "21 or more",
          "2 to 5",
          "16 to 20",
          "2 to 5",
          "2 to 5",
          "11 to 15",
          "21 or more",
          "6 to 10",
          "21 or more",
          "1",
          "11 to 15",
          "1",
          "2 to 5",
          "6 to 10",
          "2 to 5",
          "2 to 5",
          "2 to 5",
          "2 to 5",
          "2 to 5",
          "2 to 5",
          "2 to 5",
          "11 to 15",
          "1",
          "2 to 5",
          "1",
          "1",
          "2 to 5",
          "2 to 5",
          "2 to 5",
          "2 to 5",
          "1",
          "6 to 10",
          "2 to 5",
          "2 to 5",
          "2 to 5",
          "2 to 5",
          "16 to 20",
          "6 to 10",
          "2 to 5",
          "1",
          "2 to 5",
          "2 to 5"
         ],
         "x0": " ",
         "xaxis": "x",
         "y": {
          "bdata": "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",
          "dtype": "f8"
         },
         "y0": " ",
         "yaxis": "y"
        }
       ],
       "layout": {
        "autosize": true,
        "boxmode": "group",
        "height": 600,
        "legend": {
         "tracegroupgap": 0
        },
        "paper_bgcolor": "white",
        "plot_bgcolor": "white",
        "template": {
         "data": {
          "bar": [
           {
            "error_x": {
             "color": "#2a3f5f"
            },
            "error_y": {
             "color": "#2a3f5f"
            },
            "marker": {
             "line": {
              "color": "#E5ECF6",
              "width": 0.5
             },
             "pattern": {
              "fillmode": "overlay",
              "size": 10,
              "solidity": 0.2
             }
            },
            "type": "bar"
           }
          ],
          "barpolar": [
           {
            "marker": {
             "line": {
              "color": "#E5ECF6",
              "width": 0.5
             },
             "pattern": {
              "fillmode": "overlay",
              "size": 10,
              "solidity": 0.2
             }
            },
            "type": "barpolar"
           }
          ],
          "carpet": [
           {
            "aaxis": {
             "endlinecolor": "#2a3f5f",
             "gridcolor": "white",
             "linecolor": "white",
             "minorgridcolor": "white",
             "startlinecolor": "#2a3f5f"
            },
            "baxis": {
             "endlinecolor": "#2a3f5f",
             "gridcolor": "white",
             "linecolor": "white",
             "minorgridcolor": "white",
             "startlinecolor": "#2a3f5f"
            },
            "type": "carpet"
           }
          ],
          "choropleth": [
           {
            "colorbar": {
             "outlinewidth": 0,
             "ticks": ""
            },
            "type": "choropleth"
           }
          ],
          "contour": [
           {
            "colorbar": {
             "outlinewidth": 0,
             "ticks": ""
            },
            "colorscale": [
             [
              0,
              "#0d0887"
             ],
             [
              0.1111111111111111,
              "#46039f"
             ],
             [
              0.2222222222222222,
              "#7201a8"
             ],
             [
              0.3333333333333333,
              "#9c179e"
             ],
             [
              0.4444444444444444,
              "#bd3786"
             ],
             [
              0.5555555555555556,
              "#d8576b"
             ],
             [
              0.6666666666666666,
              "#ed7953"
             ],
             [
              0.7777777777777778,
              "#fb9f3a"
             ],
             [
              0.8888888888888888,
              "#fdca26"
             ],
             [
              1,
              "#f0f921"
             ]
            ],
            "type": "contour"
           }
          ],
          "contourcarpet": [
           {
            "colorbar": {
             "outlinewidth": 0,
             "ticks": ""
            },
            "type": "contourcarpet"
           }
          ],
          "heatmap": [
           {
            "colorbar": {
             "outlinewidth": 0,
             "ticks": ""
            },
            "colorscale": [
             [
              0,
              "#0d0887"
             ],
             [
              0.1111111111111111,
              "#46039f"
             ],
             [
              0.2222222222222222,
              "#7201a8"
             ],
             [
              0.3333333333333333,
              "#9c179e"
             ],
             [
              0.4444444444444444,
              "#bd3786"
             ],
             [
              0.5555555555555556,
              "#d8576b"
             ],
             [
              0.6666666666666666,
              "#ed7953"
             ],
             [
              0.7777777777777778,
              "#fb9f3a"
             ],
             [
              0.8888888888888888,
              "#fdca26"
             ],
             [
              1,
              "#f0f921"
             ]
            ],
            "type": "heatmap"
           }
          ],
          "histogram": [
           {
            "marker": {
             "pattern": {
              "fillmode": "overlay",
              "size": 10,
              "solidity": 0.2
             }
            },
            "type": "histogram"
           }
          ],
          "histogram2d": [
           {
            "colorbar": {
             "outlinewidth": 0,
             "ticks": ""
            },
            "colorscale": [
             [
              0,
              "#0d0887"
             ],
             [
              0.1111111111111111,
              "#46039f"
             ],
             [
              0.2222222222222222,
              "#7201a8"
             ],
             [
              0.3333333333333333,
              "#9c179e"
             ],
             [
              0.4444444444444444,
              "#bd3786"
             ],
             [
              0.5555555555555556,
              "#d8576b"
             ],
             [
              0.6666666666666666,
              "#ed7953"
             ],
             [
              0.7777777777777778,
              "#fb9f3a"
             ],
             [
              0.8888888888888888,
              "#fdca26"
             ],
             [
              1,
              "#f0f921"
             ]
            ],
            "type": "histogram2d"
           }
          ],
          "histogram2dcontour": [
           {
            "colorbar": {
             "outlinewidth": 0,
             "ticks": ""
            },
            "colorscale": [
             [
              0,
              "#0d0887"
             ],
             [
              0.1111111111111111,
              "#46039f"
             ],
             [
              0.2222222222222222,
              "#7201a8"
             ],
             [
              0.3333333333333333,
              "#9c179e"
             ],
             [
              0.4444444444444444,
              "#bd3786"
             ],
             [
              0.5555555555555556,
              "#d8576b"
             ],
             [
              0.6666666666666666,
              "#ed7953"
             ],
             [
              0.7777777777777778,
              "#fb9f3a"
             ],
             [
              0.8888888888888888,
              "#fdca26"
             ],
             [
              1,
              "#f0f921"
             ]
            ],
            "type": "histogram2dcontour"
           }
          ],
          "mesh3d": [
           {
            "colorbar": {
             "outlinewidth": 0,
             "ticks": ""
            },
            "type": "mesh3d"
           }
          ],
          "parcoords": [
           {
            "line": {
             "colorbar": {
              "outlinewidth": 0,
              "ticks": ""
             }
            },
            "type": "parcoords"
           }
          ],
          "pie": [
           {
            "automargin": true,
            "type": "pie"
           }
          ],
          "scatter": [
           {
            "fillpattern": {
             "fillmode": "overlay",
             "size": 10,
             "solidity": 0.2
            },
            "type": "scatter"
           }
          ],
          "scatter3d": [
           {
            "line": {
             "colorbar": {
              "outlinewidth": 0,
              "ticks": ""
             }
            },
            "marker": {
             "colorbar": {
              "outlinewidth": 0,
              "ticks": ""
             }
            },
            "type": "scatter3d"
           }
          ],
          "scattercarpet": [
           {
            "marker": {
             "colorbar": {
              "outlinewidth": 0,
              "ticks": ""
             }
            },
            "type": "scattercarpet"
           }
          ],
          "scattergeo": [
           {
            "marker": {
             "colorbar": {
              "outlinewidth": 0,
              "ticks": ""
             }
            },
            "type": "scattergeo"
           }
          ],
          "scattergl": [
           {
            "marker": {
             "colorbar": {
              "outlinewidth": 0,
              "ticks": ""
             }
            },
            "type": "scattergl"
           }
          ],
          "scattermap": [
           {
            "marker": {
             "colorbar": {
              "outlinewidth": 0,
              "ticks": ""
             }
            },
            "type": "scattermap"
           }
          ],
          "scattermapbox": [
           {
            "marker": {
             "colorbar": {
              "outlinewidth": 0,
              "ticks": ""
             }
            },
            "type": "scattermapbox"
           }
          ],
          "scatterpolar": [
           {
            "marker": {
             "colorbar": {
              "outlinewidth": 0,
              "ticks": ""
             }
            },
            "type": "scatterpolar"
           }
          ],
          "scatterpolargl": [
           {
            "marker": {
             "colorbar": {
              "outlinewidth": 0,
              "ticks": ""
             }
            },
            "type": "scatterpolargl"
           }
          ],
          "scatterternary": [
           {
            "marker": {
             "colorbar": {
              "outlinewidth": 0,
              "ticks": ""
             }
            },
            "type": "scatterternary"
           }
          ],
          "surface": [
           {
            "colorbar": {
             "outlinewidth": 0,
             "ticks": ""
            },
            "colorscale": [
             [
              0,
              "#0d0887"
             ],
             [
              0.1111111111111111,
              "#46039f"
             ],
             [
              0.2222222222222222,
              "#7201a8"
             ],
             [
              0.3333333333333333,
              "#9c179e"
             ],
             [
              0.4444444444444444,
              "#bd3786"
             ],
             [
              0.5555555555555556,
              "#d8576b"
             ],
             [
              0.6666666666666666,
              "#ed7953"
             ],
             [
              0.7777777777777778,
              "#fb9f3a"
             ],
             [
              0.8888888888888888,
              "#fdca26"
             ],
             [
              1,
              "#f0f921"
             ]
            ],
            "type": "surface"
           }
          ],
          "table": [
           {
            "cells": {
             "fill": {
              "color": "#EBF0F8"
             },
             "line": {
              "color": "white"
             }
            },
            "header": {
             "fill": {
              "color": "#C8D4E3"
             },
             "line": {
              "color": "white"
             }
            },
            "type": "table"
           }
          ]
         },
         "layout": {
          "annotationdefaults": {
           "arrowcolor": "#2a3f5f",
           "arrowhead": 0,
           "arrowwidth": 1
          },
          "autotypenumbers": "strict",
          "coloraxis": {
           "colorbar": {
            "outlinewidth": 0,
            "ticks": ""
           }
          },
          "colorscale": {
           "diverging": [
            [
             0,
             "#8e0152"
            ],
            [
             0.1,
             "#c51b7d"
            ],
            [
             0.2,
             "#de77ae"
            ],
            [
             0.3,
             "#f1b6da"
            ],
            [
             0.4,
             "#fde0ef"
            ],
            [
             0.5,
             "#f7f7f7"
            ],
            [
             0.6,
             "#e6f5d0"
            ],
            [
             0.7,
             "#b8e186"
            ],
            [
             0.8,
             "#7fbc41"
            ],
            [
             0.9,
             "#4d9221"
            ],
            [
             1,
             "#276419"
            ]
           ],
           "sequential": [
            [
             0,
             "#0d0887"
            ],
            [
             0.1111111111111111,
             "#46039f"
            ],
            [
             0.2222222222222222,
             "#7201a8"
            ],
            [
             0.3333333333333333,
             "#9c179e"
            ],
            [
             0.4444444444444444,
             "#bd3786"
            ],
            [
             0.5555555555555556,
             "#d8576b"
            ],
            [
             0.6666666666666666,
             "#ed7953"
            ],
            [
             0.7777777777777778,
             "#fb9f3a"
            ],
            [
             0.8888888888888888,
             "#fdca26"
            ],
            [
             1,
             "#f0f921"
            ]
           ],
           "sequentialminus": [
            [
             0,
             "#0d0887"
            ],
            [
             0.1111111111111111,
             "#46039f"
            ],
            [
             0.2222222222222222,
             "#7201a8"
            ],
            [
             0.3333333333333333,
             "#9c179e"
            ],
            [
             0.4444444444444444,
             "#bd3786"
            ],
            [
             0.5555555555555556,
             "#d8576b"
            ],
            [
             0.6666666666666666,
             "#ed7953"
            ],
            [
             0.7777777777777778,
             "#fb9f3a"
            ],
            [
             0.8888888888888888,
             "#fdca26"
            ],
            [
             1,
             "#f0f921"
            ]
           ]
          },
          "colorway": [
           "#636efa",
           "#EF553B",
           "#00cc96",
           "#ab63fa",
           "#FFA15A",
           "#19d3f3",
           "#FF6692",
           "#B6E880",
           "#FF97FF",
           "#FECB52"
          ],
          "font": {
           "color": "#2a3f5f"
          },
          "geo": {
           "bgcolor": "white",
           "lakecolor": "white",
           "landcolor": "#E5ECF6",
           "showlakes": true,
           "showland": true,
           "subunitcolor": "white"
          },
          "hoverlabel": {
           "align": "left"
          },
          "hovermode": "closest",
          "mapbox": {
           "style": "light"
          },
          "paper_bgcolor": "white",
          "plot_bgcolor": "#E5ECF6",
          "polar": {
           "angularaxis": {
            "gridcolor": "white",
            "linecolor": "white",
            "ticks": ""
           },
           "bgcolor": "#E5ECF6",
           "radialaxis": {
            "gridcolor": "white",
            "linecolor": "white",
            "ticks": ""
           }
          },
          "scene": {
           "xaxis": {
            "backgroundcolor": "#E5ECF6",
            "gridcolor": "white",
            "gridwidth": 2,
            "linecolor": "white",
            "showbackground": true,
            "ticks": "",
            "zerolinecolor": "white"
           },
           "yaxis": {
            "backgroundcolor": "#E5ECF6",
            "gridcolor": "white",
            "gridwidth": 2,
            "linecolor": "white",
            "showbackground": true,
            "ticks": "",
            "zerolinecolor": "white"
           },
           "zaxis": {
            "backgroundcolor": "#E5ECF6",
            "gridcolor": "white",
            "gridwidth": 2,
            "linecolor": "white",
            "showbackground": true,
            "ticks": "",
            "zerolinecolor": "white"
           }
          },
          "shapedefaults": {
           "line": {
            "color": "#2a3f5f"
           }
          },
          "ternary": {
           "aaxis": {
            "gridcolor": "white",
            "linecolor": "white",
            "ticks": ""
           },
           "baxis": {
            "gridcolor": "white",
            "linecolor": "white",
            "ticks": ""
           },
           "bgcolor": "#E5ECF6",
           "caxis": {
            "gridcolor": "white",
            "linecolor": "white",
            "ticks": ""
           }
          },
          "title": {
           "x": 0.05
          },
          "xaxis": {
           "automargin": true,
           "gridcolor": "white",
           "linecolor": "white",
           "ticks": "",
           "title": {
            "standoff": 15
           },
           "zerolinecolor": "white",
           "zerolinewidth": 2
          },
          "yaxis": {
           "automargin": true,
           "gridcolor": "white",
           "linecolor": "white",
           "ticks": "",
           "title": {
            "standoff": 15
           },
           "zerolinecolor": "white",
           "zerolinewidth": 2
          }
         }
        },
        "title": {
         "font": {
          "color": "black",
          "family": "Arial",
          "size": 16,
          "weight": "bold"
         },
         "text": "Embodied Carbon Intensities Grouped by Building Stories",
         "x": 0.5,
         "xanchor": "center",
         "yanchor": "top"
        },
        "width": 800,
        "xaxis": {
         "anchor": "y",
         "categoryarray": [
          "1",
          "2 to 5",
          "6 to 10",
          "11 to 15",
          "16 to 20",
          "21 or more"
         ],
         "categoryorder": "array",
         "domain": [
          0,
          1
         ],
         "scaleanchor": "y",
         "ticktext": [
          "1 [49]",
          "2 to 5 [117]",
          "6 to 10 [41]",
          "11 to 15 [19]",
          "16 to 20 [7]",
          "21 or more [7]"
         ],
         "tickvals": [
          "1",
          "2 to 5",
          "6 to 10",
          "11 to 15",
          "16 to 20",
          "21 or more"
         ],
         "title": {
          "text": "Building Stories Above Ground"
         }
        },
        "yaxis": {
         "anchor": "x",
         "domain": [
          0,
          1
         ],
         "gridcolor": "lightgrey",
         "showgrid": true,
         "title": {
          "text": "Normalized Embodied Carbon Intensity (CFA)"
         }
        }
       }
      }
     },
     "metadata": {},
     "output_type": "display_data"
    },
    {
     "name": "stdout",
     "output_type": "stream",
     "text": [
      "bldg_stories_above\n",
      "1              49\n",
      "2 to 5        117\n",
      "6 to 10        41\n",
      "11 to 15       19\n",
      "16 to 20        7\n",
      "21 or more      7\n",
      "Name: count, dtype: int64\n"
     ]
    }
   ],
   "source": [
    "\n",
    "# Create a box and whisker plot for the \"eci_a_to_c_cfa\" field grouped by \"bldg_stories_above\"\n",
    "fig1 = px.box(\n",
    "    filtered_bldgs_df1,\n",
    "    x='bldg_stories_above',\n",
    "    y='eci_a_to_c_cfa',\n",
    "    title='Embodied Carbon Intensities Grouped by Building Stories',\n",
    "    labels={\n",
    "        'bldg_stories_above': 'Building Stories Above Ground',\n",
    "        'eci_a_to_c_cfa': 'Normalized Embodied Carbon Intensity (CFA)',\n",
    "        'lca_phys_scope': 'LCA Physical Scope',\n",
    "        'lca_software': 'LCA Software'\n",
    "    },\n",
    "    category_orders={'bldg_stories_above': stories_order},  # Ensure correct order\n",
    "    hover_data=['lca_phys_scope', 'lca_software']  # Include lca_phys_scope in hover data\n",
    ")\n",
    "\n",
    "# Add all data points as dots with slight transparency and a different color\n",
    "fig1.update_traces(\n",
    "    boxpoints='all',\n",
    "    jitter=0.3,\n",
    "    pointpos=0,\n",
    "    marker=dict(color='rgba(28, 144, 153, 0.5)'),\n",
    "    fillcolor='rgb(236,226,240)',\n",
    "    line=dict(color='rgb(166,189,219)')\n",
    ")\n",
    "\n",
    "# Update the y-axis to limit the max value and relabel it\n",
    "fig1.update_yaxes(\n",
    "    title_text='Normalized Embodied Carbon Intensity (CFA)',\n",
    "    showgrid=True,\n",
    "    gridcolor='lightgrey'\n",
    ")\n",
    "\n",
    "# Update the x-axis to include the counts in the labels\n",
    "x_labels_with_counts = [f\"{bucket} [{int(count)}]\" for bucket, count in bucket_counts.items()]\n",
    "\n",
    "fig1.update_xaxes(\n",
    "    ticktext=x_labels_with_counts,  # Use the updated labels with counts\n",
    "    tickvals=stories_order # Match the original categories\n",
    ")\n",
    "\n",
    "\n",
    "# Update the title\n",
    "fig1.update_layout(\n",
    "    title={\n",
    "        'text': 'Embodied Carbon Intensities Grouped by Building Stories',\n",
    "        'x': 0.5,\n",
    "        'xanchor': 'center',\n",
    "        'yanchor': 'top',\n",
    "        'font': {'size': 16, 'family': 'Arial', 'color': 'black', 'weight': 'bold'}\n",
    "    },\n",
    "    plot_bgcolor='white',\n",
    "    paper_bgcolor='white',\n",
    "    autosize=True,\n",
    "    height=600,\n",
    "    width=800,\n",
    "    xaxis=dict(scaleanchor=\"y\"),  # Lock the aspect ratio between x and y axes\n",
    ")\n",
    "\n",
    "# Show the plot\n",
    "fig1.show()\n",
    "\n",
    "print(bucket_counts)\n"
   ]
  },
  {
   "cell_type": "markdown",
   "metadata": {},
   "source": [
    "---"
   ]
  },
  {
   "cell_type": "markdown",
   "metadata": {},
   "source": [
    "### Plotting Building Height vs Carbon Intensity"
   ]
  },
  {
   "cell_type": "markdown",
   "metadata": {},
   "source": [
    "#### Cleaning & Filtering Data"
   ]
  },
  {
   "cell_type": "code",
   "execution_count": 138,
   "metadata": {},
   "outputs": [],
   "source": [
    "def remove_outliers(df, col_names):\n",
    "    \"\"\"\n",
    "    Remove extreme outliers based on IQR method\n",
    "    \"\"\"\n",
    "    q1 = df[col_names].quantile(0.25)\n",
    "    q3 = df[col_names].quantile(0.75)\n",
    "    iqr = q3 - q1\n",
    "\n",
    "    df = df[~((df[col_names] < (q1 - 1.5 * iqr)) |(df[col_names] > (q3 + 1.5 * iqr))).any(axis=1)]\n",
    "\n",
    "    return df"
   ]
  },
  {
   "cell_type": "code",
   "execution_count": 139,
   "metadata": {},
   "outputs": [],
   "source": [
    "# Make a copy of the original dataframe and remove rows with nulls in the \"bldg_height\" field\n",
    "filtered_bldgs_df2 = buildings_metadata_df.copy()\n",
    "filtered_bldgs_df2 = filtered_bldgs_df2.dropna(subset=['bldg_height'])\n",
    "\n",
    "# Remove outliers based on 'eci_a_to_c_cfa'\n",
    "filtered_bldgs_df2 = remove_outliers(filtered_bldgs_df2, ['eci_a_to_c_cfa'])\n",
    "\n",
    "# Limit to New Construction\n",
    "filtered_bldgs_df2 = filtered_bldgs_df2[filtered_bldgs_df2['bldg_proj_type'] == 'New Construction']\n",
    "\n",
    "# Calculate the count of data points in each bucket\n",
    "height_order = ['0-7.5 m', '7.6-15 m', '15.1-22.5 m', '22.6-30 m', '31-45 m', '46-60 m', '61-90 m', 'Over 90 m']\n",
    "bucket_counts2 = filtered_bldgs_df2['bldg_height'].value_counts()\n",
    "bucket_counts2 = bucket_counts2.reindex(height_order)  # Ensure correct order"
   ]
  },
  {
   "cell_type": "markdown",
   "metadata": {},
   "source": [
    "#### Plotting Data"
   ]
  },
  {
   "cell_type": "code",
   "execution_count": 166,
   "metadata": {},
   "outputs": [
    {
     "data": {
      "application/vnd.plotly.v1+json": {
       "config": {
        "plotlyServerURL": "https://plotly.com"
       },
       "data": [
        {
         "alignmentgroup": "True",
         "boxpoints": "all",
         "customdata": [
          [
           "BSECF",
           "Tally LCA"
          ],
          [
           "BSE",
           "One Click LCA"
          ],
          [
           "BSECF",
           "Tally LCA"
          ],
          [
           "BSE",
           "Tally LCA"
          ],
          [
           "BSECF",
           "Tally LCA"
          ],
          [
           "BSECF",
           "One Click LCA"
          ],
          [
           "BSECF",
           "Tally LCA"
          ],
          [
           "BSECF",
           "One Click LCA"
          ],
          [
           "BSECF",
           "Tally LCA"
          ],
          [
           "BSECF",
           "Tally LCA"
          ],
          [
           "BSECF",
           "Tally LCA"
          ],
          [
           "BSECF",
           "One Click LCA"
          ],
          [
           "BSECF",
           "Tally LCA"
          ],
          [
           "BSE",
           "One Click LCA"
          ],
          [
           "BSECF",
           "One Click LCA"
          ],
          [
           "BSECF",
           "One Click LCA"
          ],
          [
           "BSECF",
           "Tally LCA"
          ],
          [
           "BSECF",
           "Tally LCA"
          ],
          [
           "BSECF",
           "Tally LCA"
          ],
          [
           "BSECF",
           "One Click LCA"
          ],
          [
           "BSECF",
           "Tally LCA"
          ],
          [
           "BSECF",
           "Tally LCA"
          ],
          [
           "BSECF",
           "Tally LCA"
          ],
          [
           "BSE",
           "Tally LCA"
          ],
          [
           "BSECF",
           "Tally LCA"
          ],
          [
           "BSECF",
           "Tally LCA"
          ],
          [
           "BSECF",
           "Tally LCA"
          ],
          [
           "BSECF",
           "Tally LCA"
          ],
          [
           "BSE",
           "One Click LCA"
          ],
          [
           "BSE",
           "One Click LCA"
          ],
          [
           "BSECF",
           "Tally LCA"
          ],
          [
           "BSE",
           "One Click LCA"
          ],
          [
           "BSECF",
           "Tally LCA"
          ],
          [
           "BSE",
           "One Click LCA"
          ],
          [
           "BSECF",
           "Tally LCA"
          ],
          [
           "BSECF",
           "One Click LCA"
          ],
          [
           "BSE",
           "Tally LCA"
          ],
          [
           "BSECF",
           "One Click LCA"
          ],
          [
           "BSECF",
           "One Click LCA"
          ],
          [
           "BSECF",
           "Tally LCA"
          ],
          [
           "BSECF",
           "Tally LCA"
          ],
          [
           "BSECF",
           "Tally LCA"
          ],
          [
           "BSEC",
           "Tally LCA"
          ],
          [
           "BSEC",
           "Tally LCA"
          ],
          [
           "BSECF",
           "One Click LCA"
          ],
          [
           "BSECF",
           "Tally LCA"
          ],
          [
           "BSECF",
           "Tally LCA"
          ],
          [
           "BSECF",
           "Tally LCA"
          ],
          [
           "BSECF",
           "Tally LCA"
          ],
          [
           "BSECF",
           "Tally LCA"
          ],
          [
           "BSE",
           "One Click LCA"
          ],
          [
           "BSECF",
           "Tally LCA"
          ],
          [
           "BSE",
           "One Click LCA"
          ],
          [
           "BSECF",
           "One Click LCA"
          ],
          [
           "BSECF",
           "One Click LCA"
          ],
          [
           "BSE",
           "One Click LCA"
          ],
          [
           "BSE",
           "One Click LCA"
          ],
          [
           "BSE",
           "One Click LCA"
          ],
          [
           "BSECF",
           "Tally LCA"
          ],
          [
           "BSE",
           "One Click LCA"
          ],
          [
           "BSE",
           "One Click LCA"
          ],
          [
           "BSE",
           "One Click LCA"
          ],
          [
           "BSE",
           "One Click LCA"
          ],
          [
           "BSE",
           "One Click LCA"
          ],
          [
           "BSE",
           "One Click LCA"
          ],
          [
           "BSE",
           "One Click LCA"
          ],
          [
           "BSEC",
           "One Click LCA"
          ],
          [
           "BSE",
           "One Click LCA"
          ],
          [
           "BSECF",
           "Tally LCA"
          ],
          [
           "BSECF",
           "Tally LCA"
          ],
          [
           "BSECF",
           "Tally LCA"
          ],
          [
           "BSECF",
           "Tally LCA"
          ],
          [
           "BSECF",
           "Tally LCA"
          ],
          [
           "BSECF",
           "Tally LCA"
          ],
          [
           "BSECF",
           "Tally LCA"
          ],
          [
           "BSECF",
           "Tally LCA"
          ],
          [
           "BSE",
           "Tally LCA"
          ],
          [
           "BSECF",
           "Tally LCA"
          ],
          [
           "BSECF",
           "Tally LCA"
          ],
          [
           "BSECF",
           "Tally LCA"
          ],
          [
           "BSECF",
           "Tally LCA"
          ],
          [
           "BSECF",
           "Tally LCA"
          ],
          [
           "BSECF",
           "Tally LCA"
          ],
          [
           "BSECF",
           "Tally LCA"
          ],
          [
           "BSECF",
           "Tally LCA"
          ],
          [
           "BSECF",
           "Tally LCA"
          ],
          [
           "BSECF",
           "One Click LCA"
          ],
          [
           "BSECF",
           "Tally LCA"
          ],
          [
           "BSECF",
           "Tally LCA"
          ],
          [
           "BSE",
           "Tally LCA"
          ],
          [
           "BSECF",
           "Tally LCA"
          ],
          [
           "BSEC",
           "One Click LCA"
          ],
          [
           "BSE",
           "One Click LCA"
          ],
          [
           "BSEF",
           "Tally LCA"
          ],
          [
           "BSECF",
           "One Click LCA"
          ],
          [
           "BSECF",
           "One Click LCA"
          ],
          [
           "BSECF",
           "Tally LCA"
          ],
          [
           "BSECF",
           "Tally LCA"
          ],
          [
           "BSE",
           "One Click LCA"
          ],
          [
           "BSEF",
           "Tally LCA"
          ],
          [
           "BSE",
           "Tally LCA"
          ],
          [
           "BSE",
           "Tally LCA"
          ],
          [
           "BSECF",
           "Tally LCA"
          ],
          [
           "BSECF",
           "Tally LCA"
          ],
          [
           "BSE",
           "Tally LCA"
          ],
          [
           "BSECF",
           "One Click LCA"
          ],
          [
           "BSE",
           "One Click LCA"
          ],
          [
           "BSECF",
           "Tally LCA"
          ],
          [
           "BSECF",
           "Tally LCA"
          ],
          [
           "BSE",
           "One Click LCA"
          ],
          [
           "BSE",
           "One Click LCA"
          ],
          [
           "BSE",
           "One Click LCA"
          ],
          [
           "BSE",
           "One Click LCA"
          ],
          [
           "BSE",
           "One Click LCA"
          ],
          [
           "BSE",
           "One Click LCA"
          ],
          [
           "BSECF",
           "Tally LCA"
          ],
          [
           "BSECF",
           "Tally LCA"
          ],
          [
           "BSECF",
           "Tally LCA"
          ],
          [
           "BSECF",
           "Tally LCA"
          ],
          [
           "BSECF",
           "Tally LCA"
          ],
          [
           "BSECF",
           "Tally LCA"
          ],
          [
           "BSECF",
           "Tally LCA"
          ],
          [
           "BSECF",
           "Tally LCA"
          ],
          [
           "BSECF",
           "Tally LCA"
          ],
          [
           "BSECF",
           "Tally LCA"
          ],
          [
           "BSECF",
           "Tally LCA"
          ],
          [
           "BSECF",
           "One Click LCA"
          ],
          [
           "BSE",
           "Tally LCA"
          ],
          [
           "BSECF",
           "Tally LCA"
          ],
          [
           "BSE",
           "Tally LCA"
          ],
          [
           "BSECF",
           "Tally LCA"
          ],
          [
           "BSECF",
           "Tally LCA"
          ],
          [
           "BSECF",
           "Tally LCA"
          ],
          [
           "BSECF",
           "Tally LCA"
          ],
          [
           "BSECF",
           "Tally LCA"
          ],
          [
           "BSECF",
           "Tally LCA"
          ],
          [
           "BSECF",
           "Tally LCA"
          ],
          [
           "BSE",
           "Tally LCA"
          ],
          [
           "BSECF",
           "Tally LCA"
          ],
          [
           "BSECF",
           "Tally LCA"
          ],
          [
           "BSECF",
           "Tally LCA"
          ],
          [
           "BSECF",
           "Tally LCA"
          ],
          [
           "BSECF",
           "Tally LCA"
          ],
          [
           "BSECF",
           "Tally LCA"
          ],
          [
           "BSECF",
           "Tally LCA"
          ],
          [
           "BSECF",
           "Tally LCA"
          ],
          [
           "BSECF",
           "Tally LCA"
          ],
          [
           "BSE",
           "Tally LCA"
          ],
          [
           "BSECF",
           "Tally LCA"
          ],
          [
           "BSECF",
           "Tally LCA"
          ],
          [
           "BSECF",
           "Tally LCA"
          ],
          [
           "BSECF",
           "Tally LCA"
          ],
          [
           "BSECF",
           "Tally LCA"
          ],
          [
           "BSECF",
           "Tally LCA"
          ],
          [
           "BSECF",
           "Tally LCA"
          ],
          [
           "BSECF",
           "Tally LCA"
          ],
          [
           "BSECF",
           "Tally LCA"
          ],
          [
           "BSE",
           "Tally LCA"
          ],
          [
           "BSECF",
           "Tally LCA"
          ],
          [
           "BSE",
           "Tally LCA"
          ],
          [
           "BSECF",
           "Tally LCA"
          ],
          [
           "BSECF",
           "Tally LCA"
          ],
          [
           "BSECF",
           "Tally LCA"
          ],
          [
           "BSECF",
           "Tally LCA"
          ],
          [
           "BSECF",
           "Tally LCA"
          ],
          [
           "BSECF",
           "Tally LCA"
          ],
          [
           "BSE",
           "One Click LCA"
          ],
          [
           "BSE",
           "One Click LCA"
          ],
          [
           "BSECF",
           "Tally LCA"
          ],
          [
           "BSECF",
           "Tally LCA"
          ],
          [
           "BSECF",
           "Tally LCA"
          ],
          [
           "BSECF",
           "Tally LCA"
          ],
          [
           "BSECF",
           "Tally LCA"
          ],
          [
           "BSE",
           "One Click LCA"
          ],
          [
           "BSE",
           "One Click LCA"
          ],
          [
           "BSE",
           "One Click LCA"
          ],
          [
           "BSECF",
           "Tally LCA"
          ],
          [
           "BSECF",
           "Tally LCA"
          ],
          [
           "BSE",
           "Tally LCA"
          ],
          [
           "BSE",
           "Tally LCA"
          ],
          [
           "BSECF",
           "One Click LCA"
          ],
          [
           "BSECF",
           "Tally LCA"
          ],
          [
           "BSE",
           "Tally LCA"
          ],
          [
           "BSECF",
           "Tally LCA"
          ],
          [
           "BSECF",
           "Tally LCA"
          ],
          [
           "BSE",
           "One Click LCA"
          ],
          [
           "BSEF",
           "Tally LCA"
          ],
          [
           "BSECF",
           "One Click LCA"
          ],
          [
           "BSECF",
           "One Click LCA"
          ],
          [
           "BSE",
           "Tally LCA"
          ],
          [
           "BSE",
           "Tally LCA"
          ],
          [
           "BSE",
           "Tally LCA"
          ],
          [
           "BSECF",
           "One Click LCA"
          ],
          [
           "BSE",
           "One Click LCA"
          ],
          [
           "BSECF",
           "One Click LCA"
          ],
          [
           "BSECF",
           "Tally LCA"
          ],
          [
           "BSE",
           "One Click LCA"
          ],
          [
           "BSECF",
           "Tally LCA"
          ],
          [
           "BSE",
           "One Click LCA"
          ],
          [
           "BSE",
           "One Click LCA"
          ],
          [
           "BSE",
           "One Click LCA"
          ],
          [
           "BSE",
           "One Click LCA"
          ],
          [
           "BSE",
           "One Click LCA"
          ],
          [
           "BSE",
           "One Click LCA"
          ],
          [
           "BSE",
           "One Click LCA"
          ],
          [
           "BSE",
           "One Click LCA"
          ],
          [
           "BSE",
           "Tally LCA"
          ],
          [
           "BSECF",
           "Tally LCA"
          ],
          [
           "BSECF",
           "Tally LCA"
          ],
          [
           "BSECF",
           "Tally LCA"
          ],
          [
           "BSECF",
           "Tally LCA"
          ],
          [
           "BSECF",
           "Tally LCA"
          ],
          [
           "BSECF",
           "Tally LCA"
          ],
          [
           "BSE",
           "One Click LCA"
          ],
          [
           "BSECF",
           "Tally LCA"
          ],
          [
           "BSECF",
           "One Click LCA"
          ],
          [
           "BSE",
           "One Click LCA"
          ],
          [
           "BSE",
           "One Click LCA"
          ],
          [
           "BSE",
           "One Click LCA"
          ],
          [
           "BSECF",
           "Tally LCA"
          ],
          [
           "BSECF",
           "Tally LCA"
          ],
          [
           "BSECF",
           "Tally LCA"
          ],
          [
           "BSE",
           "One Click LCA"
          ],
          [
           "BSEC",
           "One Click LCA"
          ],
          [
           "BSECF",
           "Tally LCA"
          ],
          [
           "BSE",
           "One Click LCA"
          ],
          [
           "BSE",
           "One Click LCA"
          ],
          [
           "BSE",
           "Tally LCA"
          ],
          [
           "BSE",
           "One Click LCA"
          ],
          [
           "BSE",
           "Tally LCA"
          ],
          [
           "BSECF",
           "Tally LCA"
          ],
          [
           "BSE",
           "One Click LCA"
          ],
          [
           "BSE",
           "One Click LCA"
          ],
          [
           "BSECF",
           "Tally LCA"
          ]
         ],
         "fillcolor": "rgb(236,226,240)",
         "hovertemplate": "Building Height=%{x}<br>Normalized Embodied Carbon Intensity (CFA)=%{y}<br>LCA Physical Scope=%{customdata[0]}<br>LCA Software=%{customdata[1]}<extra></extra>",
         "jitter": 0.3,
         "legendgroup": "",
         "line": {
          "color": "rgb(166,189,219)"
         },
         "marker": {
          "color": "rgba(28, 144, 153, 0.5)"
         },
         "name": "",
         "notched": false,
         "offsetgroup": "",
         "orientation": "v",
         "pointpos": 0,
         "showlegend": false,
         "type": "box",
         "x": [
          "Over 90 m",
          "Over 90 m",
          "0-7.5 m",
          "31-45 m",
          "7.6-15 m",
          "0-7.5 m",
          "0-7.5 m",
          "7.6-15 m",
          "22.6-30 m",
          "22.6-30 m",
          "22.6-30 m",
          "7.6-15 m",
          "0-7.5 m",
          "7.6-15 m",
          "22.6-30 m",
          "15.1-22.5 m",
          "15.1-22.5 m",
          "7.6-15 m",
          "15.1-22.5 m",
          "7.6-15 m",
          "0-7.5 m",
          "Over 90 m",
          "15.1-22.5 m",
          "15.1-22.5 m",
          "15.1-22.5 m",
          "7.6-15 m",
          "7.6-15 m",
          "22.6-30 m",
          "31-45 m",
          "15.1-22.5 m",
          "7.6-15 m",
          "15.1-22.5 m",
          "7.6-15 m",
          "7.6-15 m",
          "0-7.5 m",
          "7.6-15 m",
          "46-60 m",
          "7.6-15 m",
          "7.6-15 m",
          "22.6-30 m",
          "15.1-22.5 m",
          "15.1-22.5 m",
          "7.6-15 m",
          "31-45 m",
          "15.1-22.5 m",
          "22.6-30 m",
          "0-7.5 m",
          "22.6-30 m",
          "0-7.5 m",
          "0-7.5 m",
          "7.6-15 m",
          "7.6-15 m",
          "31-45 m",
          "7.6-15 m",
          "15.1-22.5 m",
          "7.6-15 m",
          "15.1-22.5 m",
          "7.6-15 m",
          "22.6-30 m",
          "15.1-22.5 m",
          "15.1-22.5 m",
          "15.1-22.5 m",
          "0-7.5 m",
          "7.6-15 m",
          "7.6-15 m",
          "15.1-22.5 m",
          "15.1-22.5 m",
          "0-7.5 m",
          "22.6-30 m",
          "0-7.5 m",
          "46-60 m",
          "22.6-30 m",
          "7.6-15 m",
          "0-7.5 m",
          "0-7.5 m",
          "7.6-15 m",
          "7.6-15 m",
          "7.6-15 m",
          "7.6-15 m",
          "22.6-30 m",
          "7.6-15 m",
          "7.6-15 m",
          "15.1-22.5 m",
          "15.1-22.5 m",
          "15.1-22.5 m",
          "7.6-15 m",
          "0-7.5 m",
          "15.1-22.5 m",
          "61-90 m",
          "22.6-30 m",
          "61-90 m",
          "7.6-15 m",
          "7.6-15 m",
          "22.6-30 m",
          "7.6-15 m",
          "7.6-15 m",
          "22.6-30 m",
          "7.6-15 m",
          "7.6-15 m",
          "7.6-15 m",
          "15.1-22.5 m",
          "7.6-15 m",
          "7.6-15 m",
          "15.1-22.5 m",
          "22.6-30 m",
          "46-60 m",
          "15.1-22.5 m",
          "15.1-22.5 m",
          "31-45 m",
          "7.6-15 m",
          "0-7.5 m",
          "15.1-22.5 m",
          "31-45 m",
          "46-60 m",
          "15.1-22.5 m",
          "46-60 m",
          "31-45 m",
          "22.6-30 m",
          "15.1-22.5 m",
          "7.6-15 m",
          "7.6-15 m",
          "15.1-22.5 m",
          "31-45 m",
          "22.6-30 m",
          "15.1-22.5 m",
          "7.6-15 m",
          "7.6-15 m",
          "22.6-30 m",
          "15.1-22.5 m",
          "46-60 m",
          "22.6-30 m",
          "46-60 m",
          "31-45 m",
          "15.1-22.5 m",
          "31-45 m",
          "22.6-30 m",
          "7.6-15 m",
          "7.6-15 m",
          "7.6-15 m",
          "7.6-15 m",
          "7.6-15 m",
          "7.6-15 m",
          "7.6-15 m",
          "15.1-22.5 m",
          "7.6-15 m",
          "15.1-22.5 m",
          "7.6-15 m",
          "7.6-15 m",
          "15.1-22.5 m",
          "15.1-22.5 m",
          "22.6-30 m",
          "15.1-22.5 m",
          "22.6-30 m",
          "46-60 m",
          "Over 90 m",
          "61-90 m",
          "7.6-15 m",
          "7.6-15 m",
          "7.6-15 m",
          "15.1-22.5 m",
          "61-90 m",
          "15.1-22.5 m",
          "15.1-22.5 m",
          "15.1-22.5 m",
          "22.6-30 m",
          "31-45 m",
          "15.1-22.5 m",
          "31-45 m",
          "7.6-15 m",
          "7.6-15 m",
          "15.1-22.5 m",
          "7.6-15 m",
          "7.6-15 m",
          "7.6-15 m",
          "61-90 m",
          "46-60 m",
          "15.1-22.5 m",
          "22.6-30 m",
          "22.6-30 m",
          "31-45 m",
          "22.6-30 m",
          "15.1-22.5 m",
          "61-90 m",
          "7.6-15 m",
          "7.6-15 m",
          "61-90 m",
          "7.6-15 m",
          "7.6-15 m",
          "7.6-15 m",
          "22.6-30 m",
          "15.1-22.5 m",
          "46-60 m",
          "61-90 m",
          "15.1-22.5 m",
          "61-90 m",
          "22.6-30 m",
          "7.6-15 m",
          "31-45 m",
          "61-90 m",
          "31-45 m",
          "Over 90 m",
          "0-7.5 m",
          "61-90 m",
          "7.6-15 m",
          "22.6-30 m",
          "31-45 m",
          "7.6-15 m",
          "7.6-15 m",
          "7.6-15 m",
          "15.1-22.5 m",
          "15.1-22.5 m",
          "15.1-22.5 m",
          "7.6-15 m",
          "61-90 m",
          "0-7.5 m",
          "7.6-15 m",
          "0-7.5 m",
          "7.6-15 m",
          "7.6-15 m",
          "15.1-22.5 m",
          "7.6-15 m",
          "15.1-22.5 m",
          "7.6-15 m",
          "15.1-22.5 m",
          "7.6-15 m",
          "15.1-22.5 m",
          "15.1-22.5 m",
          "15.1-22.5 m",
          "61-90 m",
          "31-45 m",
          "7.6-15 m",
          "0-7.5 m",
          "7.6-15 m",
          "7.6-15 m"
         ],
         "x0": " ",
         "xaxis": "x",
         "y": {
          "bdata": "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",
          "dtype": "f8"
         },
         "y0": " ",
         "yaxis": "y"
        }
       ],
       "layout": {
        "boxmode": "group",
        "height": 700,
        "legend": {
         "tracegroupgap": 0
        },
        "paper_bgcolor": "white",
        "plot_bgcolor": "white",
        "template": {
         "data": {
          "bar": [
           {
            "error_x": {
             "color": "#2a3f5f"
            },
            "error_y": {
             "color": "#2a3f5f"
            },
            "marker": {
             "line": {
              "color": "#E5ECF6",
              "width": 0.5
             },
             "pattern": {
              "fillmode": "overlay",
              "size": 10,
              "solidity": 0.2
             }
            },
            "type": "bar"
           }
          ],
          "barpolar": [
           {
            "marker": {
             "line": {
              "color": "#E5ECF6",
              "width": 0.5
             },
             "pattern": {
              "fillmode": "overlay",
              "size": 10,
              "solidity": 0.2
             }
            },
            "type": "barpolar"
           }
          ],
          "carpet": [
           {
            "aaxis": {
             "endlinecolor": "#2a3f5f",
             "gridcolor": "white",
             "linecolor": "white",
             "minorgridcolor": "white",
             "startlinecolor": "#2a3f5f"
            },
            "baxis": {
             "endlinecolor": "#2a3f5f",
             "gridcolor": "white",
             "linecolor": "white",
             "minorgridcolor": "white",
             "startlinecolor": "#2a3f5f"
            },
            "type": "carpet"
           }
          ],
          "choropleth": [
           {
            "colorbar": {
             "outlinewidth": 0,
             "ticks": ""
            },
            "type": "choropleth"
           }
          ],
          "contour": [
           {
            "colorbar": {
             "outlinewidth": 0,
             "ticks": ""
            },
            "colorscale": [
             [
              0,
              "#0d0887"
             ],
             [
              0.1111111111111111,
              "#46039f"
             ],
             [
              0.2222222222222222,
              "#7201a8"
             ],
             [
              0.3333333333333333,
              "#9c179e"
             ],
             [
              0.4444444444444444,
              "#bd3786"
             ],
             [
              0.5555555555555556,
              "#d8576b"
             ],
             [
              0.6666666666666666,
              "#ed7953"
             ],
             [
              0.7777777777777778,
              "#fb9f3a"
             ],
             [
              0.8888888888888888,
              "#fdca26"
             ],
             [
              1,
              "#f0f921"
             ]
            ],
            "type": "contour"
           }
          ],
          "contourcarpet": [
           {
            "colorbar": {
             "outlinewidth": 0,
             "ticks": ""
            },
            "type": "contourcarpet"
           }
          ],
          "heatmap": [
           {
            "colorbar": {
             "outlinewidth": 0,
             "ticks": ""
            },
            "colorscale": [
             [
              0,
              "#0d0887"
             ],
             [
              0.1111111111111111,
              "#46039f"
             ],
             [
              0.2222222222222222,
              "#7201a8"
             ],
             [
              0.3333333333333333,
              "#9c179e"
             ],
             [
              0.4444444444444444,
              "#bd3786"
             ],
             [
              0.5555555555555556,
              "#d8576b"
             ],
             [
              0.6666666666666666,
              "#ed7953"
             ],
             [
              0.7777777777777778,
              "#fb9f3a"
             ],
             [
              0.8888888888888888,
              "#fdca26"
             ],
             [
              1,
              "#f0f921"
             ]
            ],
            "type": "heatmap"
           }
          ],
          "histogram": [
           {
            "marker": {
             "pattern": {
              "fillmode": "overlay",
              "size": 10,
              "solidity": 0.2
             }
            },
            "type": "histogram"
           }
          ],
          "histogram2d": [
           {
            "colorbar": {
             "outlinewidth": 0,
             "ticks": ""
            },
            "colorscale": [
             [
              0,
              "#0d0887"
             ],
             [
              0.1111111111111111,
              "#46039f"
             ],
             [
              0.2222222222222222,
              "#7201a8"
             ],
             [
              0.3333333333333333,
              "#9c179e"
             ],
             [
              0.4444444444444444,
              "#bd3786"
             ],
             [
              0.5555555555555556,
              "#d8576b"
             ],
             [
              0.6666666666666666,
              "#ed7953"
             ],
             [
              0.7777777777777778,
              "#fb9f3a"
             ],
             [
              0.8888888888888888,
              "#fdca26"
             ],
             [
              1,
              "#f0f921"
             ]
            ],
            "type": "histogram2d"
           }
          ],
          "histogram2dcontour": [
           {
            "colorbar": {
             "outlinewidth": 0,
             "ticks": ""
            },
            "colorscale": [
             [
              0,
              "#0d0887"
             ],
             [
              0.1111111111111111,
              "#46039f"
             ],
             [
              0.2222222222222222,
              "#7201a8"
             ],
             [
              0.3333333333333333,
              "#9c179e"
             ],
             [
              0.4444444444444444,
              "#bd3786"
             ],
             [
              0.5555555555555556,
              "#d8576b"
             ],
             [
              0.6666666666666666,
              "#ed7953"
             ],
             [
              0.7777777777777778,
              "#fb9f3a"
             ],
             [
              0.8888888888888888,
              "#fdca26"
             ],
             [
              1,
              "#f0f921"
             ]
            ],
            "type": "histogram2dcontour"
           }
          ],
          "mesh3d": [
           {
            "colorbar": {
             "outlinewidth": 0,
             "ticks": ""
            },
            "type": "mesh3d"
           }
          ],
          "parcoords": [
           {
            "line": {
             "colorbar": {
              "outlinewidth": 0,
              "ticks": ""
             }
            },
            "type": "parcoords"
           }
          ],
          "pie": [
           {
            "automargin": true,
            "type": "pie"
           }
          ],
          "scatter": [
           {
            "fillpattern": {
             "fillmode": "overlay",
             "size": 10,
             "solidity": 0.2
            },
            "type": "scatter"
           }
          ],
          "scatter3d": [
           {
            "line": {
             "colorbar": {
              "outlinewidth": 0,
              "ticks": ""
             }
            },
            "marker": {
             "colorbar": {
              "outlinewidth": 0,
              "ticks": ""
             }
            },
            "type": "scatter3d"
           }
          ],
          "scattercarpet": [
           {
            "marker": {
             "colorbar": {
              "outlinewidth": 0,
              "ticks": ""
             }
            },
            "type": "scattercarpet"
           }
          ],
          "scattergeo": [
           {
            "marker": {
             "colorbar": {
              "outlinewidth": 0,
              "ticks": ""
             }
            },
            "type": "scattergeo"
           }
          ],
          "scattergl": [
           {
            "marker": {
             "colorbar": {
              "outlinewidth": 0,
              "ticks": ""
             }
            },
            "type": "scattergl"
           }
          ],
          "scattermap": [
           {
            "marker": {
             "colorbar": {
              "outlinewidth": 0,
              "ticks": ""
             }
            },
            "type": "scattermap"
           }
          ],
          "scattermapbox": [
           {
            "marker": {
             "colorbar": {
              "outlinewidth": 0,
              "ticks": ""
             }
            },
            "type": "scattermapbox"
           }
          ],
          "scatterpolar": [
           {
            "marker": {
             "colorbar": {
              "outlinewidth": 0,
              "ticks": ""
             }
            },
            "type": "scatterpolar"
           }
          ],
          "scatterpolargl": [
           {
            "marker": {
             "colorbar": {
              "outlinewidth": 0,
              "ticks": ""
             }
            },
            "type": "scatterpolargl"
           }
          ],
          "scatterternary": [
           {
            "marker": {
             "colorbar": {
              "outlinewidth": 0,
              "ticks": ""
             }
            },
            "type": "scatterternary"
           }
          ],
          "surface": [
           {
            "colorbar": {
             "outlinewidth": 0,
             "ticks": ""
            },
            "colorscale": [
             [
              0,
              "#0d0887"
             ],
             [
              0.1111111111111111,
              "#46039f"
             ],
             [
              0.2222222222222222,
              "#7201a8"
             ],
             [
              0.3333333333333333,
              "#9c179e"
             ],
             [
              0.4444444444444444,
              "#bd3786"
             ],
             [
              0.5555555555555556,
              "#d8576b"
             ],
             [
              0.6666666666666666,
              "#ed7953"
             ],
             [
              0.7777777777777778,
              "#fb9f3a"
             ],
             [
              0.8888888888888888,
              "#fdca26"
             ],
             [
              1,
              "#f0f921"
             ]
            ],
            "type": "surface"
           }
          ],
          "table": [
           {
            "cells": {
             "fill": {
              "color": "#EBF0F8"
             },
             "line": {
              "color": "white"
             }
            },
            "header": {
             "fill": {
              "color": "#C8D4E3"
             },
             "line": {
              "color": "white"
             }
            },
            "type": "table"
           }
          ]
         },
         "layout": {
          "annotationdefaults": {
           "arrowcolor": "#2a3f5f",
           "arrowhead": 0,
           "arrowwidth": 1
          },
          "autotypenumbers": "strict",
          "coloraxis": {
           "colorbar": {
            "outlinewidth": 0,
            "ticks": ""
           }
          },
          "colorscale": {
           "diverging": [
            [
             0,
             "#8e0152"
            ],
            [
             0.1,
             "#c51b7d"
            ],
            [
             0.2,
             "#de77ae"
            ],
            [
             0.3,
             "#f1b6da"
            ],
            [
             0.4,
             "#fde0ef"
            ],
            [
             0.5,
             "#f7f7f7"
            ],
            [
             0.6,
             "#e6f5d0"
            ],
            [
             0.7,
             "#b8e186"
            ],
            [
             0.8,
             "#7fbc41"
            ],
            [
             0.9,
             "#4d9221"
            ],
            [
             1,
             "#276419"
            ]
           ],
           "sequential": [
            [
             0,
             "#0d0887"
            ],
            [
             0.1111111111111111,
             "#46039f"
            ],
            [
             0.2222222222222222,
             "#7201a8"
            ],
            [
             0.3333333333333333,
             "#9c179e"
            ],
            [
             0.4444444444444444,
             "#bd3786"
            ],
            [
             0.5555555555555556,
             "#d8576b"
            ],
            [
             0.6666666666666666,
             "#ed7953"
            ],
            [
             0.7777777777777778,
             "#fb9f3a"
            ],
            [
             0.8888888888888888,
             "#fdca26"
            ],
            [
             1,
             "#f0f921"
            ]
           ],
           "sequentialminus": [
            [
             0,
             "#0d0887"
            ],
            [
             0.1111111111111111,
             "#46039f"
            ],
            [
             0.2222222222222222,
             "#7201a8"
            ],
            [
             0.3333333333333333,
             "#9c179e"
            ],
            [
             0.4444444444444444,
             "#bd3786"
            ],
            [
             0.5555555555555556,
             "#d8576b"
            ],
            [
             0.6666666666666666,
             "#ed7953"
            ],
            [
             0.7777777777777778,
             "#fb9f3a"
            ],
            [
             0.8888888888888888,
             "#fdca26"
            ],
            [
             1,
             "#f0f921"
            ]
           ]
          },
          "colorway": [
           "#636efa",
           "#EF553B",
           "#00cc96",
           "#ab63fa",
           "#FFA15A",
           "#19d3f3",
           "#FF6692",
           "#B6E880",
           "#FF97FF",
           "#FECB52"
          ],
          "font": {
           "color": "#2a3f5f"
          },
          "geo": {
           "bgcolor": "white",
           "lakecolor": "white",
           "landcolor": "#E5ECF6",
           "showlakes": true,
           "showland": true,
           "subunitcolor": "white"
          },
          "hoverlabel": {
           "align": "left"
          },
          "hovermode": "closest",
          "mapbox": {
           "style": "light"
          },
          "paper_bgcolor": "white",
          "plot_bgcolor": "#E5ECF6",
          "polar": {
           "angularaxis": {
            "gridcolor": "white",
            "linecolor": "white",
            "ticks": ""
           },
           "bgcolor": "#E5ECF6",
           "radialaxis": {
            "gridcolor": "white",
            "linecolor": "white",
            "ticks": ""
           }
          },
          "scene": {
           "xaxis": {
            "backgroundcolor": "#E5ECF6",
            "gridcolor": "white",
            "gridwidth": 2,
            "linecolor": "white",
            "showbackground": true,
            "ticks": "",
            "zerolinecolor": "white"
           },
           "yaxis": {
            "backgroundcolor": "#E5ECF6",
            "gridcolor": "white",
            "gridwidth": 2,
            "linecolor": "white",
            "showbackground": true,
            "ticks": "",
            "zerolinecolor": "white"
           },
           "zaxis": {
            "backgroundcolor": "#E5ECF6",
            "gridcolor": "white",
            "gridwidth": 2,
            "linecolor": "white",
            "showbackground": true,
            "ticks": "",
            "zerolinecolor": "white"
           }
          },
          "shapedefaults": {
           "line": {
            "color": "#2a3f5f"
           }
          },
          "ternary": {
           "aaxis": {
            "gridcolor": "white",
            "linecolor": "white",
            "ticks": ""
           },
           "baxis": {
            "gridcolor": "white",
            "linecolor": "white",
            "ticks": ""
           },
           "bgcolor": "#E5ECF6",
           "caxis": {
            "gridcolor": "white",
            "linecolor": "white",
            "ticks": ""
           }
          },
          "title": {
           "x": 0.05
          },
          "xaxis": {
           "automargin": true,
           "gridcolor": "white",
           "linecolor": "white",
           "ticks": "",
           "title": {
            "standoff": 15
           },
           "zerolinecolor": "white",
           "zerolinewidth": 2
          },
          "yaxis": {
           "automargin": true,
           "gridcolor": "white",
           "linecolor": "white",
           "ticks": "",
           "title": {
            "standoff": 15
           },
           "zerolinecolor": "white",
           "zerolinewidth": 2
          }
         }
        },
        "title": {
         "font": {
          "color": "black",
          "family": "Arial",
          "size": 16,
          "weight": "bold"
         },
         "text": "Embodied Carbon Intensities Grouped by Building Height",
         "x": 0.5,
         "xanchor": "center",
         "yanchor": "top"
        },
        "width": 800,
        "xaxis": {
         "anchor": "y",
         "categoryarray": [
          "0-7.5 m",
          "7.6-15 m",
          "15.1-22.5 m",
          "22.6-30 m",
          "31-45 m",
          "46-60 m",
          "61-90 m",
          "Over 90 m"
         ],
         "categoryorder": "array",
         "domain": [
          0,
          1
         ],
         "ticktext": [
          "0-7.5 m [20]",
          "7.6-15 m [82]",
          "15.1-22.5 m [57]",
          "22.6-30 m [30]",
          "31-45 m [17]",
          "46-60 m [10]",
          "61-90 m [13]",
          "Over 90 m [5]"
         ],
         "tickvals": [
          "0-7.5 m",
          "7.6-15 m",
          "15.1-22.5 m",
          "22.6-30 m",
          "31-45 m",
          "46-60 m",
          "61-90 m",
          "Over 90 m"
         ],
         "title": {
          "text": "Building Height"
         }
        },
        "yaxis": {
         "anchor": "x",
         "domain": [
          0,
          1
         ],
         "gridcolor": "lightgrey",
         "showgrid": true,
         "title": {
          "text": "Normalized Embodied Carbon Intensity (CFA) [kgCO2e/m²]"
         }
        }
       }
      }
     },
     "metadata": {},
     "output_type": "display_data"
    }
   ],
   "source": [
    "# Create a box and whisker plot for the \"eci_a_to_c_cfa\" field grouped by \"bldg_height\"\n",
    "fig2 = px.box(\n",
    "    filtered_bldgs_df2,\n",
    "    x='bldg_height',  # Group by building height\n",
    "    y='eci_a_to_c_cfa',  # Plot this field\n",
    "    title='Embodied Carbon Intensities Grouped by Building Height',\n",
    "    labels={\n",
    "        'bldg_height': 'Building Height',\n",
    "        'eci_a_to_c_cfa': 'Normalized Embodied Carbon Intensity (CFA)',\n",
    "        'lca_phys_scope': 'LCA Physical Scope',\n",
    "        'lca_software': 'LCA Software'\n",
    "    },\n",
    "    category_orders={'bldg_height': height_order},  # Ensure correct order of height buckets\n",
    "    hover_data=['lca_phys_scope', 'lca_software']  # Include lca_phys_scope and software in hover data\n",
    ")\n",
    "\n",
    "# Add all data points as dots with slight transparency and specify color\n",
    "fig2.update_traces(\n",
    "    boxpoints='all',\n",
    "    jitter=0.3,\n",
    "    pointpos=0,\n",
    "    marker=dict(color='rgba(28, 144, 153, 0.5)'),\n",
    "    fillcolor='rgb(236,226,240)',\n",
    "    line=dict(color='rgb(166,189,219)')\n",
    ")\n",
    "\n",
    "\n",
    "fig2.update_yaxes(\n",
    "    title_text='Normalized Embodied Carbon Intensity (CFA) [kgCO2e/m²]',\n",
    "    showgrid=True,\n",
    "    gridcolor='lightgrey'\n",
    ")\n",
    "\n",
    "# Update the x-axis to include the counts in the labels\n",
    "x_labels_with_counts2 = [f\"{bucket} [{int(count)}]\" for bucket, count in bucket_counts2.items()]\n",
    "\n",
    "fig2.update_xaxes(\n",
    "    ticktext=x_labels_with_counts2,  # Use the updated labels with counts\n",
    "    tickvals=height_order # Match the original categories\n",
    ")\n",
    "\n",
    "\n",
    "fig2.update_layout(\n",
    "    title={\n",
    "        'text': 'Embodied Carbon Intensities Grouped by Building Height',\n",
    "        'x': 0.5,\n",
    "        'xanchor': 'center',\n",
    "        'yanchor': 'top',\n",
    "        'font': {'size': 16, 'family': 'Arial', 'color': 'black', 'weight': 'bold'}\n",
    "    },\n",
    "    plot_bgcolor='white',\n",
    "    paper_bgcolor='white',\n",
    "    height=700,\n",
    "    width=800\n",
    ")\n",
    "\n",
    "# Show the plot\n",
    "fig2.show()"
   ]
  },
  {
   "cell_type": "markdown",
   "metadata": {},
   "source": [
    "---"
   ]
  },
  {
   "cell_type": "markdown",
   "metadata": {},
   "source": [
    "### Exploring Difference in Intensity Measurements"
   ]
  },
  {
   "cell_type": "markdown",
   "metadata": {},
   "source": [
    "#### Cleaning and Filtering Data"
   ]
  },
  {
   "cell_type": "code",
   "execution_count": 141,
   "metadata": {},
   "outputs": [
    {
     "name": "stdout",
     "output_type": "stream",
     "text": [
      "243\n",
      "175\n",
      "144\n",
      "132\n"
     ]
    }
   ],
   "source": [
    "# Make a copy of the original dataframe and remove rows with nulls in the \"bldg_height\" field\n",
    "filtered_bldgs_df3 = buildings_metadata_df.copy()\n",
    "\n",
    "# Limit to New Construction\n",
    "filtered_bldgs_df3 = filtered_bldgs_df3[filtered_bldgs_df3['bldg_proj_type'] == 'New Construction']\n",
    "print(len(filtered_bldgs_df3))\n",
    "\n",
    "# Limit to buildings without Parking (whether or not there is parking can heavily sway the carbon intensity)\n",
    "filtered_bldgs_df3 = filtered_bldgs_df3[filtered_bldgs_df3['bldg_park_type'] == 'No Parking']\n",
    "print(len(filtered_bldgs_df3))\n",
    "\n",
    "#NOTE Decided to turn this filter off since there weren't that many buildings with this use type\n",
    "# Remove buildings where the bldg_prim_use is 'Warehouse and Storage' (they might heavily skew the data since they obviously have much fewer occupants)\n",
    "# filtered_bldgs_df3 = filtered_bldgs_df3[filtered_bldgs_df3['bldg_prim_use'] != 'Warehouse and Storage']\n",
    "# print(len(filtered_bldgs_df3))\n",
    "\n",
    "# Remove rows where any of the specified fields have null values\n",
    "filtered_bldgs_df3 = filtered_bldgs_df3.dropna(subset=['ec_per_occupant_a_to_c', 'eci_a_to_c_gfa'])\n",
    "print(len(filtered_bldgs_df3))\n",
    "\n",
    "#Remove extreme outliers based on IQR method for the specified fields\n",
    "filtered_bldgs_df3 = remove_outliers(filtered_bldgs_df3, ['ec_per_occupant_a_to_c', 'eci_a_to_c_gfa'])\n",
    "print(len(filtered_bldgs_df3))\n",
    "\n"
   ]
  },
  {
   "cell_type": "markdown",
   "metadata": {},
   "source": [
    "#### Make New Fields to Store Rankings"
   ]
  },
  {
   "cell_type": "code",
   "execution_count": 142,
   "metadata": {},
   "outputs": [],
   "source": [
    "# Normalize the values of 'ec_per_occupant_a_to_c' and 'eci_a_to_c_gfa' on a scale of 0 to 1\n",
    "filtered_bldgs_df3['norm_ec_per_occupant'] = (\n",
    "    (filtered_bldgs_df3['ec_per_occupant_a_to_c'] - filtered_bldgs_df3['ec_per_occupant_a_to_c'].min()) /\n",
    "    (filtered_bldgs_df3['ec_per_occupant_a_to_c'].max() - filtered_bldgs_df3['ec_per_occupant_a_to_c'].min())\n",
    ")\n",
    "\n",
    "filtered_bldgs_df3['norm_eci_gfa'] = (\n",
    "    (filtered_bldgs_df3['eci_a_to_c_gfa'] - filtered_bldgs_df3['eci_a_to_c_gfa'].min()) /\n",
    "    (filtered_bldgs_df3['eci_a_to_c_gfa'].max() - filtered_bldgs_df3['eci_a_to_c_gfa'].min())\n",
    ")\n",
    "\n",
    "# Calculate the shift in normalized carbon intensities\n",
    "filtered_bldgs_df3['norm_shift'] = filtered_bldgs_df3['norm_ec_per_occupant'] - filtered_bldgs_df3['norm_eci_gfa']"
   ]
  },
  {
   "cell_type": "code",
   "execution_count": 143,
   "metadata": {},
   "outputs": [
    {
     "name": "stdout",
     "output_type": "stream",
     "text": [
      "bldg_prim_use\n",
      "Education                                     41\n",
      "Public Assembly                               23\n",
      "Office                                        16\n",
      "Residential: Multifamily (5 or more units)    13\n",
      "Laboratory                                    10\n",
      "Warehouse and Storage                          8\n",
      "Healthcare                                     8\n",
      "Public Order and Safety                        7\n",
      "Transportation Hub                             2\n",
      "Industrial                                     1\n",
      "Lodging                                        1\n",
      "Mercantile                                     1\n",
      "Food Service                                   1\n",
      "Name: count, dtype: int64\n"
     ]
    }
   ],
   "source": [
    "# plot the list of unique values for bldg_prim_use along with the count of projects with that use\n",
    "bldg_prim_use_counts = filtered_bldgs_df3['bldg_prim_use'].value_counts()\n",
    "print(bldg_prim_use_counts)\n",
    "\n",
    "# Remove any rows in the dataframe where the count of projects with that use is less than 5\n",
    "filtered_bldgs_df3 = filtered_bldgs_df3[filtered_bldgs_df3['bldg_prim_use'].isin(bldg_prim_use_counts[bldg_prim_use_counts >= 5].index)]"
   ]
  },
  {
   "cell_type": "markdown",
   "metadata": {},
   "source": [
    "#### Make Normalize Shift Plot 1"
   ]
  },
  {
   "cell_type": "code",
   "execution_count": 162,
   "metadata": {},
   "outputs": [
    {
     "data": {
      "application/vnd.plotly.v1+json": {
       "config": {
        "plotlyServerURL": "https://plotly.com"
       },
       "data": [
        {
         "hoverinfo": "text",
         "line": {
          "color": "rgb(95, 70, 144)",
          "width": 1
         },
         "marker": {
          "color": "rgb(95, 70, 144)",
          "size": 6
         },
         "mode": "lines+markers",
         "showlegend": false,
         "text": [
          "Project: 2<br>Primary Use: Education<br>Normalized Value: 0.08",
          "Project: 2<br>Primary Use: Education<br>Normalized Value: 0.43"
         ],
         "type": "scatter",
         "x": [
          "norm_ec_per_occupant",
          "norm_eci_gfa"
         ],
         "y": [
          0.07805573363088879,
          0.42567290289393234
         ]
        },
        {
         "hoverinfo": "text",
         "line": {
          "color": "rgb(95, 70, 144)",
          "width": 1
         },
         "marker": {
          "color": "rgb(95, 70, 144)",
          "size": 6
         },
         "mode": "lines+markers",
         "showlegend": false,
         "text": [
          "Project: 4<br>Primary Use: Education<br>Normalized Value: 0.18",
          "Project: 4<br>Primary Use: Education<br>Normalized Value: 0.43"
         ],
         "type": "scatter",
         "x": [
          "norm_ec_per_occupant",
          "norm_eci_gfa"
         ],
         "y": [
          0.1825951530335808,
          0.42596089005580934
         ]
        },
        {
         "hoverinfo": "text",
         "line": {
          "color": "rgb(29, 105, 150)",
          "width": 1
         },
         "marker": {
          "color": "rgb(29, 105, 150)",
          "size": 6
         },
         "mode": "lines+markers",
         "showlegend": false,
         "text": [
          "Project: 5<br>Primary Use: Office<br>Normalized Value: 0.20",
          "Project: 5<br>Primary Use: Office<br>Normalized Value: 0.51"
         ],
         "type": "scatter",
         "x": [
          "norm_ec_per_occupant",
          "norm_eci_gfa"
         ],
         "y": [
          0.20313925784841225,
          0.514607484260457
         ]
        },
        {
         "hoverinfo": "text",
         "line": {
          "color": "rgb(95, 70, 144)",
          "width": 1
         },
         "marker": {
          "color": "rgb(95, 70, 144)",
          "size": 6
         },
         "mode": "lines+markers",
         "showlegend": false,
         "text": [
          "Project: 6<br>Primary Use: Education<br>Normalized Value: 0.16",
          "Project: 6<br>Primary Use: Education<br>Normalized Value: 0.42"
         ],
         "type": "scatter",
         "x": [
          "norm_ec_per_occupant",
          "norm_eci_gfa"
         ],
         "y": [
          0.15604134046595663,
          0.41812799322203736
         ]
        },
        {
         "hoverinfo": "text",
         "line": {
          "color": "rgb(56, 166, 165)",
          "width": 1
         },
         "marker": {
          "color": "rgb(56, 166, 165)",
          "size": 6
         },
         "mode": "lines+markers",
         "showlegend": false,
         "text": [
          "Project: 7<br>Primary Use: Residential: Multifamily (5 or more units)<br>Normalized Value: 0.46",
          "Project: 7<br>Primary Use: Residential: Multifamily (5 or more units)<br>Normalized Value: 0.65"
         ],
         "type": "scatter",
         "x": [
          "norm_ec_per_occupant",
          "norm_eci_gfa"
         ],
         "y": [
          0.45671462119158146,
          0.6455094804879471
         ]
        },
        {
         "hoverinfo": "text",
         "line": {
          "color": "rgb(15, 133, 84)",
          "width": 1
         },
         "marker": {
          "color": "rgb(15, 133, 84)",
          "size": 6
         },
         "mode": "lines+markers",
         "showlegend": false,
         "text": [
          "Project: 8<br>Primary Use: Healthcare<br>Normalized Value: 0.37",
          "Project: 8<br>Primary Use: Healthcare<br>Normalized Value: 0.38"
         ],
         "type": "scatter",
         "x": [
          "norm_ec_per_occupant",
          "norm_eci_gfa"
         ],
         "y": [
          0.36999145722808874,
          0.3815686109389528
         ]
        },
        {
         "hoverinfo": "text",
         "line": {
          "color": "rgb(29, 105, 150)",
          "width": 1
         },
         "marker": {
          "color": "rgb(29, 105, 150)",
          "size": 6
         },
         "mode": "lines+markers",
         "showlegend": false,
         "text": [
          "Project: 10<br>Primary Use: Office<br>Normalized Value: 0.38",
          "Project: 10<br>Primary Use: Office<br>Normalized Value: 0.37"
         ],
         "type": "scatter",
         "x": [
          "norm_ec_per_occupant",
          "norm_eci_gfa"
         ],
         "y": [
          0.3822616269808333,
          0.3695937765809052
         ]
        },
        {
         "hoverinfo": "text",
         "line": {
          "color": "rgb(95, 70, 144)",
          "width": 1
         },
         "marker": {
          "color": "rgb(95, 70, 144)",
          "size": 6
         },
         "mode": "lines+markers",
         "showlegend": false,
         "text": [
          "Project: 13<br>Primary Use: Education<br>Normalized Value: 0.11",
          "Project: 13<br>Primary Use: Education<br>Normalized Value: 0.76"
         ],
         "type": "scatter",
         "x": [
          "norm_ec_per_occupant",
          "norm_eci_gfa"
         ],
         "y": [
          0.10702216533220467,
          0.762846668938197
         ]
        },
        {
         "hoverinfo": "text",
         "line": {
          "color": "rgb(15, 133, 84)",
          "width": 1
         },
         "marker": {
          "color": "rgb(15, 133, 84)",
          "size": 6
         },
         "mode": "lines+markers",
         "showlegend": false,
         "text": [
          "Project: 15<br>Primary Use: Healthcare<br>Normalized Value: 0.18",
          "Project: 15<br>Primary Use: Healthcare<br>Normalized Value: 0.31"
         ],
         "type": "scatter",
         "x": [
          "norm_ec_per_occupant",
          "norm_eci_gfa"
         ],
         "y": [
          0.1849171009754858,
          0.3100747777465083
         ]
        },
        {
         "hoverinfo": "text",
         "line": {
          "color": "rgb(95, 70, 144)",
          "width": 1
         },
         "marker": {
          "color": "rgb(95, 70, 144)",
          "size": 6
         },
         "mode": "lines+markers",
         "showlegend": false,
         "text": [
          "Project: 16<br>Primary Use: Education<br>Normalized Value: 0.17",
          "Project: 16<br>Primary Use: Education<br>Normalized Value: 0.31"
         ],
         "type": "scatter",
         "x": [
          "norm_ec_per_occupant",
          "norm_eci_gfa"
         ],
         "y": [
          0.16894758539669472,
          0.3145549577542272
         ]
        },
        {
         "hoverinfo": "text",
         "line": {
          "color": "rgb(15, 133, 84)",
          "width": 1
         },
         "marker": {
          "color": "rgb(15, 133, 84)",
          "size": 6
         },
         "mode": "lines+markers",
         "showlegend": false,
         "text": [
          "Project: 17<br>Primary Use: Healthcare<br>Normalized Value: 0.62",
          "Project: 17<br>Primary Use: Healthcare<br>Normalized Value: 0.35"
         ],
         "type": "scatter",
         "x": [
          "norm_ec_per_occupant",
          "norm_eci_gfa"
         ],
         "y": [
          0.616227299603613,
          0.3477823753291147
         ]
        },
        {
         "hoverinfo": "text",
         "line": {
          "color": "rgb(95, 70, 144)",
          "width": 1
         },
         "marker": {
          "color": "rgb(95, 70, 144)",
          "size": 6
         },
         "mode": "lines+markers",
         "showlegend": false,
         "text": [
          "Project: 18<br>Primary Use: Education<br>Normalized Value: 0.20",
          "Project: 18<br>Primary Use: Education<br>Normalized Value: 0.59"
         ],
         "type": "scatter",
         "x": [
          "norm_ec_per_occupant",
          "norm_eci_gfa"
         ],
         "y": [
          0.20017301661668738,
          0.5917763007430941
         ]
        },
        {
         "hoverinfo": "text",
         "line": {
          "color": "rgb(115, 175, 72)",
          "width": 1
         },
         "marker": {
          "color": "rgb(115, 175, 72)",
          "size": 6
         },
         "mode": "lines+markers",
         "showlegend": false,
         "text": [
          "Project: 19<br>Primary Use: Public Assembly<br>Normalized Value: 0.28",
          "Project: 19<br>Primary Use: Public Assembly<br>Normalized Value: 0.41"
         ],
         "type": "scatter",
         "x": [
          "norm_ec_per_occupant",
          "norm_eci_gfa"
         ],
         "y": [
          0.28353134312474926,
          0.4054601151867884
         ]
        },
        {
         "hoverinfo": "text",
         "line": {
          "color": "rgb(237, 173, 8)",
          "width": 1
         },
         "marker": {
          "color": "rgb(237, 173, 8)",
          "size": 6
         },
         "mode": "lines+markers",
         "showlegend": false,
         "text": [
          "Project: 20<br>Primary Use: Warehouse and Storage<br>Normalized Value: 0.99",
          "Project: 20<br>Primary Use: Warehouse and Storage<br>Normalized Value: 0.05"
         ],
         "type": "scatter",
         "x": [
          "norm_ec_per_occupant",
          "norm_eci_gfa"
         ],
         "y": [
          0.9898728102592746,
          0.05083629025865105
         ]
        },
        {
         "hoverinfo": "text",
         "line": {
          "color": "rgb(95, 70, 144)",
          "width": 1
         },
         "marker": {
          "color": "rgb(95, 70, 144)",
          "size": 6
         },
         "mode": "lines+markers",
         "showlegend": false,
         "text": [
          "Project: 21<br>Primary Use: Education<br>Normalized Value: 0.24",
          "Project: 21<br>Primary Use: Education<br>Normalized Value: 0.54"
         ],
         "type": "scatter",
         "x": [
          "norm_ec_per_occupant",
          "norm_eci_gfa"
         ],
         "y": [
          0.24329158901710882,
          0.5443095245258619
         ]
        },
        {
         "hoverinfo": "text",
         "line": {
          "color": "rgb(95, 70, 144)",
          "width": 1
         },
         "marker": {
          "color": "rgb(95, 70, 144)",
          "size": 6
         },
         "mode": "lines+markers",
         "showlegend": false,
         "text": [
          "Project: 23<br>Primary Use: Education<br>Normalized Value: 0.13",
          "Project: 23<br>Primary Use: Education<br>Normalized Value: 0.39"
         ],
         "type": "scatter",
         "x": [
          "norm_ec_per_occupant",
          "norm_eci_gfa"
         ],
         "y": [
          0.13305829963702345,
          0.3866566812324684
         ]
        },
        {
         "hoverinfo": "text",
         "line": {
          "color": "rgb(95, 70, 144)",
          "width": 1
         },
         "marker": {
          "color": "rgb(95, 70, 144)",
          "size": 6
         },
         "mode": "lines+markers",
         "showlegend": false,
         "text": [
          "Project: 27<br>Primary Use: Education<br>Normalized Value: 0.35",
          "Project: 27<br>Primary Use: Education<br>Normalized Value: 0.57"
         ],
         "type": "scatter",
         "x": [
          "norm_ec_per_occupant",
          "norm_eci_gfa"
         ],
         "y": [
          0.34781778513623723,
          0.5694669809335787
         ]
        },
        {
         "hoverinfo": "text",
         "line": {
          "color": "rgb(225, 124, 5)",
          "width": 1
         },
         "marker": {
          "color": "rgb(225, 124, 5)",
          "size": 6
         },
         "mode": "lines+markers",
         "showlegend": false,
         "text": [
          "Project: 28<br>Primary Use: Public Order and Safety<br>Normalized Value: 0.30",
          "Project: 28<br>Primary Use: Public Order and Safety<br>Normalized Value: 0.66"
         ],
         "type": "scatter",
         "x": [
          "norm_ec_per_occupant",
          "norm_eci_gfa"
         ],
         "y": [
          0.2953160933528596,
          0.660577027165876
         ]
        },
        {
         "hoverinfo": "text",
         "line": {
          "color": "rgb(115, 175, 72)",
          "width": 1
         },
         "marker": {
          "color": "rgb(115, 175, 72)",
          "size": 6
         },
         "mode": "lines+markers",
         "showlegend": false,
         "text": [
          "Project: 32<br>Primary Use: Public Assembly<br>Normalized Value: 0.12",
          "Project: 32<br>Primary Use: Public Assembly<br>Normalized Value: 0.50"
         ],
         "type": "scatter",
         "x": [
          "norm_ec_per_occupant",
          "norm_eci_gfa"
         ],
         "y": [
          0.12058499437322905,
          0.4997479843489132
         ]
        },
        {
         "hoverinfo": "text",
         "line": {
          "color": "rgb(95, 70, 144)",
          "width": 1
         },
         "marker": {
          "color": "rgb(95, 70, 144)",
          "size": 6
         },
         "mode": "lines+markers",
         "showlegend": false,
         "text": [
          "Project: 33<br>Primary Use: Education<br>Normalized Value: 0.14",
          "Project: 33<br>Primary Use: Education<br>Normalized Value: 0.05"
         ],
         "type": "scatter",
         "x": [
          "norm_ec_per_occupant",
          "norm_eci_gfa"
         ],
         "y": [
          0.14478840947366503,
          0.0532317391405512
         ]
        },
        {
         "hoverinfo": "text",
         "line": {
          "color": "rgb(95, 70, 144)",
          "width": 1
         },
         "marker": {
          "color": "rgb(95, 70, 144)",
          "size": 6
         },
         "mode": "lines+markers",
         "showlegend": false,
         "text": [
          "Project: 35<br>Primary Use: Education<br>Normalized Value: 0.40",
          "Project: 35<br>Primary Use: Education<br>Normalized Value: 0.68"
         ],
         "type": "scatter",
         "x": [
          "norm_ec_per_occupant",
          "norm_eci_gfa"
         ],
         "y": [
          0.39569512479063085,
          0.6755276124561702
         ]
        },
        {
         "hoverinfo": "text",
         "line": {
          "color": "rgb(95, 70, 144)",
          "width": 1
         },
         "marker": {
          "color": "rgb(95, 70, 144)",
          "size": 6
         },
         "mode": "lines+markers",
         "showlegend": false,
         "text": [
          "Project: 37<br>Primary Use: Education<br>Normalized Value: 0.16",
          "Project: 37<br>Primary Use: Education<br>Normalized Value: 0.29"
         ],
         "type": "scatter",
         "x": [
          "norm_ec_per_occupant",
          "norm_eci_gfa"
         ],
         "y": [
          0.15577271405199278,
          0.29184322334368684
         ]
        },
        {
         "hoverinfo": "text",
         "line": {
          "color": "rgb(237, 173, 8)",
          "width": 1
         },
         "marker": {
          "color": "rgb(237, 173, 8)",
          "size": 6
         },
         "mode": "lines+markers",
         "showlegend": false,
         "text": [
          "Project: 38<br>Primary Use: Warehouse and Storage<br>Normalized Value: 0.97",
          "Project: 38<br>Primary Use: Warehouse and Storage<br>Normalized Value: 0.08"
         ],
         "type": "scatter",
         "x": [
          "norm_ec_per_occupant",
          "norm_eci_gfa"
         ],
         "y": [
          0.9692427992484843,
          0.0757857118253117
         ]
        },
        {
         "hoverinfo": "text",
         "line": {
          "color": "rgb(15, 133, 84)",
          "width": 1
         },
         "marker": {
          "color": "rgb(15, 133, 84)",
          "size": 6
         },
         "mode": "lines+markers",
         "showlegend": false,
         "text": [
          "Project: 39<br>Primary Use: Healthcare<br>Normalized Value: 0.39",
          "Project: 39<br>Primary Use: Healthcare<br>Normalized Value: 0.36"
         ],
         "type": "scatter",
         "x": [
          "norm_ec_per_occupant",
          "norm_eci_gfa"
         ],
         "y": [
          0.3856250193451903,
          0.3625649672368675
         ]
        },
        {
         "hoverinfo": "text",
         "line": {
          "color": "rgb(237, 173, 8)",
          "width": 1
         },
         "marker": {
          "color": "rgb(237, 173, 8)",
          "size": 6
         },
         "mode": "lines+markers",
         "showlegend": false,
         "text": [
          "Project: 56<br>Primary Use: Warehouse and Storage<br>Normalized Value: 0.92",
          "Project: 56<br>Primary Use: Warehouse and Storage<br>Normalized Value: 0.10"
         ],
         "type": "scatter",
         "x": [
          "norm_ec_per_occupant",
          "norm_eci_gfa"
         ],
         "y": [
          0.9238208291686386,
          0.09852345352010768
         ]
        },
        {
         "hoverinfo": "text",
         "line": {
          "color": "rgb(56, 166, 165)",
          "width": 1
         },
         "marker": {
          "color": "rgb(56, 166, 165)",
          "size": 6
         },
         "mode": "lines+markers",
         "showlegend": false,
         "text": [
          "Project: 57<br>Primary Use: Residential: Multifamily (5 or more units)<br>Normalized Value: 0.22",
          "Project: 57<br>Primary Use: Residential: Multifamily (5 or more units)<br>Normalized Value: 0.32"
         ],
         "type": "scatter",
         "x": [
          "norm_ec_per_occupant",
          "norm_eci_gfa"
         ],
         "y": [
          0.2174316304735421,
          0.3155934354955678
         ]
        },
        {
         "hoverinfo": "text",
         "line": {
          "color": "rgb(29, 105, 150)",
          "width": 1
         },
         "marker": {
          "color": "rgb(29, 105, 150)",
          "size": 6
         },
         "mode": "lines+markers",
         "showlegend": false,
         "text": [
          "Project: 58<br>Primary Use: Office<br>Normalized Value: 0.14",
          "Project: 58<br>Primary Use: Office<br>Normalized Value: 0.12"
         ],
         "type": "scatter",
         "x": [
          "norm_ec_per_occupant",
          "norm_eci_gfa"
         ],
         "y": [
          0.14425400659469242,
          0.11809578612943526
         ]
        },
        {
         "hoverinfo": "text",
         "line": {
          "color": "rgb(56, 166, 165)",
          "width": 1
         },
         "marker": {
          "color": "rgb(56, 166, 165)",
          "size": 6
         },
         "mode": "lines+markers",
         "showlegend": false,
         "text": [
          "Project: 59<br>Primary Use: Residential: Multifamily (5 or more units)<br>Normalized Value: 0.46",
          "Project: 59<br>Primary Use: Residential: Multifamily (5 or more units)<br>Normalized Value: 0.21"
         ],
         "type": "scatter",
         "x": [
          "norm_ec_per_occupant",
          "norm_eci_gfa"
         ],
         "y": [
          0.46036187938161327,
          0.20893751968654867
         ]
        },
        {
         "hoverinfo": "text",
         "line": {
          "color": "rgb(115, 175, 72)",
          "width": 1
         },
         "marker": {
          "color": "rgb(115, 175, 72)",
          "size": 6
         },
         "mode": "lines+markers",
         "showlegend": false,
         "text": [
          "Project: 60<br>Primary Use: Public Assembly<br>Normalized Value: 0.07",
          "Project: 60<br>Primary Use: Public Assembly<br>Normalized Value: 0.30"
         ],
         "type": "scatter",
         "x": [
          "norm_ec_per_occupant",
          "norm_eci_gfa"
         ],
         "y": [
          0.06545231926617828,
          0.30204663417770167
         ]
        },
        {
         "hoverinfo": "text",
         "line": {
          "color": "rgb(225, 124, 5)",
          "width": 1
         },
         "marker": {
          "color": "rgb(225, 124, 5)",
          "size": 6
         },
         "mode": "lines+markers",
         "showlegend": false,
         "text": [
          "Project: 62<br>Primary Use: Public Order and Safety<br>Normalized Value: 0.26",
          "Project: 62<br>Primary Use: Public Order and Safety<br>Normalized Value: 0.17"
         ],
         "type": "scatter",
         "x": [
          "norm_ec_per_occupant",
          "norm_eci_gfa"
         ],
         "y": [
          0.26056131962470613,
          0.17350255501323136
         ]
        },
        {
         "hoverinfo": "text",
         "line": {
          "color": "rgb(56, 166, 165)",
          "width": 1
         },
         "marker": {
          "color": "rgb(56, 166, 165)",
          "size": 6
         },
         "mode": "lines+markers",
         "showlegend": false,
         "text": [
          "Project: 64<br>Primary Use: Residential: Multifamily (5 or more units)<br>Normalized Value: 0.56",
          "Project: 64<br>Primary Use: Residential: Multifamily (5 or more units)<br>Normalized Value: 0.21"
         ],
         "type": "scatter",
         "x": [
          "norm_ec_per_occupant",
          "norm_eci_gfa"
         ],
         "y": [
          0.5554377156243527,
          0.21301391753858506
         ]
        },
        {
         "hoverinfo": "text",
         "line": {
          "color": "rgb(29, 105, 150)",
          "width": 1
         },
         "marker": {
          "color": "rgb(29, 105, 150)",
          "size": 6
         },
         "mode": "lines+markers",
         "showlegend": false,
         "text": [
          "Project: 66<br>Primary Use: Office<br>Normalized Value: 0.27",
          "Project: 66<br>Primary Use: Office<br>Normalized Value: 0.28"
         ],
         "type": "scatter",
         "x": [
          "norm_ec_per_occupant",
          "norm_eci_gfa"
         ],
         "y": [
          0.26667796943418265,
          0.2799183476840064
         ]
        },
        {
         "hoverinfo": "text",
         "line": {
          "color": "rgb(56, 166, 165)",
          "width": 1
         },
         "marker": {
          "color": "rgb(56, 166, 165)",
          "size": 6
         },
         "mode": "lines+markers",
         "showlegend": false,
         "text": [
          "Project: 67<br>Primary Use: Residential: Multifamily (5 or more units)<br>Normalized Value: 0.23",
          "Project: 67<br>Primary Use: Residential: Multifamily (5 or more units)<br>Normalized Value: 0.08"
         ],
         "type": "scatter",
         "x": [
          "norm_ec_per_occupant",
          "norm_eci_gfa"
         ],
         "y": [
          0.2304625701100561,
          0.08107232637136495
         ]
        },
        {
         "hoverinfo": "text",
         "line": {
          "color": "rgb(15, 133, 84)",
          "width": 1
         },
         "marker": {
          "color": "rgb(15, 133, 84)",
          "size": 6
         },
         "mode": "lines+markers",
         "showlegend": false,
         "text": [
          "Project: 69<br>Primary Use: Healthcare<br>Normalized Value: 0.09",
          "Project: 69<br>Primary Use: Healthcare<br>Normalized Value: 0.09"
         ],
         "type": "scatter",
         "x": [
          "norm_ec_per_occupant",
          "norm_eci_gfa"
         ],
         "y": [
          0.08820659064412606,
          0.08966223116780594
         ]
        },
        {
         "hoverinfo": "text",
         "line": {
          "color": "rgb(56, 166, 165)",
          "width": 1
         },
         "marker": {
          "color": "rgb(56, 166, 165)",
          "size": 6
         },
         "mode": "lines+markers",
         "showlegend": false,
         "text": [
          "Project: 70<br>Primary Use: Residential: Multifamily (5 or more units)<br>Normalized Value: 0.32",
          "Project: 70<br>Primary Use: Residential: Multifamily (5 or more units)<br>Normalized Value: 0.20"
         ],
         "type": "scatter",
         "x": [
          "norm_ec_per_occupant",
          "norm_eci_gfa"
         ],
         "y": [
          0.3215132426045455,
          0.19578996754220931
         ]
        },
        {
         "hoverinfo": "text",
         "line": {
          "color": "rgb(56, 166, 165)",
          "width": 1
         },
         "marker": {
          "color": "rgb(56, 166, 165)",
          "size": 6
         },
         "mode": "lines+markers",
         "showlegend": false,
         "text": [
          "Project: 71<br>Primary Use: Residential: Multifamily (5 or more units)<br>Normalized Value: 0.31",
          "Project: 71<br>Primary Use: Residential: Multifamily (5 or more units)<br>Normalized Value: 0.09"
         ],
         "type": "scatter",
         "x": [
          "norm_ec_per_occupant",
          "norm_eci_gfa"
         ],
         "y": [
          0.31363990528912916,
          0.09063248878433766
         ]
        },
        {
         "hoverinfo": "text",
         "line": {
          "color": "rgb(95, 70, 144)",
          "width": 1
         },
         "marker": {
          "color": "rgb(95, 70, 144)",
          "size": 6
         },
         "mode": "lines+markers",
         "showlegend": false,
         "text": [
          "Project: 72<br>Primary Use: Education<br>Normalized Value: 0.32",
          "Project: 72<br>Primary Use: Education<br>Normalized Value: 0.35"
         ],
         "type": "scatter",
         "x": [
          "norm_ec_per_occupant",
          "norm_eci_gfa"
         ],
         "y": [
          0.320935518442762,
          0.3450122016485402
         ]
        },
        {
         "hoverinfo": "text",
         "line": {
          "color": "rgb(29, 105, 150)",
          "width": 1
         },
         "marker": {
          "color": "rgb(29, 105, 150)",
          "size": 6
         },
         "mode": "lines+markers",
         "showlegend": false,
         "text": [
          "Project: 74<br>Primary Use: Office<br>Normalized Value: 0.13",
          "Project: 74<br>Primary Use: Office<br>Normalized Value: 0.20"
         ],
         "type": "scatter",
         "x": [
          "norm_ec_per_occupant",
          "norm_eci_gfa"
         ],
         "y": [
          0.13457039152105268,
          0.20276535787139563
         ]
        },
        {
         "hoverinfo": "text",
         "line": {
          "color": "rgb(237, 173, 8)",
          "width": 1
         },
         "marker": {
          "color": "rgb(237, 173, 8)",
          "size": 6
         },
         "mode": "lines+markers",
         "showlegend": false,
         "text": [
          "Project: 75<br>Primary Use: Warehouse and Storage<br>Normalized Value: 0.28",
          "Project: 75<br>Primary Use: Warehouse and Storage<br>Normalized Value: 0.20"
         ],
         "type": "scatter",
         "x": [
          "norm_ec_per_occupant",
          "norm_eci_gfa"
         ],
         "y": [
          0.2793090958646001,
          0.20003140279439127
         ]
        },
        {
         "hoverinfo": "text",
         "line": {
          "color": "rgb(204, 80, 62)",
          "width": 1
         },
         "marker": {
          "color": "rgb(204, 80, 62)",
          "size": 6
         },
         "mode": "lines+markers",
         "showlegend": false,
         "text": [
          "Project: 77<br>Primary Use: Laboratory<br>Normalized Value: 0.28",
          "Project: 77<br>Primary Use: Laboratory<br>Normalized Value: 0.23"
         ],
         "type": "scatter",
         "x": [
          "norm_ec_per_occupant",
          "norm_eci_gfa"
         ],
         "y": [
          0.27783599055881747,
          0.22552519501233742
         ]
        },
        {
         "hoverinfo": "text",
         "line": {
          "color": "rgb(56, 166, 165)",
          "width": 1
         },
         "marker": {
          "color": "rgb(56, 166, 165)",
          "size": 6
         },
         "mode": "lines+markers",
         "showlegend": false,
         "text": [
          "Project: 80<br>Primary Use: Residential: Multifamily (5 or more units)<br>Normalized Value: 0.43",
          "Project: 80<br>Primary Use: Residential: Multifamily (5 or more units)<br>Normalized Value: 0.58"
         ],
         "type": "scatter",
         "x": [
          "norm_ec_per_occupant",
          "norm_eci_gfa"
         ],
         "y": [
          0.428382245779428,
          0.5799757134096248
         ]
        },
        {
         "hoverinfo": "text",
         "line": {
          "color": "rgb(29, 105, 150)",
          "width": 1
         },
         "marker": {
          "color": "rgb(29, 105, 150)",
          "size": 6
         },
         "mode": "lines+markers",
         "showlegend": false,
         "text": [
          "Project: 81<br>Primary Use: Office<br>Normalized Value: 0.90",
          "Project: 81<br>Primary Use: Office<br>Normalized Value: 0.51"
         ],
         "type": "scatter",
         "x": [
          "norm_ec_per_occupant",
          "norm_eci_gfa"
         ],
         "y": [
          0.9002003937061199,
          0.5124349260874471
         ]
        },
        {
         "hoverinfo": "text",
         "line": {
          "color": "rgb(95, 70, 144)",
          "width": 1
         },
         "marker": {
          "color": "rgb(95, 70, 144)",
          "size": 6
         },
         "mode": "lines+markers",
         "showlegend": false,
         "text": [
          "Project: 82<br>Primary Use: Education<br>Normalized Value: 0.30",
          "Project: 82<br>Primary Use: Education<br>Normalized Value: 0.59"
         ],
         "type": "scatter",
         "x": [
          "norm_ec_per_occupant",
          "norm_eci_gfa"
         ],
         "y": [
          0.2952350125110513,
          0.5901003330562644
         ]
        },
        {
         "hoverinfo": "text",
         "line": {
          "color": "rgb(225, 124, 5)",
          "width": 1
         },
         "marker": {
          "color": "rgb(225, 124, 5)",
          "size": 6
         },
         "mode": "lines+markers",
         "showlegend": false,
         "text": [
          "Project: 85<br>Primary Use: Public Order and Safety<br>Normalized Value: 0.85",
          "Project: 85<br>Primary Use: Public Order and Safety<br>Normalized Value: 0.71"
         ],
         "type": "scatter",
         "x": [
          "norm_ec_per_occupant",
          "norm_eci_gfa"
         ],
         "y": [
          0.8484892314870686,
          0.71459144136364
         ]
        },
        {
         "hoverinfo": "text",
         "line": {
          "color": "rgb(225, 124, 5)",
          "width": 1
         },
         "marker": {
          "color": "rgb(225, 124, 5)",
          "size": 6
         },
         "mode": "lines+markers",
         "showlegend": false,
         "text": [
          "Project: 86<br>Primary Use: Public Order and Safety<br>Normalized Value: 0.11",
          "Project: 86<br>Primary Use: Public Order and Safety<br>Normalized Value: 0.32"
         ],
         "type": "scatter",
         "x": [
          "norm_ec_per_occupant",
          "norm_eci_gfa"
         ],
         "y": [
          0.11341224630049303,
          0.3219503819392108
         ]
        },
        {
         "hoverinfo": "text",
         "line": {
          "color": "rgb(29, 105, 150)",
          "width": 1
         },
         "marker": {
          "color": "rgb(29, 105, 150)",
          "size": 6
         },
         "mode": "lines+markers",
         "showlegend": false,
         "text": [
          "Project: 87<br>Primary Use: Office<br>Normalized Value: 0.23",
          "Project: 87<br>Primary Use: Office<br>Normalized Value: 0.49"
         ],
         "type": "scatter",
         "x": [
          "norm_ec_per_occupant",
          "norm_eci_gfa"
         ],
         "y": [
          0.23010743019654542,
          0.4866198145523078
         ]
        },
        {
         "hoverinfo": "text",
         "line": {
          "color": "rgb(29, 105, 150)",
          "width": 1
         },
         "marker": {
          "color": "rgb(29, 105, 150)",
          "size": 6
         },
         "mode": "lines+markers",
         "showlegend": false,
         "text": [
          "Project: 88<br>Primary Use: Office<br>Normalized Value: 0.51",
          "Project: 88<br>Primary Use: Office<br>Normalized Value: 0.15"
         ],
         "type": "scatter",
         "x": [
          "norm_ec_per_occupant",
          "norm_eci_gfa"
         ],
         "y": [
          0.5113489900617163,
          0.15148648039806023
         ]
        },
        {
         "hoverinfo": "text",
         "line": {
          "color": "rgb(237, 173, 8)",
          "width": 1
         },
         "marker": {
          "color": "rgb(237, 173, 8)",
          "size": 6
         },
         "mode": "lines+markers",
         "showlegend": false,
         "text": [
          "Project: 90<br>Primary Use: Warehouse and Storage<br>Normalized Value: 0.33",
          "Project: 90<br>Primary Use: Warehouse and Storage<br>Normalized Value: 0.02"
         ],
         "type": "scatter",
         "x": [
          "norm_ec_per_occupant",
          "norm_eci_gfa"
         ],
         "y": [
          0.3297800428135207,
          0.02358851127452661
         ]
        },
        {
         "hoverinfo": "text",
         "line": {
          "color": "rgb(204, 80, 62)",
          "width": 1
         },
         "marker": {
          "color": "rgb(204, 80, 62)",
          "size": 6
         },
         "mode": "lines+markers",
         "showlegend": false,
         "text": [
          "Project: 92<br>Primary Use: Laboratory<br>Normalized Value: 0.25",
          "Project: 92<br>Primary Use: Laboratory<br>Normalized Value: 0.48"
         ],
         "type": "scatter",
         "x": [
          "norm_ec_per_occupant",
          "norm_eci_gfa"
         ],
         "y": [
          0.2482956411354968,
          0.4772575621011412
         ]
        },
        {
         "hoverinfo": "text",
         "line": {
          "color": "rgb(225, 124, 5)",
          "width": 1
         },
         "marker": {
          "color": "rgb(225, 124, 5)",
          "size": 6
         },
         "mode": "lines+markers",
         "showlegend": false,
         "text": [
          "Project: 94<br>Primary Use: Public Order and Safety<br>Normalized Value: 0.37",
          "Project: 94<br>Primary Use: Public Order and Safety<br>Normalized Value: 0.27"
         ],
         "type": "scatter",
         "x": [
          "norm_ec_per_occupant",
          "norm_eci_gfa"
         ],
         "y": [
          0.36649179840822615,
          0.27255163632562085
         ]
        },
        {
         "hoverinfo": "text",
         "line": {
          "color": "rgb(225, 124, 5)",
          "width": 1
         },
         "marker": {
          "color": "rgb(225, 124, 5)",
          "size": 6
         },
         "mode": "lines+markers",
         "showlegend": false,
         "text": [
          "Project: 95<br>Primary Use: Public Order and Safety<br>Normalized Value: 0.57",
          "Project: 95<br>Primary Use: Public Order and Safety<br>Normalized Value: 0.68"
         ],
         "type": "scatter",
         "x": [
          "norm_ec_per_occupant",
          "norm_eci_gfa"
         ],
         "y": [
          0.5687779493608106,
          0.6758496995035709
         ]
        },
        {
         "hoverinfo": "text",
         "line": {
          "color": "rgb(95, 70, 144)",
          "width": 1
         },
         "marker": {
          "color": "rgb(95, 70, 144)",
          "size": 6
         },
         "mode": "lines+markers",
         "showlegend": false,
         "text": [
          "Project: 99<br>Primary Use: Education<br>Normalized Value: 0.50",
          "Project: 99<br>Primary Use: Education<br>Normalized Value: 0.65"
         ],
         "type": "scatter",
         "x": [
          "norm_ec_per_occupant",
          "norm_eci_gfa"
         ],
         "y": [
          0.5006198168859463,
          0.6503550459710951
         ]
        },
        {
         "hoverinfo": "text",
         "line": {
          "color": "rgb(115, 175, 72)",
          "width": 1
         },
         "marker": {
          "color": "rgb(115, 175, 72)",
          "size": 6
         },
         "mode": "lines+markers",
         "showlegend": false,
         "text": [
          "Project: 101<br>Primary Use: Public Assembly<br>Normalized Value: 0.19",
          "Project: 101<br>Primary Use: Public Assembly<br>Normalized Value: 0.49"
         ],
         "type": "scatter",
         "x": [
          "norm_ec_per_occupant",
          "norm_eci_gfa"
         ],
         "y": [
          0.19488209653137123,
          0.48993622190303154
         ]
        },
        {
         "hoverinfo": "text",
         "line": {
          "color": "rgb(95, 70, 144)",
          "width": 1
         },
         "marker": {
          "color": "rgb(95, 70, 144)",
          "size": 6
         },
         "mode": "lines+markers",
         "showlegend": false,
         "text": [
          "Project: 104<br>Primary Use: Education<br>Normalized Value: 0.23",
          "Project: 104<br>Primary Use: Education<br>Normalized Value: 0.52"
         ],
         "type": "scatter",
         "x": [
          "norm_ec_per_occupant",
          "norm_eci_gfa"
         ],
         "y": [
          0.23216163236378573,
          0.5229756054324941
         ]
        },
        {
         "hoverinfo": "text",
         "line": {
          "color": "rgb(115, 175, 72)",
          "width": 1
         },
         "marker": {
          "color": "rgb(115, 175, 72)",
          "size": 6
         },
         "mode": "lines+markers",
         "showlegend": false,
         "text": [
          "Project: 105<br>Primary Use: Public Assembly<br>Normalized Value: 0.57",
          "Project: 105<br>Primary Use: Public Assembly<br>Normalized Value: 0.65"
         ],
         "type": "scatter",
         "x": [
          "norm_ec_per_occupant",
          "norm_eci_gfa"
         ],
         "y": [
          0.5687920300164448,
          0.652647120815125
         ]
        },
        {
         "hoverinfo": "text",
         "line": {
          "color": "rgb(115, 175, 72)",
          "width": 1
         },
         "marker": {
          "color": "rgb(115, 175, 72)",
          "size": 6
         },
         "mode": "lines+markers",
         "showlegend": false,
         "text": [
          "Project: 108<br>Primary Use: Public Assembly<br>Normalized Value: 0.87",
          "Project: 108<br>Primary Use: Public Assembly<br>Normalized Value: 1.00"
         ],
         "type": "scatter",
         "x": [
          "norm_ec_per_occupant",
          "norm_eci_gfa"
         ],
         "y": [
          0.8650452550777753,
          1
         ]
        },
        {
         "hoverinfo": "text",
         "line": {
          "color": "rgb(204, 80, 62)",
          "width": 1
         },
         "marker": {
          "color": "rgb(204, 80, 62)",
          "size": 6
         },
         "mode": "lines+markers",
         "showlegend": false,
         "text": [
          "Project: 110<br>Primary Use: Laboratory<br>Normalized Value: 0.86",
          "Project: 110<br>Primary Use: Laboratory<br>Normalized Value: 0.57"
         ],
         "type": "scatter",
         "x": [
          "norm_ec_per_occupant",
          "norm_eci_gfa"
         ],
         "y": [
          0.8607582228659215,
          0.5740352882855394
         ]
        },
        {
         "hoverinfo": "text",
         "line": {
          "color": "rgb(29, 105, 150)",
          "width": 1
         },
         "marker": {
          "color": "rgb(29, 105, 150)",
          "size": 6
         },
         "mode": "lines+markers",
         "showlegend": false,
         "text": [
          "Project: 113<br>Primary Use: Office<br>Normalized Value: 0.40",
          "Project: 113<br>Primary Use: Office<br>Normalized Value: 0.77"
         ],
         "type": "scatter",
         "x": [
          "norm_ec_per_occupant",
          "norm_eci_gfa"
         ],
         "y": [
          0.39784159959826765,
          0.7672037062922495
         ]
        },
        {
         "hoverinfo": "text",
         "line": {
          "color": "rgb(237, 173, 8)",
          "width": 1
         },
         "marker": {
          "color": "rgb(237, 173, 8)",
          "size": 6
         },
         "mode": "lines+markers",
         "showlegend": false,
         "text": [
          "Project: 115<br>Primary Use: Warehouse and Storage<br>Normalized Value: 0.96",
          "Project: 115<br>Primary Use: Warehouse and Storage<br>Normalized Value: 0.06"
         ],
         "type": "scatter",
         "x": [
          "norm_ec_per_occupant",
          "norm_eci_gfa"
         ],
         "y": [
          0.9617591090194535,
          0.05741819927273903
         ]
        },
        {
         "hoverinfo": "text",
         "line": {
          "color": "rgb(95, 70, 144)",
          "width": 1
         },
         "marker": {
          "color": "rgb(95, 70, 144)",
          "size": 6
         },
         "mode": "lines+markers",
         "showlegend": false,
         "text": [
          "Project: 120<br>Primary Use: Education<br>Normalized Value: 0.38",
          "Project: 120<br>Primary Use: Education<br>Normalized Value: 0.49"
         ],
         "type": "scatter",
         "x": [
          "norm_ec_per_occupant",
          "norm_eci_gfa"
         ],
         "y": [
          0.3833957451370272,
          0.4868003169729775
         ]
        },
        {
         "hoverinfo": "text",
         "line": {
          "color": "rgb(95, 70, 144)",
          "width": 1
         },
         "marker": {
          "color": "rgb(95, 70, 144)",
          "size": 6
         },
         "mode": "lines+markers",
         "showlegend": false,
         "text": [
          "Project: 122<br>Primary Use: Education<br>Normalized Value: 0.42",
          "Project: 122<br>Primary Use: Education<br>Normalized Value: 0.33"
         ],
         "type": "scatter",
         "x": [
          "norm_ec_per_occupant",
          "norm_eci_gfa"
         ],
         "y": [
          0.4200785275156097,
          0.32684935029522033
         ]
        },
        {
         "hoverinfo": "text",
         "line": {
          "color": "rgb(95, 70, 144)",
          "width": 1
         },
         "marker": {
          "color": "rgb(95, 70, 144)",
          "size": 6
         },
         "mode": "lines+markers",
         "showlegend": false,
         "text": [
          "Project: 124<br>Primary Use: Education<br>Normalized Value: 0.59",
          "Project: 124<br>Primary Use: Education<br>Normalized Value: 0.27"
         ],
         "type": "scatter",
         "x": [
          "norm_ec_per_occupant",
          "norm_eci_gfa"
         ],
         "y": [
          0.5897059203635338,
          0.2731644884956238
         ]
        },
        {
         "hoverinfo": "text",
         "line": {
          "color": "rgb(115, 175, 72)",
          "width": 1
         },
         "marker": {
          "color": "rgb(115, 175, 72)",
          "size": 6
         },
         "mode": "lines+markers",
         "showlegend": false,
         "text": [
          "Project: 126<br>Primary Use: Public Assembly<br>Normalized Value: 0.08",
          "Project: 126<br>Primary Use: Public Assembly<br>Normalized Value: 0.31"
         ],
         "type": "scatter",
         "x": [
          "norm_ec_per_occupant",
          "norm_eci_gfa"
         ],
         "y": [
          0.08452042012807263,
          0.31343569073845784
         ]
        },
        {
         "hoverinfo": "text",
         "line": {
          "color": "rgb(115, 175, 72)",
          "width": 1
         },
         "marker": {
          "color": "rgb(115, 175, 72)",
          "size": 6
         },
         "mode": "lines+markers",
         "showlegend": false,
         "text": [
          "Project: 127<br>Primary Use: Public Assembly<br>Normalized Value: 0.02",
          "Project: 127<br>Primary Use: Public Assembly<br>Normalized Value: 0.48"
         ],
         "type": "scatter",
         "x": [
          "norm_ec_per_occupant",
          "norm_eci_gfa"
         ],
         "y": [
          0.024164657022238904,
          0.4773130160307744
         ]
        },
        {
         "hoverinfo": "text",
         "line": {
          "color": "rgb(95, 70, 144)",
          "width": 1
         },
         "marker": {
          "color": "rgb(95, 70, 144)",
          "size": 6
         },
         "mode": "lines+markers",
         "showlegend": false,
         "text": [
          "Project: 129<br>Primary Use: Education<br>Normalized Value: 0.09",
          "Project: 129<br>Primary Use: Education<br>Normalized Value: 0.15"
         ],
         "type": "scatter",
         "x": [
          "norm_ec_per_occupant",
          "norm_eci_gfa"
         ],
         "y": [
          0.09300781458126911,
          0.14892989633112963
         ]
        },
        {
         "hoverinfo": "text",
         "line": {
          "color": "rgb(95, 70, 144)",
          "width": 1
         },
         "marker": {
          "color": "rgb(95, 70, 144)",
          "size": 6
         },
         "mode": "lines+markers",
         "showlegend": false,
         "text": [
          "Project: 130<br>Primary Use: Education<br>Normalized Value: 0.12",
          "Project: 130<br>Primary Use: Education<br>Normalized Value: 0.12"
         ],
         "type": "scatter",
         "x": [
          "norm_ec_per_occupant",
          "norm_eci_gfa"
         ],
         "y": [
          0.12106156477185981,
          0.12171849992064059
         ]
        },
        {
         "hoverinfo": "text",
         "line": {
          "color": "rgb(115, 175, 72)",
          "width": 1
         },
         "marker": {
          "color": "rgb(115, 175, 72)",
          "size": 6
         },
         "mode": "lines+markers",
         "showlegend": false,
         "text": [
          "Project: 142<br>Primary Use: Public Assembly<br>Normalized Value: 0.09",
          "Project: 142<br>Primary Use: Public Assembly<br>Normalized Value: 0.06"
         ],
         "type": "scatter",
         "x": [
          "norm_ec_per_occupant",
          "norm_eci_gfa"
         ],
         "y": [
          0.0895197161972088,
          0.05547372367457312
         ]
        },
        {
         "hoverinfo": "text",
         "line": {
          "color": "rgb(95, 70, 144)",
          "width": 1
         },
         "marker": {
          "color": "rgb(95, 70, 144)",
          "size": 6
         },
         "mode": "lines+markers",
         "showlegend": false,
         "text": [
          "Project: 147<br>Primary Use: Education<br>Normalized Value: 0.37",
          "Project: 147<br>Primary Use: Education<br>Normalized Value: 0.57"
         ],
         "type": "scatter",
         "x": [
          "norm_ec_per_occupant",
          "norm_eci_gfa"
         ],
         "y": [
          0.3720512537234604,
          0.5739639361429872
         ]
        },
        {
         "hoverinfo": "text",
         "line": {
          "color": "rgb(95, 70, 144)",
          "width": 1
         },
         "marker": {
          "color": "rgb(95, 70, 144)",
          "size": 6
         },
         "mode": "lines+markers",
         "showlegend": false,
         "text": [
          "Project: 151<br>Primary Use: Education<br>Normalized Value: 0.69",
          "Project: 151<br>Primary Use: Education<br>Normalized Value: 0.94"
         ],
         "type": "scatter",
         "x": [
          "norm_ec_per_occupant",
          "norm_eci_gfa"
         ],
         "y": [
          0.6920314133824094,
          0.9367559289948449
         ]
        },
        {
         "hoverinfo": "text",
         "line": {
          "color": "rgb(95, 70, 144)",
          "width": 1
         },
         "marker": {
          "color": "rgb(95, 70, 144)",
          "size": 6
         },
         "mode": "lines+markers",
         "showlegend": false,
         "text": [
          "Project: 152<br>Primary Use: Education<br>Normalized Value: 0.15",
          "Project: 152<br>Primary Use: Education<br>Normalized Value: 0.23"
         ],
         "type": "scatter",
         "x": [
          "norm_ec_per_occupant",
          "norm_eci_gfa"
         ],
         "y": [
          0.1539452751011624,
          0.22863060815502195
         ]
        },
        {
         "hoverinfo": "text",
         "line": {
          "color": "rgb(225, 124, 5)",
          "width": 1
         },
         "marker": {
          "color": "rgb(225, 124, 5)",
          "size": 6
         },
         "mode": "lines+markers",
         "showlegend": false,
         "text": [
          "Project: 156<br>Primary Use: Public Order and Safety<br>Normalized Value: 0.62",
          "Project: 156<br>Primary Use: Public Order and Safety<br>Normalized Value: 0.82"
         ],
         "type": "scatter",
         "x": [
          "norm_ec_per_occupant",
          "norm_eci_gfa"
         ],
         "y": [
          0.6159209792344522,
          0.8182641204980636
         ]
        },
        {
         "hoverinfo": "text",
         "line": {
          "color": "rgb(95, 70, 144)",
          "width": 1
         },
         "marker": {
          "color": "rgb(95, 70, 144)",
          "size": 6
         },
         "mode": "lines+markers",
         "showlegend": false,
         "text": [
          "Project: 157<br>Primary Use: Education<br>Normalized Value: 0.39",
          "Project: 157<br>Primary Use: Education<br>Normalized Value: 0.44"
         ],
         "type": "scatter",
         "x": [
          "norm_ec_per_occupant",
          "norm_eci_gfa"
         ],
         "y": [
          0.3911731100418643,
          0.44262450091546834
         ]
        },
        {
         "hoverinfo": "text",
         "line": {
          "color": "rgb(115, 175, 72)",
          "width": 1
         },
         "marker": {
          "color": "rgb(115, 175, 72)",
          "size": 6
         },
         "mode": "lines+markers",
         "showlegend": false,
         "text": [
          "Project: 163<br>Primary Use: Public Assembly<br>Normalized Value: 0.41",
          "Project: 163<br>Primary Use: Public Assembly<br>Normalized Value: 0.47"
         ],
         "type": "scatter",
         "x": [
          "norm_ec_per_occupant",
          "norm_eci_gfa"
         ],
         "y": [
          0.4107789103801789,
          0.46510692067760256
         ]
        },
        {
         "hoverinfo": "text",
         "line": {
          "color": "rgb(56, 166, 165)",
          "width": 1
         },
         "marker": {
          "color": "rgb(56, 166, 165)",
          "size": 6
         },
         "mode": "lines+markers",
         "showlegend": false,
         "text": [
          "Project: 171<br>Primary Use: Residential: Multifamily (5 or more units)<br>Normalized Value: 0.86",
          "Project: 171<br>Primary Use: Residential: Multifamily (5 or more units)<br>Normalized Value: 0.39"
         ],
         "type": "scatter",
         "x": [
          "norm_ec_per_occupant",
          "norm_eci_gfa"
         ],
         "y": [
          0.8561487742933738,
          0.38713207552252643
         ]
        },
        {
         "hoverinfo": "text",
         "line": {
          "color": "rgb(115, 175, 72)",
          "width": 1
         },
         "marker": {
          "color": "rgb(115, 175, 72)",
          "size": 6
         },
         "mode": "lines+markers",
         "showlegend": false,
         "text": [
          "Project: 173<br>Primary Use: Public Assembly<br>Normalized Value: 0.19",
          "Project: 173<br>Primary Use: Public Assembly<br>Normalized Value: 0.59"
         ],
         "type": "scatter",
         "x": [
          "norm_ec_per_occupant",
          "norm_eci_gfa"
         ],
         "y": [
          0.19100170080740694,
          0.5887399193664421
         ]
        },
        {
         "hoverinfo": "text",
         "line": {
          "color": "rgb(56, 166, 165)",
          "width": 1
         },
         "marker": {
          "color": "rgb(56, 166, 165)",
          "size": 6
         },
         "mode": "lines+markers",
         "showlegend": false,
         "text": [
          "Project: 174<br>Primary Use: Residential: Multifamily (5 or more units)<br>Normalized Value: 0.11",
          "Project: 174<br>Primary Use: Residential: Multifamily (5 or more units)<br>Normalized Value: 0.15"
         ],
         "type": "scatter",
         "x": [
          "norm_ec_per_occupant",
          "norm_eci_gfa"
         ],
         "y": [
          0.10551813530167752,
          0.14934395449720564
         ]
        },
        {
         "hoverinfo": "text",
         "line": {
          "color": "rgb(56, 166, 165)",
          "width": 1
         },
         "marker": {
          "color": "rgb(56, 166, 165)",
          "size": 6
         },
         "mode": "lines+markers",
         "showlegend": false,
         "text": [
          "Project: 175<br>Primary Use: Residential: Multifamily (5 or more units)<br>Normalized Value: 0.14",
          "Project: 175<br>Primary Use: Residential: Multifamily (5 or more units)<br>Normalized Value: 0.00"
         ],
         "type": "scatter",
         "x": [
          "norm_ec_per_occupant",
          "norm_eci_gfa"
         ],
         "y": [
          0.14431681597632345,
          0
         ]
        },
        {
         "hoverinfo": "text",
         "line": {
          "color": "rgb(95, 70, 144)",
          "width": 1
         },
         "marker": {
          "color": "rgb(95, 70, 144)",
          "size": 6
         },
         "mode": "lines+markers",
         "showlegend": false,
         "text": [
          "Project: 176<br>Primary Use: Education<br>Normalized Value: 0.10",
          "Project: 176<br>Primary Use: Education<br>Normalized Value: 0.29"
         ],
         "type": "scatter",
         "x": [
          "norm_ec_per_occupant",
          "norm_eci_gfa"
         ],
         "y": [
          0.09630784842229785,
          0.29271547970801587
         ]
        },
        {
         "hoverinfo": "text",
         "line": {
          "color": "rgb(95, 70, 144)",
          "width": 1
         },
         "marker": {
          "color": "rgb(95, 70, 144)",
          "size": 6
         },
         "mode": "lines+markers",
         "showlegend": false,
         "text": [
          "Project: 178<br>Primary Use: Education<br>Normalized Value: 0.22",
          "Project: 178<br>Primary Use: Education<br>Normalized Value: 0.66"
         ],
         "type": "scatter",
         "x": [
          "norm_ec_per_occupant",
          "norm_eci_gfa"
         ],
         "y": [
          0.2243348115428352,
          0.6595795508656678
         ]
        },
        {
         "hoverinfo": "text",
         "line": {
          "color": "rgb(95, 70, 144)",
          "width": 1
         },
         "marker": {
          "color": "rgb(95, 70, 144)",
          "size": 6
         },
         "mode": "lines+markers",
         "showlegend": false,
         "text": [
          "Project: 179<br>Primary Use: Education<br>Normalized Value: 0.15",
          "Project: 179<br>Primary Use: Education<br>Normalized Value: 0.24"
         ],
         "type": "scatter",
         "x": [
          "norm_ec_per_occupant",
          "norm_eci_gfa"
         ],
         "y": [
          0.15312297706769706,
          0.24459874501908568
         ]
        },
        {
         "hoverinfo": "text",
         "line": {
          "color": "rgb(115, 175, 72)",
          "width": 1
         },
         "marker": {
          "color": "rgb(115, 175, 72)",
          "size": 6
         },
         "mode": "lines+markers",
         "showlegend": false,
         "text": [
          "Project: 180<br>Primary Use: Public Assembly<br>Normalized Value: 0.03",
          "Project: 180<br>Primary Use: Public Assembly<br>Normalized Value: 0.13"
         ],
         "type": "scatter",
         "x": [
          "norm_ec_per_occupant",
          "norm_eci_gfa"
         ],
         "y": [
          0.03189460535691596,
          0.13264703945637374
         ]
        },
        {
         "hoverinfo": "text",
         "line": {
          "color": "rgb(95, 70, 144)",
          "width": 1
         },
         "marker": {
          "color": "rgb(95, 70, 144)",
          "size": 6
         },
         "mode": "lines+markers",
         "showlegend": false,
         "text": [
          "Project: 181<br>Primary Use: Education<br>Normalized Value: 0.12",
          "Project: 181<br>Primary Use: Education<br>Normalized Value: 0.18"
         ],
         "type": "scatter",
         "x": [
          "norm_ec_per_occupant",
          "norm_eci_gfa"
         ],
         "y": [
          0.11513913932994675,
          0.17563441374149244
         ]
        },
        {
         "hoverinfo": "text",
         "line": {
          "color": "rgb(95, 70, 144)",
          "width": 1
         },
         "marker": {
          "color": "rgb(95, 70, 144)",
          "size": 6
         },
         "mode": "lines+markers",
         "showlegend": false,
         "text": [
          "Project: 182<br>Primary Use: Education<br>Normalized Value: 0.15",
          "Project: 182<br>Primary Use: Education<br>Normalized Value: 0.21"
         ],
         "type": "scatter",
         "x": [
          "norm_ec_per_occupant",
          "norm_eci_gfa"
         ],
         "y": [
          0.152013951157896,
          0.2114222322629669
         ]
        },
        {
         "hoverinfo": "text",
         "line": {
          "color": "rgb(29, 105, 150)",
          "width": 1
         },
         "marker": {
          "color": "rgb(29, 105, 150)",
          "size": 6
         },
         "mode": "lines+markers",
         "showlegend": false,
         "text": [
          "Project: 184<br>Primary Use: Office<br>Normalized Value: 0.19",
          "Project: 184<br>Primary Use: Office<br>Normalized Value: 0.14"
         ],
         "type": "scatter",
         "x": [
          "norm_ec_per_occupant",
          "norm_eci_gfa"
         ],
         "y": [
          0.18749672015516608,
          0.13511524436311587
         ]
        },
        {
         "hoverinfo": "text",
         "line": {
          "color": "rgb(95, 70, 144)",
          "width": 1
         },
         "marker": {
          "color": "rgb(95, 70, 144)",
          "size": 6
         },
         "mode": "lines+markers",
         "showlegend": false,
         "text": [
          "Project: 185<br>Primary Use: Education<br>Normalized Value: 0.00",
          "Project: 185<br>Primary Use: Education<br>Normalized Value: 0.18"
         ],
         "type": "scatter",
         "x": [
          "norm_ec_per_occupant",
          "norm_eci_gfa"
         ],
         "y": [
          0,
          0.18029566684727147
         ]
        },
        {
         "hoverinfo": "text",
         "line": {
          "color": "rgb(95, 70, 144)",
          "width": 1
         },
         "marker": {
          "color": "rgb(95, 70, 144)",
          "size": 6
         },
         "mode": "lines+markers",
         "showlegend": false,
         "text": [
          "Project: 186<br>Primary Use: Education<br>Normalized Value: 0.11",
          "Project: 186<br>Primary Use: Education<br>Normalized Value: 0.52"
         ],
         "type": "scatter",
         "x": [
          "norm_ec_per_occupant",
          "norm_eci_gfa"
         ],
         "y": [
          0.10621556507343696,
          0.5246574327250328
         ]
        },
        {
         "hoverinfo": "text",
         "line": {
          "color": "rgb(95, 70, 144)",
          "width": 1
         },
         "marker": {
          "color": "rgb(95, 70, 144)",
          "size": 6
         },
         "mode": "lines+markers",
         "showlegend": false,
         "text": [
          "Project: 189<br>Primary Use: Education<br>Normalized Value: 0.34",
          "Project: 189<br>Primary Use: Education<br>Normalized Value: 0.64"
         ],
         "type": "scatter",
         "x": [
          "norm_ec_per_occupant",
          "norm_eci_gfa"
         ],
         "y": [
          0.3440881884280694,
          0.6400428178879226
         ]
        },
        {
         "hoverinfo": "text",
         "line": {
          "color": "rgb(56, 166, 165)",
          "width": 1
         },
         "marker": {
          "color": "rgb(56, 166, 165)",
          "size": 6
         },
         "mode": "lines+markers",
         "showlegend": false,
         "text": [
          "Project: 193<br>Primary Use: Residential: Multifamily (5 or more units)<br>Normalized Value: 0.32",
          "Project: 193<br>Primary Use: Residential: Multifamily (5 or more units)<br>Normalized Value: 0.11"
         ],
         "type": "scatter",
         "x": [
          "norm_ec_per_occupant",
          "norm_eci_gfa"
         ],
         "y": [
          0.3178718310198695,
          0.10724814898100489
         ]
        },
        {
         "hoverinfo": "text",
         "line": {
          "color": "rgb(29, 105, 150)",
          "width": 1
         },
         "marker": {
          "color": "rgb(29, 105, 150)",
          "size": 6
         },
         "mode": "lines+markers",
         "showlegend": false,
         "text": [
          "Project: 194<br>Primary Use: Office<br>Normalized Value: 0.61",
          "Project: 194<br>Primary Use: Office<br>Normalized Value: 0.46"
         ],
         "type": "scatter",
         "x": [
          "norm_ec_per_occupant",
          "norm_eci_gfa"
         ],
         "y": [
          0.613006211471347,
          0.46328053366554484
         ]
        },
        {
         "hoverinfo": "text",
         "line": {
          "color": "rgb(115, 175, 72)",
          "width": 1
         },
         "marker": {
          "color": "rgb(115, 175, 72)",
          "size": 6
         },
         "mode": "lines+markers",
         "showlegend": false,
         "text": [
          "Project: 200<br>Primary Use: Public Assembly<br>Normalized Value: 0.25",
          "Project: 200<br>Primary Use: Public Assembly<br>Normalized Value: 0.87"
         ],
         "type": "scatter",
         "x": [
          "norm_ec_per_occupant",
          "norm_eci_gfa"
         ],
         "y": [
          0.25356672720794304,
          0.8722154445017192
         ]
        },
        {
         "hoverinfo": "text",
         "line": {
          "color": "rgb(204, 80, 62)",
          "width": 1
         },
         "marker": {
          "color": "rgb(204, 80, 62)",
          "size": 6
         },
         "mode": "lines+markers",
         "showlegend": false,
         "text": [
          "Project: 205<br>Primary Use: Laboratory<br>Normalized Value: 0.57",
          "Project: 205<br>Primary Use: Laboratory<br>Normalized Value: 0.61"
         ],
         "type": "scatter",
         "x": [
          "norm_ec_per_occupant",
          "norm_eci_gfa"
         ],
         "y": [
          0.5686444109277397,
          0.606972441378198
         ]
        },
        {
         "hoverinfo": "text",
         "line": {
          "color": "rgb(29, 105, 150)",
          "width": 1
         },
         "marker": {
          "color": "rgb(29, 105, 150)",
          "size": 6
         },
         "mode": "lines+markers",
         "showlegend": false,
         "text": [
          "Project: 206<br>Primary Use: Office<br>Normalized Value: 0.68",
          "Project: 206<br>Primary Use: Office<br>Normalized Value: 0.47"
         ],
         "type": "scatter",
         "x": [
          "norm_ec_per_occupant",
          "norm_eci_gfa"
         ],
         "y": [
          0.6796122356624861,
          0.4749281109692145
         ]
        },
        {
         "hoverinfo": "text",
         "line": {
          "color": "rgb(204, 80, 62)",
          "width": 1
         },
         "marker": {
          "color": "rgb(204, 80, 62)",
          "size": 6
         },
         "mode": "lines+markers",
         "showlegend": false,
         "text": [
          "Project: 211<br>Primary Use: Laboratory<br>Normalized Value: 0.35",
          "Project: 211<br>Primary Use: Laboratory<br>Normalized Value: 0.45"
         ],
         "type": "scatter",
         "x": [
          "norm_ec_per_occupant",
          "norm_eci_gfa"
         ],
         "y": [
          0.3531131811832386,
          0.4485160952448625
         ]
        },
        {
         "hoverinfo": "text",
         "line": {
          "color": "rgb(115, 175, 72)",
          "width": 1
         },
         "marker": {
          "color": "rgb(115, 175, 72)",
          "size": 6
         },
         "mode": "lines+markers",
         "showlegend": false,
         "text": [
          "Project: 212<br>Primary Use: Public Assembly<br>Normalized Value: 0.08",
          "Project: 212<br>Primary Use: Public Assembly<br>Normalized Value: 0.10"
         ],
         "type": "scatter",
         "x": [
          "norm_ec_per_occupant",
          "norm_eci_gfa"
         ],
         "y": [
          0.07562162338785801,
          0.09822220094418706
         ]
        },
        {
         "hoverinfo": "text",
         "line": {
          "color": "rgb(95, 70, 144)",
          "width": 1
         },
         "marker": {
          "color": "rgb(95, 70, 144)",
          "size": 6
         },
         "mode": "lines+markers",
         "showlegend": false,
         "text": [
          "Project: 214<br>Primary Use: Education<br>Normalized Value: 0.25",
          "Project: 214<br>Primary Use: Education<br>Normalized Value: 0.34"
         ],
         "type": "scatter",
         "x": [
          "norm_ec_per_occupant",
          "norm_eci_gfa"
         ],
         "y": [
          0.2546665011282438,
          0.3380449942763282
         ]
        },
        {
         "hoverinfo": "text",
         "line": {
          "color": "rgb(29, 105, 150)",
          "width": 1
         },
         "marker": {
          "color": "rgb(29, 105, 150)",
          "size": 6
         },
         "mode": "lines+markers",
         "showlegend": false,
         "text": [
          "Project: 215<br>Primary Use: Office<br>Normalized Value: 0.27",
          "Project: 215<br>Primary Use: Office<br>Normalized Value: 0.52"
         ],
         "type": "scatter",
         "x": [
          "norm_ec_per_occupant",
          "norm_eci_gfa"
         ],
         "y": [
          0.2704371264841344,
          0.5222261658045654
         ]
        },
        {
         "hoverinfo": "text",
         "line": {
          "color": "rgb(95, 70, 144)",
          "width": 1
         },
         "marker": {
          "color": "rgb(95, 70, 144)",
          "size": 6
         },
         "mode": "lines+markers",
         "showlegend": false,
         "text": [
          "Project: 216<br>Primary Use: Education<br>Normalized Value: 0.38",
          "Project: 216<br>Primary Use: Education<br>Normalized Value: 0.50"
         ],
         "type": "scatter",
         "x": [
          "norm_ec_per_occupant",
          "norm_eci_gfa"
         ],
         "y": [
          0.38210578652912813,
          0.4950010905811329
         ]
        },
        {
         "hoverinfo": "text",
         "line": {
          "color": "rgb(115, 175, 72)",
          "width": 1
         },
         "marker": {
          "color": "rgb(115, 175, 72)",
          "size": 6
         },
         "mode": "lines+markers",
         "showlegend": false,
         "text": [
          "Project: 217<br>Primary Use: Public Assembly<br>Normalized Value: 0.20",
          "Project: 217<br>Primary Use: Public Assembly<br>Normalized Value: 0.33"
         ],
         "type": "scatter",
         "x": [
          "norm_ec_per_occupant",
          "norm_eci_gfa"
         ],
         "y": [
          0.20123642537419129,
          0.32663584192607986
         ]
        },
        {
         "hoverinfo": "text",
         "line": {
          "color": "rgb(115, 175, 72)",
          "width": 1
         },
         "marker": {
          "color": "rgb(115, 175, 72)",
          "size": 6
         },
         "mode": "lines+markers",
         "showlegend": false,
         "text": [
          "Project: 218<br>Primary Use: Public Assembly<br>Normalized Value: 0.34",
          "Project: 218<br>Primary Use: Public Assembly<br>Normalized Value: 0.57"
         ],
         "type": "scatter",
         "x": [
          "norm_ec_per_occupant",
          "norm_eci_gfa"
         ],
         "y": [
          0.33962322351453245,
          0.5704241812761057
         ]
        },
        {
         "hoverinfo": "text",
         "line": {
          "color": "rgb(204, 80, 62)",
          "width": 1
         },
         "marker": {
          "color": "rgb(204, 80, 62)",
          "size": 6
         },
         "mode": "lines+markers",
         "showlegend": false,
         "text": [
          "Project: 221<br>Primary Use: Laboratory<br>Normalized Value: 0.26",
          "Project: 221<br>Primary Use: Laboratory<br>Normalized Value: 0.15"
         ],
         "type": "scatter",
         "x": [
          "norm_ec_per_occupant",
          "norm_eci_gfa"
         ],
         "y": [
          0.25998174958305736,
          0.15374342714707526
         ]
        },
        {
         "hoverinfo": "text",
         "line": {
          "color": "rgb(115, 175, 72)",
          "width": 1
         },
         "marker": {
          "color": "rgb(115, 175, 72)",
          "size": 6
         },
         "mode": "lines+markers",
         "showlegend": false,
         "text": [
          "Project: 223<br>Primary Use: Public Assembly<br>Normalized Value: 0.19",
          "Project: 223<br>Primary Use: Public Assembly<br>Normalized Value: 0.58"
         ],
         "type": "scatter",
         "x": [
          "norm_ec_per_occupant",
          "norm_eci_gfa"
         ],
         "y": [
          0.19268271252227187,
          0.5806326981288208
         ]
        },
        {
         "hoverinfo": "text",
         "line": {
          "color": "rgb(15, 133, 84)",
          "width": 1
         },
         "marker": {
          "color": "rgb(15, 133, 84)",
          "size": 6
         },
         "mode": "lines+markers",
         "showlegend": false,
         "text": [
          "Project: 224<br>Primary Use: Healthcare<br>Normalized Value: 0.73",
          "Project: 224<br>Primary Use: Healthcare<br>Normalized Value: 0.58"
         ],
         "type": "scatter",
         "x": [
          "norm_ec_per_occupant",
          "norm_eci_gfa"
         ],
         "y": [
          0.7348467843323254,
          0.5835690130100238
         ]
        },
        {
         "hoverinfo": "text",
         "line": {
          "color": "rgb(204, 80, 62)",
          "width": 1
         },
         "marker": {
          "color": "rgb(204, 80, 62)",
          "size": 6
         },
         "mode": "lines+markers",
         "showlegend": false,
         "text": [
          "Project: 229<br>Primary Use: Laboratory<br>Normalized Value: 0.26",
          "Project: 229<br>Primary Use: Laboratory<br>Normalized Value: 0.25"
         ],
         "type": "scatter",
         "x": [
          "norm_ec_per_occupant",
          "norm_eci_gfa"
         ],
         "y": [
          0.25748844738775883,
          0.2513993304020884
         ]
        },
        {
         "hoverinfo": "text",
         "line": {
          "color": "rgb(95, 70, 144)",
          "width": 1
         },
         "marker": {
          "color": "rgb(95, 70, 144)",
          "size": 6
         },
         "mode": "lines+markers",
         "showlegend": false,
         "text": [
          "Project: 231<br>Primary Use: Education<br>Normalized Value: 1.00",
          "Project: 231<br>Primary Use: Education<br>Normalized Value: 0.73"
         ],
         "type": "scatter",
         "x": [
          "norm_ec_per_occupant",
          "norm_eci_gfa"
         ],
         "y": [
          1,
          0.7286840722028144
         ]
        },
        {
         "hoverinfo": "text",
         "line": {
          "color": "rgb(115, 175, 72)",
          "width": 1
         },
         "marker": {
          "color": "rgb(115, 175, 72)",
          "size": 6
         },
         "mode": "lines+markers",
         "showlegend": false,
         "text": [
          "Project: 232<br>Primary Use: Public Assembly<br>Normalized Value: 0.25",
          "Project: 232<br>Primary Use: Public Assembly<br>Normalized Value: 0.26"
         ],
         "type": "scatter",
         "x": [
          "norm_ec_per_occupant",
          "norm_eci_gfa"
         ],
         "y": [
          0.2543415111469295,
          0.25721951402782145
         ]
        },
        {
         "hoverinfo": "text",
         "line": {
          "color": "rgb(204, 80, 62)",
          "width": 1
         },
         "marker": {
          "color": "rgb(204, 80, 62)",
          "size": 6
         },
         "mode": "lines+markers",
         "showlegend": false,
         "text": [
          "Project: 234<br>Primary Use: Laboratory<br>Normalized Value: 0.49",
          "Project: 234<br>Primary Use: Laboratory<br>Normalized Value: 0.43"
         ],
         "type": "scatter",
         "x": [
          "norm_ec_per_occupant",
          "norm_eci_gfa"
         ],
         "y": [
          0.48504724998982746,
          0.43399633981034297
         ]
        },
        {
         "hoverinfo": "text",
         "line": {
          "color": "rgb(204, 80, 62)",
          "width": 1
         },
         "marker": {
          "color": "rgb(204, 80, 62)",
          "size": 6
         },
         "mode": "lines+markers",
         "showlegend": false,
         "text": [
          "Project: 235<br>Primary Use: Laboratory<br>Normalized Value: 0.45",
          "Project: 235<br>Primary Use: Laboratory<br>Normalized Value: 0.39"
         ],
         "type": "scatter",
         "x": [
          "norm_ec_per_occupant",
          "norm_eci_gfa"
         ],
         "y": [
          0.4523693649188466,
          0.39077733025955236
         ]
        },
        {
         "hoverinfo": "text",
         "line": {
          "color": "rgb(204, 80, 62)",
          "width": 1
         },
         "marker": {
          "color": "rgb(204, 80, 62)",
          "size": 6
         },
         "mode": "lines+markers",
         "showlegend": false,
         "text": [
          "Project: 238<br>Primary Use: Laboratory<br>Normalized Value: 0.36",
          "Project: 238<br>Primary Use: Laboratory<br>Normalized Value: 0.35"
         ],
         "type": "scatter",
         "x": [
          "norm_ec_per_occupant",
          "norm_eci_gfa"
         ],
         "y": [
          0.3568032979767774,
          0.3463760943709919
         ]
        },
        {
         "hoverinfo": "text",
         "line": {
          "color": "rgb(95, 70, 144)",
          "width": 1
         },
         "marker": {
          "color": "rgb(95, 70, 144)",
          "size": 6
         },
         "mode": "lines+markers",
         "showlegend": false,
         "text": [
          "Project: 245<br>Primary Use: Education<br>Normalized Value: 0.21",
          "Project: 245<br>Primary Use: Education<br>Normalized Value: 0.20"
         ],
         "type": "scatter",
         "x": [
          "norm_ec_per_occupant",
          "norm_eci_gfa"
         ],
         "y": [
          0.20611958453277643,
          0.19661778514787664
         ]
        },
        {
         "hoverinfo": "text",
         "line": {
          "color": "rgb(95, 70, 144)",
          "width": 1
         },
         "marker": {
          "color": "rgb(95, 70, 144)",
          "size": 6
         },
         "mode": "lines+markers",
         "showlegend": false,
         "text": [
          "Project: 247<br>Primary Use: Education<br>Normalized Value: 0.32",
          "Project: 247<br>Primary Use: Education<br>Normalized Value: 0.42"
         ],
         "type": "scatter",
         "x": [
          "norm_ec_per_occupant",
          "norm_eci_gfa"
         ],
         "y": [
          0.3177138129259835,
          0.41559433641407284
         ]
        },
        {
         "hoverinfo": "text",
         "line": {
          "color": "rgb(56, 166, 165)",
          "width": 1
         },
         "marker": {
          "color": "rgb(56, 166, 165)",
          "size": 6
         },
         "mode": "lines+markers",
         "showlegend": false,
         "text": [
          "Project: 249<br>Primary Use: Residential: Multifamily (5 or more units)<br>Normalized Value: 0.96",
          "Project: 249<br>Primary Use: Residential: Multifamily (5 or more units)<br>Normalized Value: 0.38"
         ],
         "type": "scatter",
         "x": [
          "norm_ec_per_occupant",
          "norm_eci_gfa"
         ],
         "y": [
          0.9635992172525893,
          0.3781448621423474
         ]
        },
        {
         "hoverinfo": "text",
         "line": {
          "color": "rgb(95, 70, 144)",
          "width": 1
         },
         "marker": {
          "color": "rgb(95, 70, 144)",
          "size": 6
         },
         "mode": "lines+markers",
         "showlegend": false,
         "text": [
          "Project: 251<br>Primary Use: Education<br>Normalized Value: 0.15",
          "Project: 251<br>Primary Use: Education<br>Normalized Value: 0.09"
         ],
         "type": "scatter",
         "x": [
          "norm_ec_per_occupant",
          "norm_eci_gfa"
         ],
         "y": [
          0.145511981754009,
          0.09362601952461658
         ]
        },
        {
         "hoverinfo": "text",
         "line": {
          "color": "rgb(95, 70, 144)",
          "width": 1
         },
         "marker": {
          "color": "rgb(95, 70, 144)",
          "size": 6
         },
         "mode": "lines+markers",
         "showlegend": false,
         "text": [
          "Project: 254<br>Primary Use: Education<br>Normalized Value: 0.33",
          "Project: 254<br>Primary Use: Education<br>Normalized Value: 0.21"
         ],
         "type": "scatter",
         "x": [
          "norm_ec_per_occupant",
          "norm_eci_gfa"
         ],
         "y": [
          0.3278924216072461,
          0.20988683990982643
         ]
        },
        {
         "hoverinfo": "text",
         "line": {
          "color": "rgb(237, 173, 8)",
          "width": 1
         },
         "marker": {
          "color": "rgb(237, 173, 8)",
          "size": 6
         },
         "mode": "lines+markers",
         "showlegend": false,
         "text": [
          "Project: 256<br>Primary Use: Warehouse and Storage<br>Normalized Value: 0.77",
          "Project: 256<br>Primary Use: Warehouse and Storage<br>Normalized Value: 0.07"
         ],
         "type": "scatter",
         "x": [
          "norm_ec_per_occupant",
          "norm_eci_gfa"
         ],
         "y": [
          0.7686403661247151,
          0.07319375410966428
         ]
        },
        {
         "hoverinfo": "text",
         "line": {
          "color": "rgb(95, 70, 144)",
          "width": 1
         },
         "marker": {
          "color": "rgb(95, 70, 144)",
          "size": 6
         },
         "mode": "lines+markers",
         "showlegend": false,
         "text": [
          "Project: 259<br>Primary Use: Education<br>Normalized Value: 0.09",
          "Project: 259<br>Primary Use: Education<br>Normalized Value: 0.25"
         ],
         "type": "scatter",
         "x": [
          "norm_ec_per_occupant",
          "norm_eci_gfa"
         ],
         "y": [
          0.09468688099999473,
          0.24788976098719223
         ]
        },
        {
         "hoverinfo": "text",
         "line": {
          "color": "rgb(115, 175, 72)",
          "width": 1
         },
         "marker": {
          "color": "rgb(115, 175, 72)",
          "size": 6
         },
         "mode": "lines+markers",
         "showlegend": false,
         "text": [
          "Project: 260<br>Primary Use: Public Assembly<br>Normalized Value: 0.21",
          "Project: 260<br>Primary Use: Public Assembly<br>Normalized Value: 0.40"
         ],
         "type": "scatter",
         "x": [
          "norm_ec_per_occupant",
          "norm_eci_gfa"
         ],
         "y": [
          0.21368899170237804,
          0.40043026723969954
         ]
        },
        {
         "hoverinfo": "text",
         "line": {
          "color": "rgb(115, 175, 72)",
          "width": 1
         },
         "marker": {
          "color": "rgb(115, 175, 72)",
          "size": 6
         },
         "mode": "lines+markers",
         "showlegend": false,
         "text": [
          "Project: 263<br>Primary Use: Public Assembly<br>Normalized Value: 0.17",
          "Project: 263<br>Primary Use: Public Assembly<br>Normalized Value: 0.31"
         ],
         "type": "scatter",
         "x": [
          "norm_ec_per_occupant",
          "norm_eci_gfa"
         ],
         "y": [
          0.1726508244301517,
          0.30950012991856496
         ]
        },
        {
         "hoverinfo": "text",
         "line": {
          "color": "rgb(29, 105, 150)",
          "width": 1
         },
         "marker": {
          "color": "rgb(29, 105, 150)",
          "size": 6
         },
         "mode": "lines+markers",
         "showlegend": false,
         "text": [
          "Project: 268<br>Primary Use: Office<br>Normalized Value: 0.38",
          "Project: 268<br>Primary Use: Office<br>Normalized Value: 0.14"
         ],
         "type": "scatter",
         "x": [
          "norm_ec_per_occupant",
          "norm_eci_gfa"
         ],
         "y": [
          0.3790161057661811,
          0.14244032873428988
         ]
        },
        {
         "hoverinfo": "text",
         "line": {
          "color": "rgb(15, 133, 84)",
          "width": 1
         },
         "marker": {
          "color": "rgb(15, 133, 84)",
          "size": 6
         },
         "mode": "lines+markers",
         "showlegend": false,
         "text": [
          "Project: 273<br>Primary Use: Healthcare<br>Normalized Value: 0.23",
          "Project: 273<br>Primary Use: Healthcare<br>Normalized Value: 0.41"
         ],
         "type": "scatter",
         "x": [
          "norm_ec_per_occupant",
          "norm_eci_gfa"
         ],
         "y": [
          0.22871087574682838,
          0.40632753602881705
         ]
        },
        {
         "hoverinfo": "text",
         "line": {
          "color": "rgb(115, 175, 72)",
          "width": 1
         },
         "marker": {
          "color": "rgb(115, 175, 72)",
          "size": 6
         },
         "mode": "lines+markers",
         "showlegend": false,
         "text": [
          "Project: 275<br>Primary Use: Public Assembly<br>Normalized Value: 0.06",
          "Project: 275<br>Primary Use: Public Assembly<br>Normalized Value: 0.43"
         ],
         "type": "scatter",
         "x": [
          "norm_ec_per_occupant",
          "norm_eci_gfa"
         ],
         "y": [
          0.06073058850717112,
          0.42837118997923157
         ]
        },
        {
         "hoverinfo": "text",
         "line": {
          "color": "rgb(237, 173, 8)",
          "width": 1
         },
         "marker": {
          "color": "rgb(237, 173, 8)",
          "size": 6
         },
         "mode": "lines+markers",
         "showlegend": false,
         "text": [
          "Project: 276<br>Primary Use: Warehouse and Storage<br>Normalized Value: 0.45",
          "Project: 276<br>Primary Use: Warehouse and Storage<br>Normalized Value: 0.04"
         ],
         "type": "scatter",
         "x": [
          "norm_ec_per_occupant",
          "norm_eci_gfa"
         ],
         "y": [
          0.4482645165997606,
          0.041868463717676614
         ]
        },
        {
         "hoverinfo": "text",
         "line": {
          "color": "rgb(15, 133, 84)",
          "width": 1
         },
         "marker": {
          "color": "rgb(15, 133, 84)",
          "size": 6
         },
         "mode": "lines+markers",
         "showlegend": false,
         "text": [
          "Project: 278<br>Primary Use: Healthcare<br>Normalized Value: 0.37",
          "Project: 278<br>Primary Use: Healthcare<br>Normalized Value: 0.32"
         ],
         "type": "scatter",
         "x": [
          "norm_ec_per_occupant",
          "norm_eci_gfa"
         ],
         "y": [
          0.3742300145480035,
          0.3205187498028148
         ]
        },
        {
         "hoverinfo": "text",
         "line": {
          "color": "rgb(115, 175, 72)",
          "width": 1
         },
         "marker": {
          "color": "rgb(115, 175, 72)",
          "size": 6
         },
         "mode": "lines+markers",
         "showlegend": false,
         "text": [
          "Project: 279<br>Primary Use: Public Assembly<br>Normalized Value: 0.12",
          "Project: 279<br>Primary Use: Public Assembly<br>Normalized Value: 0.29"
         ],
         "type": "scatter",
         "x": [
          "norm_ec_per_occupant",
          "norm_eci_gfa"
         ],
         "y": [
          0.11731093475072352,
          0.28873951507470136
         ]
        },
        {
         "hoverinfo": "text",
         "line": {
          "color": "rgb(29, 105, 150)",
          "width": 1
         },
         "marker": {
          "color": "rgb(29, 105, 150)",
          "size": 6
         },
         "mode": "lines+markers",
         "showlegend": false,
         "text": [
          "Project: 280<br>Primary Use: Office<br>Normalized Value: 0.12",
          "Project: 280<br>Primary Use: Office<br>Normalized Value: 0.14"
         ],
         "type": "scatter",
         "x": [
          "norm_ec_per_occupant",
          "norm_eci_gfa"
         ],
         "y": [
          0.11874421377082037,
          0.1414775926498791
         ]
        },
        {
         "hoverinfo": "text",
         "line": {
          "color": "rgb(29, 105, 150)",
          "width": 1
         },
         "marker": {
          "color": "rgb(29, 105, 150)",
          "size": 6
         },
         "mode": "lines+markers",
         "showlegend": false,
         "text": [
          "Project: 285<br>Primary Use: Office<br>Normalized Value: 0.25",
          "Project: 285<br>Primary Use: Office<br>Normalized Value: 0.13"
         ],
         "type": "scatter",
         "x": [
          "norm_ec_per_occupant",
          "norm_eci_gfa"
         ],
         "y": [
          0.24888239081770164,
          0.12787588188285712
         ]
        },
        {
         "hoverinfo": "text",
         "line": {
          "color": "rgb(115, 175, 72)",
          "width": 1
         },
         "marker": {
          "color": "rgb(115, 175, 72)",
          "size": 6
         },
         "mode": "lines+markers",
         "showlegend": false,
         "text": [
          "Project: 290<br>Primary Use: Public Assembly<br>Normalized Value: 0.23",
          "Project: 290<br>Primary Use: Public Assembly<br>Normalized Value: 0.21"
         ],
         "type": "scatter",
         "x": [
          "norm_ec_per_occupant",
          "norm_eci_gfa"
         ],
         "y": [
          0.23224900812498928,
          0.20879362450207775
         ]
        },
        {
         "marker": {
          "color": "rgb(95, 70, 144)",
          "size": 10
         },
         "mode": "markers",
         "name": "Education",
         "type": "scatter",
         "x": [
          null
         ],
         "y": [
          null
         ]
        },
        {
         "marker": {
          "color": "rgb(29, 105, 150)",
          "size": 10
         },
         "mode": "markers",
         "name": "Office",
         "type": "scatter",
         "x": [
          null
         ],
         "y": [
          null
         ]
        },
        {
         "marker": {
          "color": "rgb(56, 166, 165)",
          "size": 10
         },
         "mode": "markers",
         "name": "Residential: Multifamily (5 or more units)",
         "type": "scatter",
         "x": [
          null
         ],
         "y": [
          null
         ]
        },
        {
         "marker": {
          "color": "rgb(15, 133, 84)",
          "size": 10
         },
         "mode": "markers",
         "name": "Healthcare",
         "type": "scatter",
         "x": [
          null
         ],
         "y": [
          null
         ]
        },
        {
         "marker": {
          "color": "rgb(115, 175, 72)",
          "size": 10
         },
         "mode": "markers",
         "name": "Public Assembly",
         "type": "scatter",
         "x": [
          null
         ],
         "y": [
          null
         ]
        },
        {
         "marker": {
          "color": "rgb(237, 173, 8)",
          "size": 10
         },
         "mode": "markers",
         "name": "Warehouse and Storage",
         "type": "scatter",
         "x": [
          null
         ],
         "y": [
          null
         ]
        },
        {
         "marker": {
          "color": "rgb(225, 124, 5)",
          "size": 10
         },
         "mode": "markers",
         "name": "Public Order and Safety",
         "type": "scatter",
         "x": [
          null
         ],
         "y": [
          null
         ]
        },
        {
         "marker": {
          "color": "rgb(204, 80, 62)",
          "size": 10
         },
         "mode": "markers",
         "name": "Laboratory",
         "type": "scatter",
         "x": [
          null
         ],
         "y": [
          null
         ]
        }
       ],
       "layout": {
        "height": 1200,
        "paper_bgcolor": "white",
        "plot_bgcolor": "white",
        "showlegend": true,
        "template": {
         "data": {
          "bar": [
           {
            "error_x": {
             "color": "#2a3f5f"
            },
            "error_y": {
             "color": "#2a3f5f"
            },
            "marker": {
             "line": {
              "color": "#E5ECF6",
              "width": 0.5
             },
             "pattern": {
              "fillmode": "overlay",
              "size": 10,
              "solidity": 0.2
             }
            },
            "type": "bar"
           }
          ],
          "barpolar": [
           {
            "marker": {
             "line": {
              "color": "#E5ECF6",
              "width": 0.5
             },
             "pattern": {
              "fillmode": "overlay",
              "size": 10,
              "solidity": 0.2
             }
            },
            "type": "barpolar"
           }
          ],
          "carpet": [
           {
            "aaxis": {
             "endlinecolor": "#2a3f5f",
             "gridcolor": "white",
             "linecolor": "white",
             "minorgridcolor": "white",
             "startlinecolor": "#2a3f5f"
            },
            "baxis": {
             "endlinecolor": "#2a3f5f",
             "gridcolor": "white",
             "linecolor": "white",
             "minorgridcolor": "white",
             "startlinecolor": "#2a3f5f"
            },
            "type": "carpet"
           }
          ],
          "choropleth": [
           {
            "colorbar": {
             "outlinewidth": 0,
             "ticks": ""
            },
            "type": "choropleth"
           }
          ],
          "contour": [
           {
            "colorbar": {
             "outlinewidth": 0,
             "ticks": ""
            },
            "colorscale": [
             [
              0,
              "#0d0887"
             ],
             [
              0.1111111111111111,
              "#46039f"
             ],
             [
              0.2222222222222222,
              "#7201a8"
             ],
             [
              0.3333333333333333,
              "#9c179e"
             ],
             [
              0.4444444444444444,
              "#bd3786"
             ],
             [
              0.5555555555555556,
              "#d8576b"
             ],
             [
              0.6666666666666666,
              "#ed7953"
             ],
             [
              0.7777777777777778,
              "#fb9f3a"
             ],
             [
              0.8888888888888888,
              "#fdca26"
             ],
             [
              1,
              "#f0f921"
             ]
            ],
            "type": "contour"
           }
          ],
          "contourcarpet": [
           {
            "colorbar": {
             "outlinewidth": 0,
             "ticks": ""
            },
            "type": "contourcarpet"
           }
          ],
          "heatmap": [
           {
            "colorbar": {
             "outlinewidth": 0,
             "ticks": ""
            },
            "colorscale": [
             [
              0,
              "#0d0887"
             ],
             [
              0.1111111111111111,
              "#46039f"
             ],
             [
              0.2222222222222222,
              "#7201a8"
             ],
             [
              0.3333333333333333,
              "#9c179e"
             ],
             [
              0.4444444444444444,
              "#bd3786"
             ],
             [
              0.5555555555555556,
              "#d8576b"
             ],
             [
              0.6666666666666666,
              "#ed7953"
             ],
             [
              0.7777777777777778,
              "#fb9f3a"
             ],
             [
              0.8888888888888888,
              "#fdca26"
             ],
             [
              1,
              "#f0f921"
             ]
            ],
            "type": "heatmap"
           }
          ],
          "histogram": [
           {
            "marker": {
             "pattern": {
              "fillmode": "overlay",
              "size": 10,
              "solidity": 0.2
             }
            },
            "type": "histogram"
           }
          ],
          "histogram2d": [
           {
            "colorbar": {
             "outlinewidth": 0,
             "ticks": ""
            },
            "colorscale": [
             [
              0,
              "#0d0887"
             ],
             [
              0.1111111111111111,
              "#46039f"
             ],
             [
              0.2222222222222222,
              "#7201a8"
             ],
             [
              0.3333333333333333,
              "#9c179e"
             ],
             [
              0.4444444444444444,
              "#bd3786"
             ],
             [
              0.5555555555555556,
              "#d8576b"
             ],
             [
              0.6666666666666666,
              "#ed7953"
             ],
             [
              0.7777777777777778,
              "#fb9f3a"
             ],
             [
              0.8888888888888888,
              "#fdca26"
             ],
             [
              1,
              "#f0f921"
             ]
            ],
            "type": "histogram2d"
           }
          ],
          "histogram2dcontour": [
           {
            "colorbar": {
             "outlinewidth": 0,
             "ticks": ""
            },
            "colorscale": [
             [
              0,
              "#0d0887"
             ],
             [
              0.1111111111111111,
              "#46039f"
             ],
             [
              0.2222222222222222,
              "#7201a8"
             ],
             [
              0.3333333333333333,
              "#9c179e"
             ],
             [
              0.4444444444444444,
              "#bd3786"
             ],
             [
              0.5555555555555556,
              "#d8576b"
             ],
             [
              0.6666666666666666,
              "#ed7953"
             ],
             [
              0.7777777777777778,
              "#fb9f3a"
             ],
             [
              0.8888888888888888,
              "#fdca26"
             ],
             [
              1,
              "#f0f921"
             ]
            ],
            "type": "histogram2dcontour"
           }
          ],
          "mesh3d": [
           {
            "colorbar": {
             "outlinewidth": 0,
             "ticks": ""
            },
            "type": "mesh3d"
           }
          ],
          "parcoords": [
           {
            "line": {
             "colorbar": {
              "outlinewidth": 0,
              "ticks": ""
             }
            },
            "type": "parcoords"
           }
          ],
          "pie": [
           {
            "automargin": true,
            "type": "pie"
           }
          ],
          "scatter": [
           {
            "fillpattern": {
             "fillmode": "overlay",
             "size": 10,
             "solidity": 0.2
            },
            "type": "scatter"
           }
          ],
          "scatter3d": [
           {
            "line": {
             "colorbar": {
              "outlinewidth": 0,
              "ticks": ""
             }
            },
            "marker": {
             "colorbar": {
              "outlinewidth": 0,
              "ticks": ""
             }
            },
            "type": "scatter3d"
           }
          ],
          "scattercarpet": [
           {
            "marker": {
             "colorbar": {
              "outlinewidth": 0,
              "ticks": ""
             }
            },
            "type": "scattercarpet"
           }
          ],
          "scattergeo": [
           {
            "marker": {
             "colorbar": {
              "outlinewidth": 0,
              "ticks": ""
             }
            },
            "type": "scattergeo"
           }
          ],
          "scattergl": [
           {
            "marker": {
             "colorbar": {
              "outlinewidth": 0,
              "ticks": ""
             }
            },
            "type": "scattergl"
           }
          ],
          "scattermap": [
           {
            "marker": {
             "colorbar": {
              "outlinewidth": 0,
              "ticks": ""
             }
            },
            "type": "scattermap"
           }
          ],
          "scattermapbox": [
           {
            "marker": {
             "colorbar": {
              "outlinewidth": 0,
              "ticks": ""
             }
            },
            "type": "scattermapbox"
           }
          ],
          "scatterpolar": [
           {
            "marker": {
             "colorbar": {
              "outlinewidth": 0,
              "ticks": ""
             }
            },
            "type": "scatterpolar"
           }
          ],
          "scatterpolargl": [
           {
            "marker": {
             "colorbar": {
              "outlinewidth": 0,
              "ticks": ""
             }
            },
            "type": "scatterpolargl"
           }
          ],
          "scatterternary": [
           {
            "marker": {
             "colorbar": {
              "outlinewidth": 0,
              "ticks": ""
             }
            },
            "type": "scatterternary"
           }
          ],
          "surface": [
           {
            "colorbar": {
             "outlinewidth": 0,
             "ticks": ""
            },
            "colorscale": [
             [
              0,
              "#0d0887"
             ],
             [
              0.1111111111111111,
              "#46039f"
             ],
             [
              0.2222222222222222,
              "#7201a8"
             ],
             [
              0.3333333333333333,
              "#9c179e"
             ],
             [
              0.4444444444444444,
              "#bd3786"
             ],
             [
              0.5555555555555556,
              "#d8576b"
             ],
             [
              0.6666666666666666,
              "#ed7953"
             ],
             [
              0.7777777777777778,
              "#fb9f3a"
             ],
             [
              0.8888888888888888,
              "#fdca26"
             ],
             [
              1,
              "#f0f921"
             ]
            ],
            "type": "surface"
           }
          ],
          "table": [
           {
            "cells": {
             "fill": {
              "color": "#EBF0F8"
             },
             "line": {
              "color": "white"
             }
            },
            "header": {
             "fill": {
              "color": "#C8D4E3"
             },
             "line": {
              "color": "white"
             }
            },
            "type": "table"
           }
          ]
         },
         "layout": {
          "annotationdefaults": {
           "arrowcolor": "#2a3f5f",
           "arrowhead": 0,
           "arrowwidth": 1
          },
          "autotypenumbers": "strict",
          "coloraxis": {
           "colorbar": {
            "outlinewidth": 0,
            "ticks": ""
           }
          },
          "colorscale": {
           "diverging": [
            [
             0,
             "#8e0152"
            ],
            [
             0.1,
             "#c51b7d"
            ],
            [
             0.2,
             "#de77ae"
            ],
            [
             0.3,
             "#f1b6da"
            ],
            [
             0.4,
             "#fde0ef"
            ],
            [
             0.5,
             "#f7f7f7"
            ],
            [
             0.6,
             "#e6f5d0"
            ],
            [
             0.7,
             "#b8e186"
            ],
            [
             0.8,
             "#7fbc41"
            ],
            [
             0.9,
             "#4d9221"
            ],
            [
             1,
             "#276419"
            ]
           ],
           "sequential": [
            [
             0,
             "#0d0887"
            ],
            [
             0.1111111111111111,
             "#46039f"
            ],
            [
             0.2222222222222222,
             "#7201a8"
            ],
            [
             0.3333333333333333,
             "#9c179e"
            ],
            [
             0.4444444444444444,
             "#bd3786"
            ],
            [
             0.5555555555555556,
             "#d8576b"
            ],
            [
             0.6666666666666666,
             "#ed7953"
            ],
            [
             0.7777777777777778,
             "#fb9f3a"
            ],
            [
             0.8888888888888888,
             "#fdca26"
            ],
            [
             1,
             "#f0f921"
            ]
           ],
           "sequentialminus": [
            [
             0,
             "#0d0887"
            ],
            [
             0.1111111111111111,
             "#46039f"
            ],
            [
             0.2222222222222222,
             "#7201a8"
            ],
            [
             0.3333333333333333,
             "#9c179e"
            ],
            [
             0.4444444444444444,
             "#bd3786"
            ],
            [
             0.5555555555555556,
             "#d8576b"
            ],
            [
             0.6666666666666666,
             "#ed7953"
            ],
            [
             0.7777777777777778,
             "#fb9f3a"
            ],
            [
             0.8888888888888888,
             "#fdca26"
            ],
            [
             1,
             "#f0f921"
            ]
           ]
          },
          "colorway": [
           "#636efa",
           "#EF553B",
           "#00cc96",
           "#ab63fa",
           "#FFA15A",
           "#19d3f3",
           "#FF6692",
           "#B6E880",
           "#FF97FF",
           "#FECB52"
          ],
          "font": {
           "color": "#2a3f5f"
          },
          "geo": {
           "bgcolor": "white",
           "lakecolor": "white",
           "landcolor": "#E5ECF6",
           "showlakes": true,
           "showland": true,
           "subunitcolor": "white"
          },
          "hoverlabel": {
           "align": "left"
          },
          "hovermode": "closest",
          "mapbox": {
           "style": "light"
          },
          "paper_bgcolor": "white",
          "plot_bgcolor": "#E5ECF6",
          "polar": {
           "angularaxis": {
            "gridcolor": "white",
            "linecolor": "white",
            "ticks": ""
           },
           "bgcolor": "#E5ECF6",
           "radialaxis": {
            "gridcolor": "white",
            "linecolor": "white",
            "ticks": ""
           }
          },
          "scene": {
           "xaxis": {
            "backgroundcolor": "#E5ECF6",
            "gridcolor": "white",
            "gridwidth": 2,
            "linecolor": "white",
            "showbackground": true,
            "ticks": "",
            "zerolinecolor": "white"
           },
           "yaxis": {
            "backgroundcolor": "#E5ECF6",
            "gridcolor": "white",
            "gridwidth": 2,
            "linecolor": "white",
            "showbackground": true,
            "ticks": "",
            "zerolinecolor": "white"
           },
           "zaxis": {
            "backgroundcolor": "#E5ECF6",
            "gridcolor": "white",
            "gridwidth": 2,
            "linecolor": "white",
            "showbackground": true,
            "ticks": "",
            "zerolinecolor": "white"
           }
          },
          "shapedefaults": {
           "line": {
            "color": "#2a3f5f"
           }
          },
          "ternary": {
           "aaxis": {
            "gridcolor": "white",
            "linecolor": "white",
            "ticks": ""
           },
           "baxis": {
            "gridcolor": "white",
            "linecolor": "white",
            "ticks": ""
           },
           "bgcolor": "#E5ECF6",
           "caxis": {
            "gridcolor": "white",
            "linecolor": "white",
            "ticks": ""
           }
          },
          "title": {
           "x": 0.05
          },
          "xaxis": {
           "automargin": true,
           "gridcolor": "white",
           "linecolor": "white",
           "ticks": "",
           "title": {
            "standoff": 15
           },
           "zerolinecolor": "white",
           "zerolinewidth": 2
          },
          "yaxis": {
           "automargin": true,
           "gridcolor": "white",
           "linecolor": "white",
           "ticks": "",
           "title": {
            "standoff": 15
           },
           "zerolinecolor": "white",
           "zerolinewidth": 2
          }
         }
        },
        "title": {
         "font": {
          "color": "black",
          "family": "Arial",
          "size": 16,
          "weight": "bold"
         },
         "text": "Normalized Carbon Intensities By Occupant vs Area",
         "x": 0.5,
         "xanchor": "center",
         "yanchor": "top"
        },
        "width": 800,
        "xaxis": {
         "showgrid": false,
         "ticktext": [
          "By Occupant",
          "By Area"
         ],
         "tickvals": [
          "norm_ec_per_occupant",
          "norm_eci_gfa"
         ],
         "title": {
          "font": {
           "color": "black",
           "family": "Arial",
           "size": 12,
           "weight": "bold"
          }
         }
        },
        "yaxis": {
         "gridcolor": "lightgrey",
         "range": [
          -0.01,
          1.005
         ],
         "showgrid": true,
         "title": {
          "font": {
           "color": "black",
           "family": "Arial",
           "size": 12,
           "weight": "bold"
          },
          "text": "Normalized Carbon Intensity"
         }
        }
       }
      }
     },
     "metadata": {},
     "output_type": "display_data"
    }
   ],
   "source": [
    "# Prepare the data for the slope graph\n",
    "projects = filtered_bldgs_df3.index  # Use the index to identify each project\n",
    "occupant_norms = filtered_bldgs_df3['norm_ec_per_occupant']\n",
    "gfa_norms = filtered_bldgs_df3['norm_eci_gfa']\n",
    "primary_uses = filtered_bldgs_df3['bldg_prim_use']  # Get the primary use for each project\n",
    "\n",
    "# Create a color mapping for 'bldg_prim_use'\n",
    "unique_uses = primary_uses.unique()\n",
    "color_map = {use: px.colors.qualitative.Prism[i % len(px.colors.qualitative.Prism)] for i, use in enumerate(unique_uses)}\n",
    "\n",
    "# Create the slope graph\n",
    "fig3 = go.Figure()\n",
    "\n",
    "# Add lines connecting the two normalized values for each project\n",
    "for project, occupant_norm, gfa_norm, primary_use in zip(projects, occupant_norms, gfa_norms, primary_uses):\n",
    "    fig3.add_trace(go.Scatter(\n",
    "        x=['norm_ec_per_occupant', 'norm_eci_gfa'],  # Two columns on the x-axis\n",
    "        y=[occupant_norm, gfa_norm],  # Corresponding normalized values\n",
    "        mode='lines+markers',  # Add lines and markers\n",
    "        line=dict(color=color_map[primary_use], width=1),  # Color based on primary use\n",
    "        marker=dict(size=6, color=color_map[primary_use]),  # Same color for markers\n",
    "        hoverinfo='text',  # Show custom hover text\n",
    "        text=[f\"Project: {project}<br>Primary Use: {primary_use}<br>Normalized Value: {occupant_norm:.2f}\",\n",
    "              f\"Project: {project}<br>Primary Use: {primary_use}<br>Normalized Value: {gfa_norm:.2f}\"],  # Hover text for each point\n",
    "        showlegend=False  # Disable legend for individual traces\n",
    "    ))\n",
    "\n",
    "# Add a legend for the primary uses\n",
    "for use, color in color_map.items():\n",
    "    fig3.add_trace(go.Scatter(\n",
    "        x=[None], y=[None],  # Dummy points for legend\n",
    "        mode='markers',\n",
    "        marker=dict(size=10, color=color),\n",
    "        name=use\n",
    "    ))\n",
    "\n",
    "# Customize the layout\n",
    "fig3.update_layout(\n",
    "    title={\n",
    "        'text': 'Normalized Carbon Intensities By Occupant vs Area',  # Updated title\n",
    "        'x': 0.5,\n",
    "        'xanchor': 'center',\n",
    "        'yanchor': 'top',\n",
    "        'font': {'size': 16, 'family': 'Arial', 'color': 'black', 'weight': 'bold'}\n",
    "    },\n",
    "    xaxis=dict(\n",
    "        tickvals=['norm_ec_per_occupant', 'norm_eci_gfa'],  # Two columns\n",
    "        ticktext=['By Occupant', 'By Area'],  # Custom labels\n",
    "        showgrid=False,\n",
    "        title_font=dict(size=12, family=\"Arial\", color=\"black\", weight=\"bold\"),\n",
    "    ),\n",
    "    yaxis=dict(\n",
    "        title='Normalized Carbon Intensity',\n",
    "        range=[-0.01, 1.005],\n",
    "        showgrid=True,\n",
    "        gridcolor='lightgrey',\n",
    "        title_font=dict(size=12, family=\"Arial\", color=\"black\", weight=\"bold\"),\n",
    "\n",
    "    ),\n",
    "    plot_bgcolor='white',\n",
    "    paper_bgcolor='white',\n",
    "    showlegend=True,\n",
    "    height=1200,\n",
    "    width=800\n",
    ")\n",
    "\n",
    "# Show the plot\n",
    "fig3.show()"
   ]
  },
  {
   "cell_type": "markdown",
   "metadata": {},
   "source": [
    "#### Make Normalize Shift Plot 2"
   ]
  },
  {
   "cell_type": "code",
   "execution_count": 160,
   "metadata": {},
   "outputs": [
    {
     "data": {
      "application/vnd.plotly.v1+json": {
       "config": {
        "plotlyServerURL": "https://plotly.com"
       },
       "data": [
        {
         "hovertemplate": "Primary Use=Education<br>Building Area [m²]=%{x}<br>Normalized Carbon Intensity Shift (Occupant vs. Area)=%{y}<extra></extra>",
         "legendgroup": "Education",
         "marker": {
          "color": "rgb(95, 70, 144)",
          "opacity": 0.7,
          "symbol": "circle"
         },
         "mode": "markers",
         "name": "Education",
         "orientation": "v",
         "showlegend": true,
         "type": "scatter",
         "x": {
          "bdata": "AAAAAABQpEAAAAAAABSuQAAAAAAAiKNAAAAAAABwh0AAAAAAAILEQAAAAAAA2J1AAAAAAAAAaUAAAAAAAEDPQAAAAAAAULRAAAAAAIB+30AAAAAAAEDfQAAAAAAA9KpAAAAAAABowEAAAAAAgD3VQAAAAAAA7ddAAAAAAAAAmUAAAAAAAITMQAAAAAAAwLJAAAAAAADovEAAAAAAABq9QAAAAAAA3L5AAAAAAICo2EAAAAAAAP6wQAAAAAAAVrNAAAAAAADb2kAAAAAAAD63QAAAAAAA6KxAAAAAAAAAnkAAAAAAAFirQAAAAAAAjrJAAAAAAAAqwkAAAAAAACiZQAAAAAAAnKhAAAAAAABc0kAAAAAAAA6/QAAAAAAAQIpAAAAAAACcyEAAAAAAANy+QAAAAAAAyMlAAAAAAABAkEAAAAAAAMygQA==",
          "dtype": "f8"
         },
         "xaxis": "x",
         "y": {
          "bdata": "1tJgFVw/1r+1G73EmybPv+eMkxgHxtC/x+Zcq4P85L8jgiorQ6PCvy4QlTgHENm/AkAhu+BD0796V9G09DrQvyowkTcAX8y/bLbPCEJwtz+ob7iFxujRv1jPrSnCasG/ACHc246nmL//1h3LEt/Sv4Bp/SOGKsO/AjLjNbKc0r9400rWuHi6v7jOMQve3bc/auhs/jZC1D/I0nqw0aGsv4C9Y33FhkW/NNvRV0bYyb9w3IoHIlPPv7QK9faTHrO/II1FMtZXqr9MS4eg4iPJv3ZyScAM29u/fEq6t/Rqt78i/VGSPPmuv+Br6iDDaq6/9xlcrO0Tx78WzzVmwMfav8FPqK/r8NK/qMJC/UpYtb94fMbmtOa8v7Z1MXs9XdE/8O/j7K11gz/E9Euvsg65v2wgy/3LkKo/nMgiIp01vj/sWJnnJpzDvw==",
          "dtype": "f8"
         },
         "yaxis": "y"
        },
        {
         "hovertemplate": "Primary Use=Office<br>Building Area [m²]=%{x}<br>Normalized Carbon Intensity Shift (Occupant vs. Area)=%{y}<extra></extra>",
         "legendgroup": "Office",
         "marker": {
          "color": "rgb(29, 105, 150)",
          "opacity": 0.7,
          "symbol": "circle"
         },
         "mode": "markers",
         "name": "Office",
         "orientation": "v",
         "showlegend": true,
         "type": "scatter",
         "x": {
          "bdata": "AAAAAAAAmUAAAAAAAETGQAAAAAAAfKVAAAAAAAA20EAAAAAAAOCPQAAAAAAAQGBAAAAAAABIkkAAAAAAAHCCQAAAAAAAhKxAAAAAAADwjkAAAAAAAO3XQAAAAAAAcKdAAAAAAABooEAAAAAAAECFQAAAAAAAMslAAAAAAADl0EA=",
          "dtype": "f8"
         },
         "xaxis": "x",
         "y": {
          "bdata": "6LOLbRjv07/ALm0ZmvGJP9zprXU4yZo/YKuOfMUdi7/A/jmuOXWxv6QufEAm0dg/RO1067Jq0L/09YPD/AfXP9l3KPago9e/QNriqr7Rqj+uD8YENirDP9CzyOIWM8o/MNdXxk8d0L93WrB0HUjOP1CmQDtrR5e/JnF6Vkj6vj8=",
          "dtype": "f8"
         },
         "yaxis": "y"
        },
        {
         "hovertemplate": "Primary Use=Residential: Multifamily (5 or more units)<br>Building Area [m²]=%{x}<br>Normalized Carbon Intensity Shift (Occupant vs. Area)=%{y}<extra></extra>",
         "legendgroup": "Residential: Multifamily (5 or more units)",
         "marker": {
          "color": "rgb(56, 166, 165)",
          "opacity": 0.7,
          "symbol": "circle"
         },
         "mode": "markers",
         "name": "Residential: Multifamily (5 or more units)",
         "orientation": "v",
         "showlegend": true,
         "type": "scatter",
         "x": {
          "bdata": "AAAAAAAUrkAAAAAAAG/TQAAAAAAASsVAAAAAAAA20EAAAAAAABiVQAAAAAAAzshAAAAAAACopkAAAAAAAG/DQAAAAAAAddJAAAAAAABo0EAAAAAAAOjMQAAAAAAAe9FAAAAAAIAH3kA=",
          "dtype": "f8"
         },
         "xaxis": "x",
         "y": {
          "bdata": "DFgqEW4qyL+iMknOISG5v/q2kzJWF9A/daGJgUXq1T+ofZkxOB/DPz2PXkWzF8A/4KZTzIGLzD+eJOEsamfDv0Hqn51eBN4/ZpVUeFZwpr/WyXAy+XjCPwRdD4G39co/8PmPxQq84j8=",
          "dtype": "f8"
         },
         "yaxis": "y"
        },
        {
         "hovertemplate": "Primary Use=Healthcare<br>Building Area [m²]=%{x}<br>Normalized Carbon Intensity Shift (Occupant vs. Area)=%{y}<extra></extra>",
         "legendgroup": "Healthcare",
         "marker": {
          "color": "rgb(15, 133, 84)",
          "opacity": 0.7,
          "symbol": "circle"
         },
         "mode": "markers",
         "name": "Healthcare",
         "orientation": "v",
         "showlegend": true,
         "type": "scatter",
         "x": {
          "bdata": "AAAAAACuxUAAAAAAgLTWQAAAAAAAb9NAAAAAAACOskAAAAAAAPixQAAAAAAAathAAAAAAABMzUAAAAAAALCYQA==",
          "dtype": "f8"
         },
         "xaxis": "x",
         "y": {
          "bdata": "ICmNRMO1h7+wlUmwKgXAv45Qop4zLtE/sOKY5g2dlz+AeGkcZtlXv2R0OOwRXcM/oWSRiSS8xr+4xwP7CoCrPw==",
          "dtype": "f8"
         },
         "yaxis": "y"
        },
        {
         "hovertemplate": "Primary Use=Public Assembly<br>Building Area [m²]=%{x}<br>Normalized Carbon Intensity Shift (Occupant vs. Area)=%{y}<extra></extra>",
         "legendgroup": "Public Assembly",
         "marker": {
          "color": "rgb(115, 175, 72)",
          "opacity": 0.7,
          "symbol": "circle"
         },
         "mode": "markers",
         "name": "Public Assembly",
         "orientation": "v",
         "showlegend": true,
         "type": "scatter",
         "x": {
          "bdata": "AAAAAACCtEAAAAAAACrSQAAAAAAASJdAAAAAAABAv0AAAAAAAHieQAAAAAAA1LdAAAAAAABMrUAAAAAAAEB/QAAAAAAA+dVAAAAAAACuxUAAAAAAABi1QAAAAAAACJZAAAAAAACIs0AAAAAAAAynQAAAAAAAfMVAAAAAAADozEAAAAAAAOyzQAAAAAAAurNAAAAAAACErEAAAAAAAMDCQAAAAACAQ9RAAAAAAAB10kAAAAAAADawQA==",
          "dtype": "f8"
         },
         "xaxis": "x",
         "y": {
          "bdata": "WKlyWLk2v78ZJXPYNETYv1R1e/a4SM6/xFrBsiri0r9wXJX4hne1v9zD8HMyRsG/2M1peBhNzb/hX4v5YQDdvxig4/B5bqE/OOf3huHQq7+OJEUAi3TZv8gWc1npyrm/26YPZfjL479gjOYVmySXv1iQg4wWDcC/+Fe8wuKKzb+seyotLNTYv4AICgick2e/4oCfWyPnx79JysYtR4TBv/JFAHJsh9e/PqwLKV/xxb8YWk0msASYPw==",
          "dtype": "f8"
         },
         "yaxis": "y"
        },
        {
         "hovertemplate": "Primary Use=Warehouse and Storage<br>Building Area [m²]=%{x}<br>Normalized Carbon Intensity Shift (Occupant vs. Area)=%{y}<extra></extra>",
         "legendgroup": "Warehouse and Storage",
         "marker": {
          "color": "rgb(237, 173, 8)",
          "opacity": 0.7,
          "symbol": "circle"
         },
         "mode": "markers",
         "name": "Warehouse and Storage",
         "orientation": "v",
         "showlegend": true,
         "type": "scatter",
         "x": {
          "bdata": "AAAAAADAwkAAAAAAAG/TQAAAAAAAZNlAAAAAAACutUAAAAAAANCBQAAAAAAAavhAAAAAAABS7EAAAAAAAHXSQA==",
          "dtype": "f8"
         },
         "xaxis": "x",
         "y": {
          "bdata": "4N/kUJYM7j8ClVtRM5fsP3hSvArWaOo/kvMJ+4pLtD+dapFdpJjTPz2B+Vhc8Ow/Iv/WQBlB5j/HhxaXZALaPw==",
          "dtype": "f8"
         },
         "yaxis": "y"
        },
        {
         "hovertemplate": "Primary Use=Public Order and Safety<br>Building Area [m²]=%{x}<br>Normalized Carbon Intensity Shift (Occupant vs. Area)=%{y}<extra></extra>",
         "legendgroup": "Public Order and Safety",
         "marker": {
          "color": "rgb(225, 124, 5)",
          "opacity": 0.7,
          "symbol": "circle"
         },
         "mode": "markers",
         "name": "Public Order and Safety",
         "orientation": "v",
         "showlegend": true,
         "type": "scatter",
         "x": {
          "bdata": "AAAAAAAwm0AAAAAAAHiUQAAAAAAAOKhAAAAAAACAlkAAAAAAABCNQAAAAAAAiJNAAAAAAABAhUA=",
          "dtype": "f8"
         },
         "xaxis": "x",
         "y": {
          "bdata": "0O5OZW9g179YIdaye0m2PzAcyxKQI8E/2r9ErGCxyr+U/Oxjdgy4P6BKMOENabu/AAgmS2Hmyb8=",
          "dtype": "f8"
         },
         "yaxis": "y"
        },
        {
         "hovertemplate": "Primary Use=Laboratory<br>Building Area [m²]=%{x}<br>Normalized Carbon Intensity Shift (Occupant vs. Area)=%{y}<extra></extra>",
         "legendgroup": "Laboratory",
         "marker": {
          "color": "rgb(204, 80, 62)",
          "opacity": 0.7,
          "symbol": "circle"
         },
         "mode": "markers",
         "name": "Laboratory",
         "orientation": "v",
         "showlegend": true,
         "type": "scatter",
         "x": {
          "bdata": "AAAAAECh9EAAAAAAACqyQAAAAAAAaMBAAAAAAACotkAAAAAAADbQQAAAAADAUOdAAAAAAAAsqkAAAAAAAJDKQAAAAAAAdsZAAAAAAACcyEA=",
          "dtype": "f8"
         },
         "xaxis": "x",
         "y": {
          "bdata": "uCIzCHvIqj/o00nNn07NvwBMwiarWdI/IBCcSrufo79QeNZLU2y4vzrHcUhvMrs/wCAK5ebweD9gyE1LWCOqP4iNHL39iK8/4P3Nk9tahT8=",
          "dtype": "f8"
         },
         "yaxis": "y"
        }
       ],
       "layout": {
        "height": 600,
        "legend": {
         "orientation": "h",
         "title": {},
         "tracegroupgap": 0,
         "x": 0.5,
         "xanchor": "center",
         "y": -0.2,
         "yanchor": "top"
        },
        "paper_bgcolor": "white",
        "plot_bgcolor": "white",
        "shapes": [
         {
          "line": {
           "color": "darkgrey",
           "dash": "dash",
           "width": 2
          },
          "type": "line",
          "x0": 0,
          "x1": 1,
          "xref": "x domain",
          "y0": 0,
          "y1": 0,
          "yref": "y"
         }
        ],
        "template": {
         "data": {
          "bar": [
           {
            "error_x": {
             "color": "#2a3f5f"
            },
            "error_y": {
             "color": "#2a3f5f"
            },
            "marker": {
             "line": {
              "color": "#E5ECF6",
              "width": 0.5
             },
             "pattern": {
              "fillmode": "overlay",
              "size": 10,
              "solidity": 0.2
             }
            },
            "type": "bar"
           }
          ],
          "barpolar": [
           {
            "marker": {
             "line": {
              "color": "#E5ECF6",
              "width": 0.5
             },
             "pattern": {
              "fillmode": "overlay",
              "size": 10,
              "solidity": 0.2
             }
            },
            "type": "barpolar"
           }
          ],
          "carpet": [
           {
            "aaxis": {
             "endlinecolor": "#2a3f5f",
             "gridcolor": "white",
             "linecolor": "white",
             "minorgridcolor": "white",
             "startlinecolor": "#2a3f5f"
            },
            "baxis": {
             "endlinecolor": "#2a3f5f",
             "gridcolor": "white",
             "linecolor": "white",
             "minorgridcolor": "white",
             "startlinecolor": "#2a3f5f"
            },
            "type": "carpet"
           }
          ],
          "choropleth": [
           {
            "colorbar": {
             "outlinewidth": 0,
             "ticks": ""
            },
            "type": "choropleth"
           }
          ],
          "contour": [
           {
            "colorbar": {
             "outlinewidth": 0,
             "ticks": ""
            },
            "colorscale": [
             [
              0,
              "#0d0887"
             ],
             [
              0.1111111111111111,
              "#46039f"
             ],
             [
              0.2222222222222222,
              "#7201a8"
             ],
             [
              0.3333333333333333,
              "#9c179e"
             ],
             [
              0.4444444444444444,
              "#bd3786"
             ],
             [
              0.5555555555555556,
              "#d8576b"
             ],
             [
              0.6666666666666666,
              "#ed7953"
             ],
             [
              0.7777777777777778,
              "#fb9f3a"
             ],
             [
              0.8888888888888888,
              "#fdca26"
             ],
             [
              1,
              "#f0f921"
             ]
            ],
            "type": "contour"
           }
          ],
          "contourcarpet": [
           {
            "colorbar": {
             "outlinewidth": 0,
             "ticks": ""
            },
            "type": "contourcarpet"
           }
          ],
          "heatmap": [
           {
            "colorbar": {
             "outlinewidth": 0,
             "ticks": ""
            },
            "colorscale": [
             [
              0,
              "#0d0887"
             ],
             [
              0.1111111111111111,
              "#46039f"
             ],
             [
              0.2222222222222222,
              "#7201a8"
             ],
             [
              0.3333333333333333,
              "#9c179e"
             ],
             [
              0.4444444444444444,
              "#bd3786"
             ],
             [
              0.5555555555555556,
              "#d8576b"
             ],
             [
              0.6666666666666666,
              "#ed7953"
             ],
             [
              0.7777777777777778,
              "#fb9f3a"
             ],
             [
              0.8888888888888888,
              "#fdca26"
             ],
             [
              1,
              "#f0f921"
             ]
            ],
            "type": "heatmap"
           }
          ],
          "histogram": [
           {
            "marker": {
             "pattern": {
              "fillmode": "overlay",
              "size": 10,
              "solidity": 0.2
             }
            },
            "type": "histogram"
           }
          ],
          "histogram2d": [
           {
            "colorbar": {
             "outlinewidth": 0,
             "ticks": ""
            },
            "colorscale": [
             [
              0,
              "#0d0887"
             ],
             [
              0.1111111111111111,
              "#46039f"
             ],
             [
              0.2222222222222222,
              "#7201a8"
             ],
             [
              0.3333333333333333,
              "#9c179e"
             ],
             [
              0.4444444444444444,
              "#bd3786"
             ],
             [
              0.5555555555555556,
              "#d8576b"
             ],
             [
              0.6666666666666666,
              "#ed7953"
             ],
             [
              0.7777777777777778,
              "#fb9f3a"
             ],
             [
              0.8888888888888888,
              "#fdca26"
             ],
             [
              1,
              "#f0f921"
             ]
            ],
            "type": "histogram2d"
           }
          ],
          "histogram2dcontour": [
           {
            "colorbar": {
             "outlinewidth": 0,
             "ticks": ""
            },
            "colorscale": [
             [
              0,
              "#0d0887"
             ],
             [
              0.1111111111111111,
              "#46039f"
             ],
             [
              0.2222222222222222,
              "#7201a8"
             ],
             [
              0.3333333333333333,
              "#9c179e"
             ],
             [
              0.4444444444444444,
              "#bd3786"
             ],
             [
              0.5555555555555556,
              "#d8576b"
             ],
             [
              0.6666666666666666,
              "#ed7953"
             ],
             [
              0.7777777777777778,
              "#fb9f3a"
             ],
             [
              0.8888888888888888,
              "#fdca26"
             ],
             [
              1,
              "#f0f921"
             ]
            ],
            "type": "histogram2dcontour"
           }
          ],
          "mesh3d": [
           {
            "colorbar": {
             "outlinewidth": 0,
             "ticks": ""
            },
            "type": "mesh3d"
           }
          ],
          "parcoords": [
           {
            "line": {
             "colorbar": {
              "outlinewidth": 0,
              "ticks": ""
             }
            },
            "type": "parcoords"
           }
          ],
          "pie": [
           {
            "automargin": true,
            "type": "pie"
           }
          ],
          "scatter": [
           {
            "fillpattern": {
             "fillmode": "overlay",
             "size": 10,
             "solidity": 0.2
            },
            "type": "scatter"
           }
          ],
          "scatter3d": [
           {
            "line": {
             "colorbar": {
              "outlinewidth": 0,
              "ticks": ""
             }
            },
            "marker": {
             "colorbar": {
              "outlinewidth": 0,
              "ticks": ""
             }
            },
            "type": "scatter3d"
           }
          ],
          "scattercarpet": [
           {
            "marker": {
             "colorbar": {
              "outlinewidth": 0,
              "ticks": ""
             }
            },
            "type": "scattercarpet"
           }
          ],
          "scattergeo": [
           {
            "marker": {
             "colorbar": {
              "outlinewidth": 0,
              "ticks": ""
             }
            },
            "type": "scattergeo"
           }
          ],
          "scattergl": [
           {
            "marker": {
             "colorbar": {
              "outlinewidth": 0,
              "ticks": ""
             }
            },
            "type": "scattergl"
           }
          ],
          "scattermap": [
           {
            "marker": {
             "colorbar": {
              "outlinewidth": 0,
              "ticks": ""
             }
            },
            "type": "scattermap"
           }
          ],
          "scattermapbox": [
           {
            "marker": {
             "colorbar": {
              "outlinewidth": 0,
              "ticks": ""
             }
            },
            "type": "scattermapbox"
           }
          ],
          "scatterpolar": [
           {
            "marker": {
             "colorbar": {
              "outlinewidth": 0,
              "ticks": ""
             }
            },
            "type": "scatterpolar"
           }
          ],
          "scatterpolargl": [
           {
            "marker": {
             "colorbar": {
              "outlinewidth": 0,
              "ticks": ""
             }
            },
            "type": "scatterpolargl"
           }
          ],
          "scatterternary": [
           {
            "marker": {
             "colorbar": {
              "outlinewidth": 0,
              "ticks": ""
             }
            },
            "type": "scatterternary"
           }
          ],
          "surface": [
           {
            "colorbar": {
             "outlinewidth": 0,
             "ticks": ""
            },
            "colorscale": [
             [
              0,
              "#0d0887"
             ],
             [
              0.1111111111111111,
              "#46039f"
             ],
             [
              0.2222222222222222,
              "#7201a8"
             ],
             [
              0.3333333333333333,
              "#9c179e"
             ],
             [
              0.4444444444444444,
              "#bd3786"
             ],
             [
              0.5555555555555556,
              "#d8576b"
             ],
             [
              0.6666666666666666,
              "#ed7953"
             ],
             [
              0.7777777777777778,
              "#fb9f3a"
             ],
             [
              0.8888888888888888,
              "#fdca26"
             ],
             [
              1,
              "#f0f921"
             ]
            ],
            "type": "surface"
           }
          ],
          "table": [
           {
            "cells": {
             "fill": {
              "color": "#EBF0F8"
             },
             "line": {
              "color": "white"
             }
            },
            "header": {
             "fill": {
              "color": "#C8D4E3"
             },
             "line": {
              "color": "white"
             }
            },
            "type": "table"
           }
          ]
         },
         "layout": {
          "annotationdefaults": {
           "arrowcolor": "#2a3f5f",
           "arrowhead": 0,
           "arrowwidth": 1
          },
          "autotypenumbers": "strict",
          "coloraxis": {
           "colorbar": {
            "outlinewidth": 0,
            "ticks": ""
           }
          },
          "colorscale": {
           "diverging": [
            [
             0,
             "#8e0152"
            ],
            [
             0.1,
             "#c51b7d"
            ],
            [
             0.2,
             "#de77ae"
            ],
            [
             0.3,
             "#f1b6da"
            ],
            [
             0.4,
             "#fde0ef"
            ],
            [
             0.5,
             "#f7f7f7"
            ],
            [
             0.6,
             "#e6f5d0"
            ],
            [
             0.7,
             "#b8e186"
            ],
            [
             0.8,
             "#7fbc41"
            ],
            [
             0.9,
             "#4d9221"
            ],
            [
             1,
             "#276419"
            ]
           ],
           "sequential": [
            [
             0,
             "#0d0887"
            ],
            [
             0.1111111111111111,
             "#46039f"
            ],
            [
             0.2222222222222222,
             "#7201a8"
            ],
            [
             0.3333333333333333,
             "#9c179e"
            ],
            [
             0.4444444444444444,
             "#bd3786"
            ],
            [
             0.5555555555555556,
             "#d8576b"
            ],
            [
             0.6666666666666666,
             "#ed7953"
            ],
            [
             0.7777777777777778,
             "#fb9f3a"
            ],
            [
             0.8888888888888888,
             "#fdca26"
            ],
            [
             1,
             "#f0f921"
            ]
           ],
           "sequentialminus": [
            [
             0,
             "#0d0887"
            ],
            [
             0.1111111111111111,
             "#46039f"
            ],
            [
             0.2222222222222222,
             "#7201a8"
            ],
            [
             0.3333333333333333,
             "#9c179e"
            ],
            [
             0.4444444444444444,
             "#bd3786"
            ],
            [
             0.5555555555555556,
             "#d8576b"
            ],
            [
             0.6666666666666666,
             "#ed7953"
            ],
            [
             0.7777777777777778,
             "#fb9f3a"
            ],
            [
             0.8888888888888888,
             "#fdca26"
            ],
            [
             1,
             "#f0f921"
            ]
           ]
          },
          "colorway": [
           "#636efa",
           "#EF553B",
           "#00cc96",
           "#ab63fa",
           "#FFA15A",
           "#19d3f3",
           "#FF6692",
           "#B6E880",
           "#FF97FF",
           "#FECB52"
          ],
          "font": {
           "color": "#2a3f5f"
          },
          "geo": {
           "bgcolor": "white",
           "lakecolor": "white",
           "landcolor": "#E5ECF6",
           "showlakes": true,
           "showland": true,
           "subunitcolor": "white"
          },
          "hoverlabel": {
           "align": "left"
          },
          "hovermode": "closest",
          "mapbox": {
           "style": "light"
          },
          "paper_bgcolor": "white",
          "plot_bgcolor": "#E5ECF6",
          "polar": {
           "angularaxis": {
            "gridcolor": "white",
            "linecolor": "white",
            "ticks": ""
           },
           "bgcolor": "#E5ECF6",
           "radialaxis": {
            "gridcolor": "white",
            "linecolor": "white",
            "ticks": ""
           }
          },
          "scene": {
           "xaxis": {
            "backgroundcolor": "#E5ECF6",
            "gridcolor": "white",
            "gridwidth": 2,
            "linecolor": "white",
            "showbackground": true,
            "ticks": "",
            "zerolinecolor": "white"
           },
           "yaxis": {
            "backgroundcolor": "#E5ECF6",
            "gridcolor": "white",
            "gridwidth": 2,
            "linecolor": "white",
            "showbackground": true,
            "ticks": "",
            "zerolinecolor": "white"
           },
           "zaxis": {
            "backgroundcolor": "#E5ECF6",
            "gridcolor": "white",
            "gridwidth": 2,
            "linecolor": "white",
            "showbackground": true,
            "ticks": "",
            "zerolinecolor": "white"
           }
          },
          "shapedefaults": {
           "line": {
            "color": "#2a3f5f"
           }
          },
          "ternary": {
           "aaxis": {
            "gridcolor": "white",
            "linecolor": "white",
            "ticks": ""
           },
           "baxis": {
            "gridcolor": "white",
            "linecolor": "white",
            "ticks": ""
           },
           "bgcolor": "#E5ECF6",
           "caxis": {
            "gridcolor": "white",
            "linecolor": "white",
            "ticks": ""
           }
          },
          "title": {
           "x": 0.05
          },
          "xaxis": {
           "automargin": true,
           "gridcolor": "white",
           "linecolor": "white",
           "ticks": "",
           "title": {
            "standoff": 15
           },
           "zerolinecolor": "white",
           "zerolinewidth": 2
          },
          "yaxis": {
           "automargin": true,
           "gridcolor": "white",
           "linecolor": "white",
           "ticks": "",
           "title": {
            "standoff": 15
           },
           "zerolinecolor": "white",
           "zerolinewidth": 2
          }
         }
        },
        "title": {
         "font": {
          "color": "black",
          "family": "Arial",
          "size": 16,
          "weight": "bold"
         },
         "text": "Delta of Normalized Intensity over Building Area",
         "x": 0.5,
         "xanchor": "center",
         "yanchor": "top"
        },
        "width": 800,
        "xaxis": {
         "anchor": "y",
         "domain": [
          0,
          1
         ],
         "gridcolor": "lightgrey",
         "range": [
          0,
          35000
         ],
         "showgrid": true,
         "title": {
          "text": "Building Area [m²]"
         }
        },
        "yaxis": {
         "anchor": "x",
         "domain": [
          0,
          1
         ],
         "gridcolor": "lightgrey",
         "range": [
          -1,
          1
         ],
         "showgrid": true,
         "title": {
          "text": "Normalized Carbon Intensity Shift (Occupant vs. Area)"
         }
        }
       }
      }
     },
     "metadata": {},
     "output_type": "display_data"
    }
   ],
   "source": [
    "fig4 = px.scatter(\n",
    "    filtered_bldgs_df3,\n",
    "    x='bldg_gfa',  # Total Building Area on the x-axis (m²)\n",
    "    y='norm_shift',  # Normalized shift on the y-axis\n",
    "    color='bldg_prim_use',  # Color based on 'bldg_prim_use'\n",
    "    title='Delta of Normalized Intensity over Building Area',  # Updated title\n",
    "    labels={\n",
    "        'bldg_gfa': 'Building Area [m²]',\n",
    "        'norm_shift': 'Normalized Carbon Intensity Shift (Occupant vs. Area)',\n",
    "        'bldg_prim_use': 'Primary Use'\n",
    "    },\n",
    "    opacity=0.7,  # Add transparency to the dots\n",
    "    color_discrete_sequence=px.colors.qualitative.Prism\n",
    ")\n",
    "\n",
    "# Add a horizontal line at y=0\n",
    "fig4.add_hline(\n",
    "    y=0,\n",
    "    line_color='darkgrey',\n",
    "    line_width=2,\n",
    "    line_dash='dash'\n",
    ")\n",
    "\n",
    "# Customize the layout\n",
    "# Customize the layout\n",
    "fig4.update_layout(\n",
    "    title={\n",
    "        'text': 'Delta of Normalized Intensity over Building Area',\n",
    "        'x': 0.5,\n",
    "        'xanchor': 'center',\n",
    "        'yanchor': 'top',\n",
    "        'font': {'size': 16, 'family': 'Arial', 'color': 'black', 'weight': 'bold'}\n",
    "    },\n",
    "    xaxis=dict(\n",
    "        range=[0, 35000],  # Crop the x-axis to a maximum of 35,000 m²\n",
    "        showgrid=True,\n",
    "        gridcolor='lightgrey'\n",
    "    ),\n",
    "    yaxis=dict(\n",
    "        range=[-1, 1],  # Set y-axis range from -1 to 1\n",
    "        showgrid=True,\n",
    "        gridcolor='lightgrey'\n",
    "    ),\n",
    "    plot_bgcolor='white',\n",
    "    paper_bgcolor='white',\n",
    "    height=600,\n",
    "    width=800,\n",
    "    legend=dict(\n",
    "        orientation='h',  # Set the legend to horizontal\n",
    "        x=0.5,  # Center the legend horizontally\n",
    "        y=-0.2,  # Position the legend below the plot\n",
    "        xanchor='center',  # Anchor the legend horizontally at the center\n",
    "        yanchor='top',  # Anchor the legend vertically at the top,\n",
    "        title = None\n",
    "    )\n",
    ")\n",
    "\n",
    "# Show the plot\n",
    "fig4.show()"
   ]
  },
  {
   "cell_type": "code",
   "execution_count": 146,
   "metadata": {},
   "outputs": [
    {
     "data": {
      "application/vnd.plotly.v1+json": {
       "config": {
        "plotlyServerURL": "https://plotly.com"
       },
       "data": [
        {
         "cells": {
          "align": "left",
          "fill": {
           "color": "white"
          },
          "font": {
           "color": "black",
           "size": 12
          },
          "values": [
           [
            "Public Assembly",
            "Education",
            "Public Order and Safety",
            "Healthcare",
            "Office",
            "Laboratory",
            "Residential: Multifamily (5 or more units)",
            "Warehouse and Storage"
           ],
           [
            -0.2,
            -0.15,
            -0.08,
            0.02,
            0.02,
            0.02,
            0.16,
            0.63
           ],
           [
            23,
            41,
            7,
            8,
            16,
            10,
            13,
            8
           ]
          ]
         },
         "header": {
          "align": "left",
          "fill": {
           "color": "lightgrey"
          },
          "font": {
           "color": "black",
           "size": 12
          },
          "values": [
           "<b>Primary Use</b>",
           "<b>Average Intensity Delta</b>",
           "<b>Project Count</b>"
          ]
         },
         "type": "table"
        }
       ],
       "layout": {
        "height": 500,
        "paper_bgcolor": "white",
        "template": {
         "data": {
          "bar": [
           {
            "error_x": {
             "color": "#2a3f5f"
            },
            "error_y": {
             "color": "#2a3f5f"
            },
            "marker": {
             "line": {
              "color": "#E5ECF6",
              "width": 0.5
             },
             "pattern": {
              "fillmode": "overlay",
              "size": 10,
              "solidity": 0.2
             }
            },
            "type": "bar"
           }
          ],
          "barpolar": [
           {
            "marker": {
             "line": {
              "color": "#E5ECF6",
              "width": 0.5
             },
             "pattern": {
              "fillmode": "overlay",
              "size": 10,
              "solidity": 0.2
             }
            },
            "type": "barpolar"
           }
          ],
          "carpet": [
           {
            "aaxis": {
             "endlinecolor": "#2a3f5f",
             "gridcolor": "white",
             "linecolor": "white",
             "minorgridcolor": "white",
             "startlinecolor": "#2a3f5f"
            },
            "baxis": {
             "endlinecolor": "#2a3f5f",
             "gridcolor": "white",
             "linecolor": "white",
             "minorgridcolor": "white",
             "startlinecolor": "#2a3f5f"
            },
            "type": "carpet"
           }
          ],
          "choropleth": [
           {
            "colorbar": {
             "outlinewidth": 0,
             "ticks": ""
            },
            "type": "choropleth"
           }
          ],
          "contour": [
           {
            "colorbar": {
             "outlinewidth": 0,
             "ticks": ""
            },
            "colorscale": [
             [
              0,
              "#0d0887"
             ],
             [
              0.1111111111111111,
              "#46039f"
             ],
             [
              0.2222222222222222,
              "#7201a8"
             ],
             [
              0.3333333333333333,
              "#9c179e"
             ],
             [
              0.4444444444444444,
              "#bd3786"
             ],
             [
              0.5555555555555556,
              "#d8576b"
             ],
             [
              0.6666666666666666,
              "#ed7953"
             ],
             [
              0.7777777777777778,
              "#fb9f3a"
             ],
             [
              0.8888888888888888,
              "#fdca26"
             ],
             [
              1,
              "#f0f921"
             ]
            ],
            "type": "contour"
           }
          ],
          "contourcarpet": [
           {
            "colorbar": {
             "outlinewidth": 0,
             "ticks": ""
            },
            "type": "contourcarpet"
           }
          ],
          "heatmap": [
           {
            "colorbar": {
             "outlinewidth": 0,
             "ticks": ""
            },
            "colorscale": [
             [
              0,
              "#0d0887"
             ],
             [
              0.1111111111111111,
              "#46039f"
             ],
             [
              0.2222222222222222,
              "#7201a8"
             ],
             [
              0.3333333333333333,
              "#9c179e"
             ],
             [
              0.4444444444444444,
              "#bd3786"
             ],
             [
              0.5555555555555556,
              "#d8576b"
             ],
             [
              0.6666666666666666,
              "#ed7953"
             ],
             [
              0.7777777777777778,
              "#fb9f3a"
             ],
             [
              0.8888888888888888,
              "#fdca26"
             ],
             [
              1,
              "#f0f921"
             ]
            ],
            "type": "heatmap"
           }
          ],
          "histogram": [
           {
            "marker": {
             "pattern": {
              "fillmode": "overlay",
              "size": 10,
              "solidity": 0.2
             }
            },
            "type": "histogram"
           }
          ],
          "histogram2d": [
           {
            "colorbar": {
             "outlinewidth": 0,
             "ticks": ""
            },
            "colorscale": [
             [
              0,
              "#0d0887"
             ],
             [
              0.1111111111111111,
              "#46039f"
             ],
             [
              0.2222222222222222,
              "#7201a8"
             ],
             [
              0.3333333333333333,
              "#9c179e"
             ],
             [
              0.4444444444444444,
              "#bd3786"
             ],
             [
              0.5555555555555556,
              "#d8576b"
             ],
             [
              0.6666666666666666,
              "#ed7953"
             ],
             [
              0.7777777777777778,
              "#fb9f3a"
             ],
             [
              0.8888888888888888,
              "#fdca26"
             ],
             [
              1,
              "#f0f921"
             ]
            ],
            "type": "histogram2d"
           }
          ],
          "histogram2dcontour": [
           {
            "colorbar": {
             "outlinewidth": 0,
             "ticks": ""
            },
            "colorscale": [
             [
              0,
              "#0d0887"
             ],
             [
              0.1111111111111111,
              "#46039f"
             ],
             [
              0.2222222222222222,
              "#7201a8"
             ],
             [
              0.3333333333333333,
              "#9c179e"
             ],
             [
              0.4444444444444444,
              "#bd3786"
             ],
             [
              0.5555555555555556,
              "#d8576b"
             ],
             [
              0.6666666666666666,
              "#ed7953"
             ],
             [
              0.7777777777777778,
              "#fb9f3a"
             ],
             [
              0.8888888888888888,
              "#fdca26"
             ],
             [
              1,
              "#f0f921"
             ]
            ],
            "type": "histogram2dcontour"
           }
          ],
          "mesh3d": [
           {
            "colorbar": {
             "outlinewidth": 0,
             "ticks": ""
            },
            "type": "mesh3d"
           }
          ],
          "parcoords": [
           {
            "line": {
             "colorbar": {
              "outlinewidth": 0,
              "ticks": ""
             }
            },
            "type": "parcoords"
           }
          ],
          "pie": [
           {
            "automargin": true,
            "type": "pie"
           }
          ],
          "scatter": [
           {
            "fillpattern": {
             "fillmode": "overlay",
             "size": 10,
             "solidity": 0.2
            },
            "type": "scatter"
           }
          ],
          "scatter3d": [
           {
            "line": {
             "colorbar": {
              "outlinewidth": 0,
              "ticks": ""
             }
            },
            "marker": {
             "colorbar": {
              "outlinewidth": 0,
              "ticks": ""
             }
            },
            "type": "scatter3d"
           }
          ],
          "scattercarpet": [
           {
            "marker": {
             "colorbar": {
              "outlinewidth": 0,
              "ticks": ""
             }
            },
            "type": "scattercarpet"
           }
          ],
          "scattergeo": [
           {
            "marker": {
             "colorbar": {
              "outlinewidth": 0,
              "ticks": ""
             }
            },
            "type": "scattergeo"
           }
          ],
          "scattergl": [
           {
            "marker": {
             "colorbar": {
              "outlinewidth": 0,
              "ticks": ""
             }
            },
            "type": "scattergl"
           }
          ],
          "scattermap": [
           {
            "marker": {
             "colorbar": {
              "outlinewidth": 0,
              "ticks": ""
             }
            },
            "type": "scattermap"
           }
          ],
          "scattermapbox": [
           {
            "marker": {
             "colorbar": {
              "outlinewidth": 0,
              "ticks": ""
             }
            },
            "type": "scattermapbox"
           }
          ],
          "scatterpolar": [
           {
            "marker": {
             "colorbar": {
              "outlinewidth": 0,
              "ticks": ""
             }
            },
            "type": "scatterpolar"
           }
          ],
          "scatterpolargl": [
           {
            "marker": {
             "colorbar": {
              "outlinewidth": 0,
              "ticks": ""
             }
            },
            "type": "scatterpolargl"
           }
          ],
          "scatterternary": [
           {
            "marker": {
             "colorbar": {
              "outlinewidth": 0,
              "ticks": ""
             }
            },
            "type": "scatterternary"
           }
          ],
          "surface": [
           {
            "colorbar": {
             "outlinewidth": 0,
             "ticks": ""
            },
            "colorscale": [
             [
              0,
              "#0d0887"
             ],
             [
              0.1111111111111111,
              "#46039f"
             ],
             [
              0.2222222222222222,
              "#7201a8"
             ],
             [
              0.3333333333333333,
              "#9c179e"
             ],
             [
              0.4444444444444444,
              "#bd3786"
             ],
             [
              0.5555555555555556,
              "#d8576b"
             ],
             [
              0.6666666666666666,
              "#ed7953"
             ],
             [
              0.7777777777777778,
              "#fb9f3a"
             ],
             [
              0.8888888888888888,
              "#fdca26"
             ],
             [
              1,
              "#f0f921"
             ]
            ],
            "type": "surface"
           }
          ],
          "table": [
           {
            "cells": {
             "fill": {
              "color": "#EBF0F8"
             },
             "line": {
              "color": "white"
             }
            },
            "header": {
             "fill": {
              "color": "#C8D4E3"
             },
             "line": {
              "color": "white"
             }
            },
            "type": "table"
           }
          ]
         },
         "layout": {
          "annotationdefaults": {
           "arrowcolor": "#2a3f5f",
           "arrowhead": 0,
           "arrowwidth": 1
          },
          "autotypenumbers": "strict",
          "coloraxis": {
           "colorbar": {
            "outlinewidth": 0,
            "ticks": ""
           }
          },
          "colorscale": {
           "diverging": [
            [
             0,
             "#8e0152"
            ],
            [
             0.1,
             "#c51b7d"
            ],
            [
             0.2,
             "#de77ae"
            ],
            [
             0.3,
             "#f1b6da"
            ],
            [
             0.4,
             "#fde0ef"
            ],
            [
             0.5,
             "#f7f7f7"
            ],
            [
             0.6,
             "#e6f5d0"
            ],
            [
             0.7,
             "#b8e186"
            ],
            [
             0.8,
             "#7fbc41"
            ],
            [
             0.9,
             "#4d9221"
            ],
            [
             1,
             "#276419"
            ]
           ],
           "sequential": [
            [
             0,
             "#0d0887"
            ],
            [
             0.1111111111111111,
             "#46039f"
            ],
            [
             0.2222222222222222,
             "#7201a8"
            ],
            [
             0.3333333333333333,
             "#9c179e"
            ],
            [
             0.4444444444444444,
             "#bd3786"
            ],
            [
             0.5555555555555556,
             "#d8576b"
            ],
            [
             0.6666666666666666,
             "#ed7953"
            ],
            [
             0.7777777777777778,
             "#fb9f3a"
            ],
            [
             0.8888888888888888,
             "#fdca26"
            ],
            [
             1,
             "#f0f921"
            ]
           ],
           "sequentialminus": [
            [
             0,
             "#0d0887"
            ],
            [
             0.1111111111111111,
             "#46039f"
            ],
            [
             0.2222222222222222,
             "#7201a8"
            ],
            [
             0.3333333333333333,
             "#9c179e"
            ],
            [
             0.4444444444444444,
             "#bd3786"
            ],
            [
             0.5555555555555556,
             "#d8576b"
            ],
            [
             0.6666666666666666,
             "#ed7953"
            ],
            [
             0.7777777777777778,
             "#fb9f3a"
            ],
            [
             0.8888888888888888,
             "#fdca26"
            ],
            [
             1,
             "#f0f921"
            ]
           ]
          },
          "colorway": [
           "#636efa",
           "#EF553B",
           "#00cc96",
           "#ab63fa",
           "#FFA15A",
           "#19d3f3",
           "#FF6692",
           "#B6E880",
           "#FF97FF",
           "#FECB52"
          ],
          "font": {
           "color": "#2a3f5f"
          },
          "geo": {
           "bgcolor": "white",
           "lakecolor": "white",
           "landcolor": "#E5ECF6",
           "showlakes": true,
           "showland": true,
           "subunitcolor": "white"
          },
          "hoverlabel": {
           "align": "left"
          },
          "hovermode": "closest",
          "mapbox": {
           "style": "light"
          },
          "paper_bgcolor": "white",
          "plot_bgcolor": "#E5ECF6",
          "polar": {
           "angularaxis": {
            "gridcolor": "white",
            "linecolor": "white",
            "ticks": ""
           },
           "bgcolor": "#E5ECF6",
           "radialaxis": {
            "gridcolor": "white",
            "linecolor": "white",
            "ticks": ""
           }
          },
          "scene": {
           "xaxis": {
            "backgroundcolor": "#E5ECF6",
            "gridcolor": "white",
            "gridwidth": 2,
            "linecolor": "white",
            "showbackground": true,
            "ticks": "",
            "zerolinecolor": "white"
           },
           "yaxis": {
            "backgroundcolor": "#E5ECF6",
            "gridcolor": "white",
            "gridwidth": 2,
            "linecolor": "white",
            "showbackground": true,
            "ticks": "",
            "zerolinecolor": "white"
           },
           "zaxis": {
            "backgroundcolor": "#E5ECF6",
            "gridcolor": "white",
            "gridwidth": 2,
            "linecolor": "white",
            "showbackground": true,
            "ticks": "",
            "zerolinecolor": "white"
           }
          },
          "shapedefaults": {
           "line": {
            "color": "#2a3f5f"
           }
          },
          "ternary": {
           "aaxis": {
            "gridcolor": "white",
            "linecolor": "white",
            "ticks": ""
           },
           "baxis": {
            "gridcolor": "white",
            "linecolor": "white",
            "ticks": ""
           },
           "bgcolor": "#E5ECF6",
           "caxis": {
            "gridcolor": "white",
            "linecolor": "white",
            "ticks": ""
           }
          },
          "title": {
           "x": 0.05
          },
          "xaxis": {
           "automargin": true,
           "gridcolor": "white",
           "linecolor": "white",
           "ticks": "",
           "title": {
            "standoff": 15
           },
           "zerolinecolor": "white",
           "zerolinewidth": 2
          },
          "yaxis": {
           "automargin": true,
           "gridcolor": "white",
           "linecolor": "white",
           "ticks": "",
           "title": {
            "standoff": 15
           },
           "zerolinecolor": "white",
           "zerolinewidth": 2
          }
         }
        },
        "title": {
         "font": {
          "color": "black",
          "family": "Arial",
          "size": 16,
          "weight": "bold"
         },
         "text": "Normalized Intensity Delta (Occupant vs. Area) by Primary Use",
         "x": 0.5
        },
        "width": 600
       }
      }
     },
     "metadata": {},
     "output_type": "display_data"
    }
   ],
   "source": [
    "# Group by 'bldg_prim_use' and calculate the average 'norm_shift' and count of rows\n",
    "summary_table = filtered_bldgs_df3.groupby('bldg_prim_use').agg(\n",
    "    avg_norm_shift=('norm_shift', 'mean'),\n",
    "    count=('norm_shift', 'size')\n",
    ").reset_index()\n",
    "\n",
    "# Round the average norm_shift to 2 decimal places for better readability\n",
    "summary_table['avg_norm_shift'] = summary_table['avg_norm_shift'].round(2)\n",
    "\n",
    "# Sort the table by 'avg_norm_shift'\n",
    "summary_table = summary_table.sort_values(by='avg_norm_shift', ascending=True)\n",
    "\n",
    "# Create a Plotly table\n",
    "fig_table = go.Figure(data=[go.Table(\n",
    "    header=dict(\n",
    "        values=['<b>Primary Use</b>', '<b>Average Intensity Delta</b>', '<b>Project Count</b>'],\n",
    "        fill_color='lightgrey',\n",
    "        align='left',\n",
    "        font=dict(size=12, color='black')\n",
    "    ),\n",
    "    cells=dict(\n",
    "        values=[\n",
    "            summary_table['bldg_prim_use'],  # Primary Use\n",
    "            summary_table['avg_norm_shift'],  # Average Norm Shift\n",
    "            summary_table['count']  # Count\n",
    "        ],\n",
    "        fill_color='white',\n",
    "        align='left',\n",
    "        font=dict(size=12, color='black')\n",
    "    )\n",
    ")])\n",
    "\n",
    "# Customize the layout\n",
    "fig_table.update_layout(\n",
    "    title='Normalized Intensity Delta (Occupant vs. Area) by Primary Use',\n",
    "    title_x=0.5,  # Center the title\n",
    "    height=500,\n",
    "    width=600,\n",
    "    paper_bgcolor='white',\n",
    "    title_font=dict(size=16, family='Arial', color='black', weight='bold'),  # Make the title bold\n",
    ")\n",
    "\n",
    "# Show the table\n",
    "fig_table.show()"
   ]
  },
  {
   "cell_type": "markdown",
   "metadata": {},
   "source": [
    "---"
   ]
  },
  {
   "cell_type": "markdown",
   "metadata": {},
   "source": [
    "### Exploring Differences Through Design Phase LCA is Conducted"
   ]
  },
  {
   "cell_type": "markdown",
   "metadata": {},
   "source": [
    "#### Cleaning and Filtering the Data"
   ]
  },
  {
   "cell_type": "code",
   "execution_count": 147,
   "metadata": {},
   "outputs": [
    {
     "name": "stdout",
     "output_type": "stream",
     "text": [
      "lca_design_phase\n",
      "Design Development        17\n",
      "Construction Documents    94\n",
      "Construction              63\n",
      "Completed                 66\n",
      "Name: count, dtype: int64\n"
     ]
    }
   ],
   "source": [
    "# Remove any rows from the DataFrame where the bldg_stories_above field is NaN\n",
    "filtered_bldgs_df4 = buildings_metadata_df.copy()\n",
    "\n",
    "# Remove data points where the \"eci_a_to_c_cfa\" field is above 1200\n",
    "filtered_bldgs_df4 = filtered_bldgs_df4[filtered_bldgs_df4['eci_a_to_c_cfa'] <= 1200]\n",
    "\n",
    "# Limit to New Construction\n",
    "filtered_bldgs_df4 = filtered_bldgs_df4[filtered_bldgs_df4['bldg_proj_type'] == 'New Construction']\n",
    "\n",
    "# Count the data points in each bucket and reorder the list in the specified order\n",
    "lca_phase_order = ['Design Development', 'Construction Documents', 'Construction', 'Completed']\n",
    "phase_counts = filtered_bldgs_df4['lca_design_phase'].value_counts()\n",
    "phase_counts = phase_counts.reindex(lca_phase_order)\n",
    "print(phase_counts)\n",
    "\n"
   ]
  },
  {
   "cell_type": "markdown",
   "metadata": {},
   "source": [
    "#### Plotting the Data"
   ]
  },
  {
   "cell_type": "code",
   "execution_count": 148,
   "metadata": {},
   "outputs": [
    {
     "data": {
      "application/vnd.plotly.v1+json": {
       "config": {
        "plotlyServerURL": "https://plotly.com"
       },
       "data": [
        {
         "alignmentgroup": "True",
         "boxpoints": "all",
         "customdata": [
          [
           "Residential: Multifamily (5 or more units)"
          ],
          [
           "Office"
          ],
          [
           "Education"
          ],
          [
           "Office"
          ],
          [
           "Education"
          ],
          [
           "Office"
          ],
          [
           "Education"
          ],
          [
           "Residential: Multifamily (5 or more units)"
          ],
          [
           "Healthcare"
          ],
          [
           "Office"
          ],
          [
           "Office"
          ],
          [
           "Warehouse and Storage"
          ],
          [
           "Education"
          ],
          [
           "Industrial"
          ],
          [
           "Healthcare"
          ],
          [
           "Education"
          ],
          [
           "Healthcare"
          ],
          [
           "Education"
          ],
          [
           "Public Assembly"
          ],
          [
           "Warehouse and Storage"
          ],
          [
           "Education"
          ],
          [
           "Residential: Multifamily (5 or more units)"
          ],
          [
           "Education"
          ],
          [
           "Parking"
          ],
          [
           "Education"
          ],
          [
           "Public Order and Safety"
          ],
          [
           "Public Order and Safety"
          ],
          [
           "Public Assembly"
          ],
          [
           "Education"
          ],
          [
           "Parking"
          ],
          [
           "Education"
          ],
          [
           "Warehouse and Storage"
          ],
          [
           "Education"
          ],
          [
           "Warehouse and Storage"
          ],
          [
           "Healthcare"
          ],
          [
           "Warehouse and Storage"
          ],
          [
           "Office"
          ],
          [
           "Warehouse and Storage"
          ],
          [
           "Warehouse and Storage"
          ],
          [
           "Healthcare"
          ],
          [
           "Residential: Multifamily (5 or more units)"
          ],
          [
           "Laboratory"
          ],
          [
           "Healthcare"
          ],
          [
           "Office"
          ],
          [
           "Office"
          ],
          [
           "Warehouse and Storage"
          ],
          [
           "Residential: Multifamily (5 or more units)"
          ],
          [
           "Office"
          ],
          [
           "Residential: Multifamily (5 or more units)"
          ],
          [
           "Public Assembly"
          ],
          [
           "Public Assembly"
          ],
          [
           "Public Order and Safety"
          ],
          [
           "Office"
          ],
          [
           "Residential: Multifamily (5 or more units)"
          ],
          [
           "Office"
          ],
          [
           "Office"
          ],
          [
           "Residential: Multifamily (5 or more units)"
          ],
          [
           "Residential: Multifamily (5 or more units)"
          ],
          [
           "Healthcare"
          ],
          [
           "Residential: Multifamily (5 or more units)"
          ],
          [
           "Residential: Multifamily (5 or more units)"
          ],
          [
           "Education"
          ],
          [
           "Office"
          ],
          [
           "Office"
          ],
          [
           "Warehouse and Storage"
          ],
          [
           "Warehouse and Storage"
          ],
          [
           "Laboratory"
          ],
          [
           "Office"
          ],
          [
           "Industrial"
          ],
          [
           "Residential: Multifamily (5 or more units)"
          ],
          [
           "Office"
          ],
          [
           "Education"
          ],
          [
           "Residential: Multifamily (5 or more units)"
          ],
          [
           "Public Order and Safety"
          ],
          [
           "Public Order and Safety"
          ],
          [
           "Office"
          ],
          [
           "Office"
          ],
          [
           "Warehouse and Storage"
          ],
          [
           "Office"
          ],
          [
           "Laboratory"
          ],
          [
           "Residential: Multifamily (5 or more units)"
          ],
          [
           "Public Order and Safety"
          ],
          [
           "Public Order and Safety"
          ],
          [
           "Residential: Multifamily (5 or more units)"
          ],
          [
           "Public Assembly"
          ],
          [
           "Education"
          ],
          [
           "Public Assembly"
          ],
          [
           "Education"
          ],
          [
           "Public Assembly"
          ],
          [
           "Public Assembly"
          ],
          [
           "Residential: Multifamily (5 or more units)"
          ],
          [
           "Laboratory"
          ],
          [
           "Laboratory"
          ],
          [
           "Office"
          ],
          [
           "Warehouse and Storage"
          ],
          [
           "Education"
          ],
          [
           "Warehouse and Storage"
          ],
          [
           "Warehouse and Storage"
          ],
          [
           "Education"
          ],
          [
           "Education"
          ],
          [
           "Public Assembly"
          ],
          [
           "Education"
          ],
          [
           "Public Assembly"
          ],
          [
           "Public Assembly"
          ],
          [
           "Transportation Hub"
          ],
          [
           "Education"
          ],
          [
           "Education"
          ],
          [
           "Office"
          ],
          [
           "Residential: Multifamily (5 or more units)"
          ],
          [
           "Residential: Multifamily (5 or more units)"
          ],
          [
           "Residential: Multifamily (5 or more units)"
          ],
          [
           "Warehouse and Storage"
          ],
          [
           "Parking"
          ],
          [
           "Residential: Multifamily (5 or more units)"
          ],
          [
           "Public Assembly"
          ],
          [
           "Residential: Multifamily (5 or more units)"
          ],
          [
           "Residential: Multifamily (5 or more units)"
          ],
          [
           "Lodging"
          ],
          [
           "Education"
          ],
          [
           "Education"
          ],
          [
           "Education"
          ],
          [
           "Public Order and Safety"
          ],
          [
           "Office"
          ],
          [
           "Public Order and Safety"
          ],
          [
           "Education"
          ],
          [
           "Transportation Hub"
          ],
          [
           "Transportation Hub"
          ],
          [
           "Public Assembly"
          ],
          [
           "Warehouse and Storage"
          ],
          [
           "Residential: Multifamily (5 or more units)"
          ],
          [
           "Office"
          ],
          [
           "Public Assembly"
          ],
          [
           "Office"
          ],
          [
           "Residential: Multifamily (5 or more units)"
          ],
          [
           "Residential: Multifamily (5 or more units)"
          ],
          [
           "Residential: Multifamily (5 or more units)"
          ],
          [
           "Public Assembly"
          ],
          [
           "Residential: Multifamily (5 or more units)"
          ],
          [
           "Residential: Multifamily (5 or more units)"
          ],
          [
           "Education"
          ],
          [
           "Mercantile"
          ],
          [
           "Education"
          ],
          [
           "Education"
          ],
          [
           "Public Assembly"
          ],
          [
           "Education"
          ],
          [
           "Education"
          ],
          [
           "Residential: Multifamily (5 or more units)"
          ],
          [
           "Office"
          ],
          [
           "Education"
          ],
          [
           "Education"
          ],
          [
           "Parking"
          ],
          [
           "Education"
          ],
          [
           "Residential: Multifamily (5 or more units)"
          ],
          [
           "Residential: Multifamily (5 or more units)"
          ],
          [
           "Office"
          ],
          [
           "Residential: Multifamily (5 or more units)"
          ],
          [
           "Office"
          ],
          [
           "Residential: Multifamily (5 or more units)"
          ],
          [
           "Healthcare"
          ],
          [
           "Lodging"
          ],
          [
           "Office"
          ],
          [
           "Public Assembly"
          ],
          [
           "Office"
          ],
          [
           "Healthcare"
          ],
          [
           "Laboratory"
          ],
          [
           "Office"
          ],
          [
           "Residential: Multifamily (5 or more units)"
          ],
          [
           "Residential: Multifamily (5 or more units)"
          ],
          [
           "Laboratory"
          ],
          [
           "Public Assembly"
          ],
          [
           "Laboratory"
          ],
          [
           "Education"
          ],
          [
           "Office"
          ],
          [
           "Education"
          ],
          [
           "Public Assembly"
          ],
          [
           "Public Assembly"
          ],
          [
           "Public Order and Safety"
          ],
          [
           "Laboratory"
          ],
          [
           "Laboratory"
          ],
          [
           "Public Assembly"
          ],
          [
           "Healthcare"
          ],
          [
           "Office"
          ],
          [
           "Public Assembly"
          ],
          [
           "Warehouse and Storage"
          ],
          [
           "Laboratory"
          ],
          [
           "Laboratory"
          ],
          [
           "Education"
          ],
          [
           "Public Assembly"
          ],
          [
           "Healthcare"
          ],
          [
           "Laboratory"
          ],
          [
           "Laboratory"
          ],
          [
           "Education"
          ],
          [
           "Laboratory"
          ],
          [
           "Warehouse and Storage"
          ],
          [
           "Warehouse and Storage"
          ],
          [
           "Education"
          ],
          [
           "Education"
          ],
          [
           "Laboratory"
          ],
          [
           "Residential: Multifamily (5 or more units)"
          ],
          [
           "Education"
          ],
          [
           "Residential: Multifamily (5 or more units)"
          ],
          [
           "Education"
          ],
          [
           "Transportation Hub"
          ],
          [
           "Residential: Multifamily (5 or more units)"
          ],
          [
           "Residential: Multifamily (5 or more units)"
          ],
          [
           "Education"
          ],
          [
           "Office"
          ],
          [
           "Education"
          ],
          [
           "Office"
          ],
          [
           "Warehouse and Storage"
          ],
          [
           "Laboratory"
          ],
          [
           "Office"
          ],
          [
           "Education"
          ],
          [
           "Public Assembly"
          ],
          [
           "Residential: Multifamily (5 or more units)"
          ],
          [
           "Residential: Multifamily (5 or more units)"
          ],
          [
           "Public Assembly"
          ],
          [
           "Residential: Multifamily (5 or more units)"
          ],
          [
           "Office"
          ],
          [
           "Office"
          ],
          [
           "Office"
          ],
          [
           "Residential: Multifamily (5 or more units)"
          ],
          [
           "Transportation Hub"
          ],
          [
           "Transportation Hub"
          ],
          [
           "Education"
          ],
          [
           "Healthcare"
          ],
          [
           "Office"
          ],
          [
           "Public Assembly"
          ],
          [
           "Warehouse and Storage"
          ],
          [
           "Residential: Multifamily (5 or more units)"
          ],
          [
           "Healthcare"
          ],
          [
           "Public Assembly"
          ],
          [
           "Office"
          ],
          [
           "Laboratory"
          ],
          [
           "Office"
          ],
          [
           "Office"
          ],
          [
           "Food Service"
          ],
          [
           "Transportation Hub"
          ],
          [
           "Transportation Hub"
          ],
          [
           "Public Assembly"
          ]
         ],
         "fillcolor": "rgb(236,226,240)",
         "hovertemplate": "LCA Design Phase=%{x}<br>Normalized Embodied Carbon Intensity (CFA)=%{y}<br>bldg_prim_use=%{customdata[0]}<extra></extra>",
         "jitter": 0.3,
         "legendgroup": "",
         "line": {
          "color": "rgb(166,189,219)"
         },
         "marker": {
          "color": "rgba(28, 144, 153, 0.5)"
         },
         "name": "",
         "notched": false,
         "offsetgroup": "",
         "orientation": "v",
         "pointpos": 0,
         "showlegend": false,
         "type": "box",
         "x": [
          "Construction",
          "Construction Documents",
          "Completed",
          "Construction Documents",
          "Construction Documents",
          "Construction Documents",
          "Completed",
          "Construction Documents",
          "Construction",
          "Construction",
          "Construction",
          "Completed",
          "Completed",
          "Construction Documents",
          "Construction Documents",
          "Construction Documents",
          "Construction",
          "Construction",
          "Completed",
          "Completed",
          "Completed",
          "Construction",
          "Completed",
          "Completed",
          "Construction",
          "Completed",
          "Completed",
          "Construction",
          "Construction",
          "Design Development",
          "Completed",
          "Construction",
          "Completed",
          "Construction Documents",
          "Construction",
          "Completed",
          "Completed",
          "Completed",
          "Completed",
          "Construction",
          "Construction Documents",
          "Construction Documents",
          "Construction",
          "Construction Documents",
          "Construction",
          "Completed",
          "Completed",
          "Construction",
          "Construction",
          "Construction",
          "Construction Documents",
          "Construction",
          "Construction",
          "Completed",
          "Construction Documents",
          "Construction Documents",
          "Construction Documents",
          "Construction Documents",
          "Construction Documents",
          "Construction",
          "Construction Documents",
          "Completed",
          "Completed",
          "Construction Documents",
          "Construction Documents",
          "Construction Documents",
          "Construction Documents",
          "Construction Documents",
          "Construction Documents",
          "Completed",
          "Completed",
          "Construction",
          "Construction",
          "Construction",
          "Construction",
          "Construction",
          "Completed",
          "Completed",
          "Completed",
          "Construction",
          "Completed",
          "Construction Documents",
          "Construction",
          "Construction",
          "Construction Documents",
          "Completed",
          "Completed",
          "Construction Documents",
          "Design Development",
          "Completed",
          "Construction",
          "Construction Documents",
          "Construction Documents",
          "Construction Documents",
          "Construction Documents",
          "Construction Documents",
          "Completed",
          "Completed",
          "Design Development",
          "Construction",
          "Construction Documents",
          "Construction",
          "Construction Documents",
          "Construction Documents",
          "Construction Documents",
          "Construction",
          "Construction Documents",
          "Construction Documents",
          "Construction Documents",
          "Completed",
          "Completed",
          "Construction Documents",
          "Construction Documents",
          "Construction Documents",
          "Construction Documents",
          "Construction Documents",
          "Construction Documents",
          "Completed",
          "Construction",
          "Completed",
          "Construction",
          "Design Development",
          "Design Development",
          "Completed",
          "Construction",
          "Completed",
          "Completed",
          "Construction Documents",
          "Completed",
          "Completed",
          "Completed",
          "Completed",
          "Completed",
          "Construction",
          "Construction",
          "Construction Documents",
          "Completed",
          "Completed",
          "Construction",
          "Completed",
          "Completed",
          "Completed",
          "Design Development",
          "Construction",
          "Construction Documents",
          "Design Development",
          "Completed",
          "Construction Documents",
          "Construction",
          "Construction",
          "Completed",
          "Completed",
          "Design Development",
          "Construction",
          "Design Development",
          "Design Development",
          "Construction",
          "Completed",
          "Construction Documents",
          "Design Development",
          "Construction",
          "Completed",
          "Construction Documents",
          "Construction Documents",
          "Construction Documents",
          "Completed",
          "Construction Documents",
          "Construction Documents",
          "Completed",
          "Construction Documents",
          "Construction Documents",
          "Construction",
          "Completed",
          "Construction",
          "Construction",
          "Construction",
          "Construction Documents",
          "Construction Documents",
          "Construction Documents",
          "Construction",
          "Construction",
          "Completed",
          "Construction Documents",
          "Construction",
          "Design Development",
          "Construction Documents",
          "Construction Documents",
          "Construction Documents",
          "Construction",
          "Construction Documents",
          "Construction Documents",
          "Construction Documents",
          "Construction Documents",
          "Construction",
          "Completed",
          "Completed",
          "Construction Documents",
          "Construction",
          "Construction Documents",
          "Construction Documents",
          "Construction Documents",
          "Construction Documents",
          "Construction Documents",
          "Construction Documents",
          "Construction Documents",
          "Construction",
          "Construction Documents",
          "Design Development",
          "Construction Documents",
          "Construction Documents",
          "Construction Documents",
          "Construction Documents",
          "Construction Documents",
          "Design Development",
          "Construction Documents",
          "Construction Documents",
          "Construction Documents",
          "Construction Documents",
          "Construction Documents",
          "Construction Documents",
          "Construction Documents",
          "Construction Documents",
          "Design Development",
          "Design Development",
          "Construction",
          "Construction",
          "Construction",
          "Completed",
          "Construction Documents",
          "Completed",
          "Completed",
          "Construction",
          "Construction",
          "Construction Documents",
          "Construction Documents",
          "Completed",
          "Completed",
          "Construction",
          "Design Development",
          "Construction"
         ],
         "x0": " ",
         "xaxis": "x",
         "y": {
          "bdata": "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",
          "dtype": "f8"
         },
         "y0": " ",
         "yaxis": "y"
        }
       ],
       "layout": {
        "boxmode": "group",
        "height": 600,
        "legend": {
         "tracegroupgap": 0
        },
        "paper_bgcolor": "white",
        "plot_bgcolor": "white",
        "template": {
         "data": {
          "bar": [
           {
            "error_x": {
             "color": "#2a3f5f"
            },
            "error_y": {
             "color": "#2a3f5f"
            },
            "marker": {
             "line": {
              "color": "#E5ECF6",
              "width": 0.5
             },
             "pattern": {
              "fillmode": "overlay",
              "size": 10,
              "solidity": 0.2
             }
            },
            "type": "bar"
           }
          ],
          "barpolar": [
           {
            "marker": {
             "line": {
              "color": "#E5ECF6",
              "width": 0.5
             },
             "pattern": {
              "fillmode": "overlay",
              "size": 10,
              "solidity": 0.2
             }
            },
            "type": "barpolar"
           }
          ],
          "carpet": [
           {
            "aaxis": {
             "endlinecolor": "#2a3f5f",
             "gridcolor": "white",
             "linecolor": "white",
             "minorgridcolor": "white",
             "startlinecolor": "#2a3f5f"
            },
            "baxis": {
             "endlinecolor": "#2a3f5f",
             "gridcolor": "white",
             "linecolor": "white",
             "minorgridcolor": "white",
             "startlinecolor": "#2a3f5f"
            },
            "type": "carpet"
           }
          ],
          "choropleth": [
           {
            "colorbar": {
             "outlinewidth": 0,
             "ticks": ""
            },
            "type": "choropleth"
           }
          ],
          "contour": [
           {
            "colorbar": {
             "outlinewidth": 0,
             "ticks": ""
            },
            "colorscale": [
             [
              0,
              "#0d0887"
             ],
             [
              0.1111111111111111,
              "#46039f"
             ],
             [
              0.2222222222222222,
              "#7201a8"
             ],
             [
              0.3333333333333333,
              "#9c179e"
             ],
             [
              0.4444444444444444,
              "#bd3786"
             ],
             [
              0.5555555555555556,
              "#d8576b"
             ],
             [
              0.6666666666666666,
              "#ed7953"
             ],
             [
              0.7777777777777778,
              "#fb9f3a"
             ],
             [
              0.8888888888888888,
              "#fdca26"
             ],
             [
              1,
              "#f0f921"
             ]
            ],
            "type": "contour"
           }
          ],
          "contourcarpet": [
           {
            "colorbar": {
             "outlinewidth": 0,
             "ticks": ""
            },
            "type": "contourcarpet"
           }
          ],
          "heatmap": [
           {
            "colorbar": {
             "outlinewidth": 0,
             "ticks": ""
            },
            "colorscale": [
             [
              0,
              "#0d0887"
             ],
             [
              0.1111111111111111,
              "#46039f"
             ],
             [
              0.2222222222222222,
              "#7201a8"
             ],
             [
              0.3333333333333333,
              "#9c179e"
             ],
             [
              0.4444444444444444,
              "#bd3786"
             ],
             [
              0.5555555555555556,
              "#d8576b"
             ],
             [
              0.6666666666666666,
              "#ed7953"
             ],
             [
              0.7777777777777778,
              "#fb9f3a"
             ],
             [
              0.8888888888888888,
              "#fdca26"
             ],
             [
              1,
              "#f0f921"
             ]
            ],
            "type": "heatmap"
           }
          ],
          "histogram": [
           {
            "marker": {
             "pattern": {
              "fillmode": "overlay",
              "size": 10,
              "solidity": 0.2
             }
            },
            "type": "histogram"
           }
          ],
          "histogram2d": [
           {
            "colorbar": {
             "outlinewidth": 0,
             "ticks": ""
            },
            "colorscale": [
             [
              0,
              "#0d0887"
             ],
             [
              0.1111111111111111,
              "#46039f"
             ],
             [
              0.2222222222222222,
              "#7201a8"
             ],
             [
              0.3333333333333333,
              "#9c179e"
             ],
             [
              0.4444444444444444,
              "#bd3786"
             ],
             [
              0.5555555555555556,
              "#d8576b"
             ],
             [
              0.6666666666666666,
              "#ed7953"
             ],
             [
              0.7777777777777778,
              "#fb9f3a"
             ],
             [
              0.8888888888888888,
              "#fdca26"
             ],
             [
              1,
              "#f0f921"
             ]
            ],
            "type": "histogram2d"
           }
          ],
          "histogram2dcontour": [
           {
            "colorbar": {
             "outlinewidth": 0,
             "ticks": ""
            },
            "colorscale": [
             [
              0,
              "#0d0887"
             ],
             [
              0.1111111111111111,
              "#46039f"
             ],
             [
              0.2222222222222222,
              "#7201a8"
             ],
             [
              0.3333333333333333,
              "#9c179e"
             ],
             [
              0.4444444444444444,
              "#bd3786"
             ],
             [
              0.5555555555555556,
              "#d8576b"
             ],
             [
              0.6666666666666666,
              "#ed7953"
             ],
             [
              0.7777777777777778,
              "#fb9f3a"
             ],
             [
              0.8888888888888888,
              "#fdca26"
             ],
             [
              1,
              "#f0f921"
             ]
            ],
            "type": "histogram2dcontour"
           }
          ],
          "mesh3d": [
           {
            "colorbar": {
             "outlinewidth": 0,
             "ticks": ""
            },
            "type": "mesh3d"
           }
          ],
          "parcoords": [
           {
            "line": {
             "colorbar": {
              "outlinewidth": 0,
              "ticks": ""
             }
            },
            "type": "parcoords"
           }
          ],
          "pie": [
           {
            "automargin": true,
            "type": "pie"
           }
          ],
          "scatter": [
           {
            "fillpattern": {
             "fillmode": "overlay",
             "size": 10,
             "solidity": 0.2
            },
            "type": "scatter"
           }
          ],
          "scatter3d": [
           {
            "line": {
             "colorbar": {
              "outlinewidth": 0,
              "ticks": ""
             }
            },
            "marker": {
             "colorbar": {
              "outlinewidth": 0,
              "ticks": ""
             }
            },
            "type": "scatter3d"
           }
          ],
          "scattercarpet": [
           {
            "marker": {
             "colorbar": {
              "outlinewidth": 0,
              "ticks": ""
             }
            },
            "type": "scattercarpet"
           }
          ],
          "scattergeo": [
           {
            "marker": {
             "colorbar": {
              "outlinewidth": 0,
              "ticks": ""
             }
            },
            "type": "scattergeo"
           }
          ],
          "scattergl": [
           {
            "marker": {
             "colorbar": {
              "outlinewidth": 0,
              "ticks": ""
             }
            },
            "type": "scattergl"
           }
          ],
          "scattermap": [
           {
            "marker": {
             "colorbar": {
              "outlinewidth": 0,
              "ticks": ""
             }
            },
            "type": "scattermap"
           }
          ],
          "scattermapbox": [
           {
            "marker": {
             "colorbar": {
              "outlinewidth": 0,
              "ticks": ""
             }
            },
            "type": "scattermapbox"
           }
          ],
          "scatterpolar": [
           {
            "marker": {
             "colorbar": {
              "outlinewidth": 0,
              "ticks": ""
             }
            },
            "type": "scatterpolar"
           }
          ],
          "scatterpolargl": [
           {
            "marker": {
             "colorbar": {
              "outlinewidth": 0,
              "ticks": ""
             }
            },
            "type": "scatterpolargl"
           }
          ],
          "scatterternary": [
           {
            "marker": {
             "colorbar": {
              "outlinewidth": 0,
              "ticks": ""
             }
            },
            "type": "scatterternary"
           }
          ],
          "surface": [
           {
            "colorbar": {
             "outlinewidth": 0,
             "ticks": ""
            },
            "colorscale": [
             [
              0,
              "#0d0887"
             ],
             [
              0.1111111111111111,
              "#46039f"
             ],
             [
              0.2222222222222222,
              "#7201a8"
             ],
             [
              0.3333333333333333,
              "#9c179e"
             ],
             [
              0.4444444444444444,
              "#bd3786"
             ],
             [
              0.5555555555555556,
              "#d8576b"
             ],
             [
              0.6666666666666666,
              "#ed7953"
             ],
             [
              0.7777777777777778,
              "#fb9f3a"
             ],
             [
              0.8888888888888888,
              "#fdca26"
             ],
             [
              1,
              "#f0f921"
             ]
            ],
            "type": "surface"
           }
          ],
          "table": [
           {
            "cells": {
             "fill": {
              "color": "#EBF0F8"
             },
             "line": {
              "color": "white"
             }
            },
            "header": {
             "fill": {
              "color": "#C8D4E3"
             },
             "line": {
              "color": "white"
             }
            },
            "type": "table"
           }
          ]
         },
         "layout": {
          "annotationdefaults": {
           "arrowcolor": "#2a3f5f",
           "arrowhead": 0,
           "arrowwidth": 1
          },
          "autotypenumbers": "strict",
          "coloraxis": {
           "colorbar": {
            "outlinewidth": 0,
            "ticks": ""
           }
          },
          "colorscale": {
           "diverging": [
            [
             0,
             "#8e0152"
            ],
            [
             0.1,
             "#c51b7d"
            ],
            [
             0.2,
             "#de77ae"
            ],
            [
             0.3,
             "#f1b6da"
            ],
            [
             0.4,
             "#fde0ef"
            ],
            [
             0.5,
             "#f7f7f7"
            ],
            [
             0.6,
             "#e6f5d0"
            ],
            [
             0.7,
             "#b8e186"
            ],
            [
             0.8,
             "#7fbc41"
            ],
            [
             0.9,
             "#4d9221"
            ],
            [
             1,
             "#276419"
            ]
           ],
           "sequential": [
            [
             0,
             "#0d0887"
            ],
            [
             0.1111111111111111,
             "#46039f"
            ],
            [
             0.2222222222222222,
             "#7201a8"
            ],
            [
             0.3333333333333333,
             "#9c179e"
            ],
            [
             0.4444444444444444,
             "#bd3786"
            ],
            [
             0.5555555555555556,
             "#d8576b"
            ],
            [
             0.6666666666666666,
             "#ed7953"
            ],
            [
             0.7777777777777778,
             "#fb9f3a"
            ],
            [
             0.8888888888888888,
             "#fdca26"
            ],
            [
             1,
             "#f0f921"
            ]
           ],
           "sequentialminus": [
            [
             0,
             "#0d0887"
            ],
            [
             0.1111111111111111,
             "#46039f"
            ],
            [
             0.2222222222222222,
             "#7201a8"
            ],
            [
             0.3333333333333333,
             "#9c179e"
            ],
            [
             0.4444444444444444,
             "#bd3786"
            ],
            [
             0.5555555555555556,
             "#d8576b"
            ],
            [
             0.6666666666666666,
             "#ed7953"
            ],
            [
             0.7777777777777778,
             "#fb9f3a"
            ],
            [
             0.8888888888888888,
             "#fdca26"
            ],
            [
             1,
             "#f0f921"
            ]
           ]
          },
          "colorway": [
           "#636efa",
           "#EF553B",
           "#00cc96",
           "#ab63fa",
           "#FFA15A",
           "#19d3f3",
           "#FF6692",
           "#B6E880",
           "#FF97FF",
           "#FECB52"
          ],
          "font": {
           "color": "#2a3f5f"
          },
          "geo": {
           "bgcolor": "white",
           "lakecolor": "white",
           "landcolor": "#E5ECF6",
           "showlakes": true,
           "showland": true,
           "subunitcolor": "white"
          },
          "hoverlabel": {
           "align": "left"
          },
          "hovermode": "closest",
          "mapbox": {
           "style": "light"
          },
          "paper_bgcolor": "white",
          "plot_bgcolor": "#E5ECF6",
          "polar": {
           "angularaxis": {
            "gridcolor": "white",
            "linecolor": "white",
            "ticks": ""
           },
           "bgcolor": "#E5ECF6",
           "radialaxis": {
            "gridcolor": "white",
            "linecolor": "white",
            "ticks": ""
           }
          },
          "scene": {
           "xaxis": {
            "backgroundcolor": "#E5ECF6",
            "gridcolor": "white",
            "gridwidth": 2,
            "linecolor": "white",
            "showbackground": true,
            "ticks": "",
            "zerolinecolor": "white"
           },
           "yaxis": {
            "backgroundcolor": "#E5ECF6",
            "gridcolor": "white",
            "gridwidth": 2,
            "linecolor": "white",
            "showbackground": true,
            "ticks": "",
            "zerolinecolor": "white"
           },
           "zaxis": {
            "backgroundcolor": "#E5ECF6",
            "gridcolor": "white",
            "gridwidth": 2,
            "linecolor": "white",
            "showbackground": true,
            "ticks": "",
            "zerolinecolor": "white"
           }
          },
          "shapedefaults": {
           "line": {
            "color": "#2a3f5f"
           }
          },
          "ternary": {
           "aaxis": {
            "gridcolor": "white",
            "linecolor": "white",
            "ticks": ""
           },
           "baxis": {
            "gridcolor": "white",
            "linecolor": "white",
            "ticks": ""
           },
           "bgcolor": "#E5ECF6",
           "caxis": {
            "gridcolor": "white",
            "linecolor": "white",
            "ticks": ""
           }
          },
          "title": {
           "x": 0.05
          },
          "xaxis": {
           "automargin": true,
           "gridcolor": "white",
           "linecolor": "white",
           "ticks": "",
           "title": {
            "standoff": 15
           },
           "zerolinecolor": "white",
           "zerolinewidth": 2
          },
          "yaxis": {
           "automargin": true,
           "gridcolor": "white",
           "linecolor": "white",
           "ticks": "",
           "title": {
            "standoff": 15
           },
           "zerolinecolor": "white",
           "zerolinewidth": 2
          }
         }
        },
        "title": {
         "font": {
          "color": "black",
          "family": "Arial",
          "size": 16,
          "weight": "bold"
         },
         "text": "Embodied Carbon Intensities Grouped by Design Phase",
         "x": 0.5,
         "xanchor": "center",
         "yanchor": "top"
        },
        "width": 800,
        "xaxis": {
         "anchor": "y",
         "categoryarray": [
          "Design Development",
          "Construction Documents",
          "Construction",
          "Completed"
         ],
         "categoryorder": "array",
         "domain": [
          0,
          1
         ],
         "showgrid": false,
         "title": {
          "text": "LCA Design Phase"
         }
        },
        "yaxis": {
         "anchor": "x",
         "domain": [
          0,
          1
         ],
         "gridcolor": "lightgrey",
         "showgrid": true,
         "title": {
          "text": "Normalized Embodied Carbon Intensity (CFA)"
         }
        }
       }
      }
     },
     "metadata": {},
     "output_type": "display_data"
    }
   ],
   "source": [
    "# Create a box and whisker plot for the \"eci_a_to_c_cfa\" field grouped by \"lca_design_phase\"\n",
    "fig5 = px.box(\n",
    "    filtered_bldgs_df4,\n",
    "    x='lca_design_phase',  # Group by LCA Design Phase\n",
    "    y='eci_a_to_c_cfa',  # Plot this field\n",
    "    title='Embodied Carbon Intensities Grouped by Design Phase',\n",
    "    labels={\n",
    "        'lca_design_phase': 'LCA Design Phase',\n",
    "        'eci_a_to_c_cfa': 'Normalized Embodied Carbon Intensity (CFA)'\n",
    "    },\n",
    "    category_orders={'lca_design_phase': lca_phase_order},  # Ensure correct order of design phases\n",
    "    hover_data=['bldg_prim_use']  # Include primary use in hover data\n",
    ")\n",
    "\n",
    "# Add all data points as dots with slight transparency and a different color\n",
    "fig5.update_traces(\n",
    "    boxpoints='all',\n",
    "    jitter=0.3,\n",
    "    pointpos=0,\n",
    "    marker=dict(color='rgba(28, 144, 153, 0.5)'),\n",
    "    fillcolor='rgb(236,226,240)',\n",
    "    line=dict(color='rgb(166,189,219)')\n",
    ")\n",
    "\n",
    "# Customize the layout\n",
    "fig5.update_layout(\n",
    "    title={\n",
    "        'text': 'Embodied Carbon Intensities Grouped by Design Phase',\n",
    "        'x': 0.5,  # Center the title\n",
    "        'xanchor': 'center',\n",
    "        'yanchor': 'top',\n",
    "        'font': {'size': 16, 'family': 'Arial', 'color': 'black', 'weight': 'bold'}  # Make the title bold\n",
    "    },\n",
    "    xaxis=dict(\n",
    "        title='LCA Design Phase',\n",
    "        showgrid=False\n",
    "    ),\n",
    "    yaxis=dict(\n",
    "        title='Normalized Embodied Carbon Intensity (CFA)',\n",
    "        showgrid=True,\n",
    "        gridcolor='lightgrey'\n",
    "    ),\n",
    "    plot_bgcolor='white',\n",
    "    paper_bgcolor='white',\n",
    "    height=600,\n",
    "    width=800\n",
    ")\n",
    "\n",
    "# Show the plot\n",
    "fig5.show()"
   ]
  },
  {
   "cell_type": "markdown",
   "metadata": {},
   "source": [
    "---"
   ]
  },
  {
   "cell_type": "markdown",
   "metadata": {},
   "source": [
    "### Comparing Results in Tally vs. One Click"
   ]
  },
  {
   "cell_type": "markdown",
   "metadata": {},
   "source": [
    "#### Bucketing the Data"
   ]
  },
  {
   "cell_type": "code",
   "execution_count": 149,
   "metadata": {},
   "outputs": [
    {
     "name": "stdout",
     "output_type": "stream",
     "text": [
      "lca_software\n",
      "Tally LCA        159\n",
      "One Click LCA     84\n",
      "Name: count, dtype: int64\n"
     ]
    }
   ],
   "source": [
    "# Remove any rows from the DataFrame where the bldg_stories_above field is NaN\n",
    "filtered_bldgs_df5 = buildings_metadata_df.copy()\n",
    "\n",
    "# Limit to New Construction\n",
    "filtered_bldgs_df5 = filtered_bldgs_df5[filtered_bldgs_df5['bldg_proj_type'] == 'New Construction']\n",
    "\n",
    "# Count the data points in each bucket\n",
    "software_counts = filtered_bldgs_df5['lca_software'].value_counts()\n",
    "print(software_counts)"
   ]
  },
  {
   "cell_type": "code",
   "execution_count": 150,
   "metadata": {},
   "outputs": [
    {
     "data": {
      "application/vnd.plotly.v1+json": {
       "config": {
        "plotlyServerURL": "https://plotly.com"
       },
       "data": [
        {
         "boxpoints": "all",
         "fillcolor": "rgb(236,226,240)",
         "jitter": 0.3,
         "line": {
          "color": "rgb(166,189,219)"
         },
         "marker": {
          "color": "rgba(28, 144, 153, 0.5)"
         },
         "name": "Embodied Carbon Intensity [kgCO2e/m²]",
         "orientation": "h",
         "pointpos": 0,
         "type": "box",
         "x": {
          "bdata": "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",
          "dtype": "f8"
         },
         "xaxis": "x",
         "y": [
          "Tally LCA",
          "One Click LCA",
          "Tally LCA",
          "Tally LCA",
          "Tally LCA",
          "One Click LCA",
          "Tally LCA",
          "One Click LCA",
          "Tally LCA",
          "Tally LCA",
          "Tally LCA",
          "One Click LCA",
          "Tally LCA",
          "One Click LCA",
          "One Click LCA",
          "One Click LCA",
          "Tally LCA",
          "Tally LCA",
          "Tally LCA",
          "One Click LCA",
          "Tally LCA",
          "Tally LCA",
          "Tally LCA",
          "Tally LCA",
          "Tally LCA",
          "Tally LCA",
          "Tally LCA",
          "Tally LCA",
          "Tally LCA",
          "One Click LCA",
          "One Click LCA",
          "Tally LCA",
          "One Click LCA",
          "Tally LCA",
          "One Click LCA",
          "Tally LCA",
          "One Click LCA",
          "Tally LCA",
          "One Click LCA",
          "One Click LCA",
          "Tally LCA",
          "Tally LCA",
          "One Click LCA",
          "Tally LCA",
          "Tally LCA",
          "Tally LCA",
          "One Click LCA",
          "Tally LCA",
          "Tally LCA",
          "Tally LCA",
          "Tally LCA",
          "Tally LCA",
          "One Click LCA",
          "Tally LCA",
          "One Click LCA",
          "One Click LCA",
          "One Click LCA",
          "One Click LCA",
          "One Click LCA",
          "One Click LCA",
          "Tally LCA",
          "One Click LCA",
          "One Click LCA",
          "One Click LCA",
          "One Click LCA",
          "One Click LCA",
          "One Click LCA",
          "One Click LCA",
          "One Click LCA",
          "One Click LCA",
          "Tally LCA",
          "Tally LCA",
          "Tally LCA",
          "Tally LCA",
          "Tally LCA",
          "Tally LCA",
          "Tally LCA",
          "Tally LCA",
          "Tally LCA",
          "Tally LCA",
          "Tally LCA",
          "Tally LCA",
          "Tally LCA",
          "Tally LCA",
          "Tally LCA",
          "Tally LCA",
          "Tally LCA",
          "Tally LCA",
          "Tally LCA",
          "One Click LCA",
          "Tally LCA",
          "Tally LCA",
          "Tally LCA",
          "Tally LCA",
          "Tally LCA",
          "One Click LCA",
          "One Click LCA",
          "Tally LCA",
          "One Click LCA",
          "One Click LCA",
          "Tally LCA",
          "Tally LCA",
          "One Click LCA",
          "Tally LCA",
          "Tally LCA",
          "Tally LCA",
          "Tally LCA",
          "Tally LCA",
          "Tally LCA",
          "One Click LCA",
          "One Click LCA",
          "Tally LCA",
          "Tally LCA",
          "One Click LCA",
          "One Click LCA",
          "One Click LCA",
          "One Click LCA",
          "One Click LCA",
          "One Click LCA",
          "Tally LCA",
          "Tally LCA",
          "Tally LCA",
          "Tally LCA",
          "Tally LCA",
          "Tally LCA",
          "Tally LCA",
          "Tally LCA",
          "Tally LCA",
          "Tally LCA",
          "Tally LCA",
          "Tally LCA",
          "One Click LCA",
          "Tally LCA",
          "Tally LCA",
          "Tally LCA",
          "Tally LCA",
          "Tally LCA",
          "Tally LCA",
          "Tally LCA",
          "Tally LCA",
          "Tally LCA",
          "Tally LCA",
          "Tally LCA",
          "Tally LCA",
          "Tally LCA",
          "Tally LCA",
          "Tally LCA",
          "Tally LCA",
          "Tally LCA",
          "Tally LCA",
          "Tally LCA",
          "Tally LCA",
          "Tally LCA",
          "Tally LCA",
          "Tally LCA",
          "Tally LCA",
          "Tally LCA",
          "Tally LCA",
          "Tally LCA",
          "Tally LCA",
          "Tally LCA",
          "Tally LCA",
          "Tally LCA",
          "Tally LCA",
          "Tally LCA",
          "Tally LCA",
          "Tally LCA",
          "Tally LCA",
          "Tally LCA",
          "Tally LCA",
          "Tally LCA",
          "Tally LCA",
          "One Click LCA",
          "One Click LCA",
          "Tally LCA",
          "Tally LCA",
          "Tally LCA",
          "Tally LCA",
          "Tally LCA",
          "One Click LCA",
          "One Click LCA",
          "One Click LCA",
          "Tally LCA",
          "Tally LCA",
          "Tally LCA",
          "Tally LCA",
          "One Click LCA",
          "Tally LCA",
          "Tally LCA",
          "Tally LCA",
          "Tally LCA",
          "One Click LCA",
          "One Click LCA",
          "One Click LCA",
          "Tally LCA",
          "One Click LCA",
          "One Click LCA",
          "One Click LCA",
          "Tally LCA",
          "Tally LCA",
          "Tally LCA",
          "One Click LCA",
          "One Click LCA",
          "One Click LCA",
          "Tally LCA",
          "One Click LCA",
          "Tally LCA",
          "One Click LCA",
          "One Click LCA",
          "One Click LCA",
          "One Click LCA",
          "One Click LCA",
          "One Click LCA",
          "One Click LCA",
          "One Click LCA",
          "Tally LCA",
          "Tally LCA",
          "Tally LCA",
          "Tally LCA",
          "Tally LCA",
          "Tally LCA",
          "Tally LCA",
          "One Click LCA",
          "Tally LCA",
          "One Click LCA",
          "One Click LCA",
          "One Click LCA",
          "One Click LCA",
          "Tally LCA",
          "Tally LCA",
          "Tally LCA",
          "One Click LCA",
          "One Click LCA",
          "Tally LCA",
          "One Click LCA",
          "One Click LCA",
          "Tally LCA",
          "One Click LCA",
          "Tally LCA",
          "Tally LCA",
          "One Click LCA",
          "One Click LCA",
          "Tally LCA"
         ],
         "yaxis": "y"
        },
        {
         "boxpoints": "all",
         "fillcolor": "rgb(236,226,240)",
         "jitter": 0.3,
         "line": {
          "color": "rgb(166,189,219)"
         },
         "marker": {
          "color": "rgba(28, 144, 153, 0.5)"
         },
         "name": "Eutrophication Potential Intensity [kgNe/m²]",
         "orientation": "h",
         "pointpos": 0,
         "type": "box",
         "x": {
          "bdata": "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",
          "dtype": "f8"
         },
         "xaxis": "x2",
         "y": [
          "Tally LCA",
          "One Click LCA",
          "Tally LCA",
          "Tally LCA",
          "Tally LCA",
          "One Click LCA",
          "Tally LCA",
          "One Click LCA",
          "Tally LCA",
          "Tally LCA",
          "Tally LCA",
          "One Click LCA",
          "Tally LCA",
          "One Click LCA",
          "One Click LCA",
          "One Click LCA",
          "Tally LCA",
          "Tally LCA",
          "Tally LCA",
          "One Click LCA",
          "Tally LCA",
          "Tally LCA",
          "Tally LCA",
          "Tally LCA",
          "Tally LCA",
          "Tally LCA",
          "Tally LCA",
          "Tally LCA",
          "Tally LCA",
          "One Click LCA",
          "One Click LCA",
          "Tally LCA",
          "One Click LCA",
          "Tally LCA",
          "One Click LCA",
          "Tally LCA",
          "One Click LCA",
          "Tally LCA",
          "One Click LCA",
          "One Click LCA",
          "Tally LCA",
          "Tally LCA",
          "One Click LCA",
          "Tally LCA",
          "Tally LCA",
          "Tally LCA",
          "One Click LCA",
          "Tally LCA",
          "Tally LCA",
          "Tally LCA",
          "Tally LCA",
          "Tally LCA",
          "One Click LCA",
          "Tally LCA",
          "One Click LCA",
          "One Click LCA",
          "One Click LCA",
          "One Click LCA",
          "One Click LCA",
          "One Click LCA",
          "Tally LCA",
          "One Click LCA",
          "One Click LCA",
          "One Click LCA",
          "One Click LCA",
          "One Click LCA",
          "One Click LCA",
          "One Click LCA",
          "One Click LCA",
          "One Click LCA",
          "Tally LCA",
          "Tally LCA",
          "Tally LCA",
          "Tally LCA",
          "Tally LCA",
          "Tally LCA",
          "Tally LCA",
          "Tally LCA",
          "Tally LCA",
          "Tally LCA",
          "Tally LCA",
          "Tally LCA",
          "Tally LCA",
          "Tally LCA",
          "Tally LCA",
          "Tally LCA",
          "Tally LCA",
          "Tally LCA",
          "Tally LCA",
          "One Click LCA",
          "Tally LCA",
          "Tally LCA",
          "Tally LCA",
          "Tally LCA",
          "Tally LCA",
          "One Click LCA",
          "One Click LCA",
          "Tally LCA",
          "One Click LCA",
          "One Click LCA",
          "Tally LCA",
          "Tally LCA",
          "One Click LCA",
          "Tally LCA",
          "Tally LCA",
          "Tally LCA",
          "Tally LCA",
          "Tally LCA",
          "Tally LCA",
          "One Click LCA",
          "One Click LCA",
          "Tally LCA",
          "Tally LCA",
          "One Click LCA",
          "One Click LCA",
          "One Click LCA",
          "One Click LCA",
          "One Click LCA",
          "One Click LCA",
          "Tally LCA",
          "Tally LCA",
          "Tally LCA",
          "Tally LCA",
          "Tally LCA",
          "Tally LCA",
          "Tally LCA",
          "Tally LCA",
          "Tally LCA",
          "Tally LCA",
          "Tally LCA",
          "Tally LCA",
          "One Click LCA",
          "Tally LCA",
          "Tally LCA",
          "Tally LCA",
          "Tally LCA",
          "Tally LCA",
          "Tally LCA",
          "Tally LCA",
          "Tally LCA",
          "Tally LCA",
          "Tally LCA",
          "Tally LCA",
          "Tally LCA",
          "Tally LCA",
          "Tally LCA",
          "Tally LCA",
          "Tally LCA",
          "Tally LCA",
          "Tally LCA",
          "Tally LCA",
          "Tally LCA",
          "Tally LCA",
          "Tally LCA",
          "Tally LCA",
          "Tally LCA",
          "Tally LCA",
          "Tally LCA",
          "Tally LCA",
          "Tally LCA",
          "Tally LCA",
          "Tally LCA",
          "Tally LCA",
          "Tally LCA",
          "Tally LCA",
          "Tally LCA",
          "Tally LCA",
          "Tally LCA",
          "Tally LCA",
          "Tally LCA",
          "Tally LCA",
          "Tally LCA",
          "One Click LCA",
          "One Click LCA",
          "Tally LCA",
          "Tally LCA",
          "Tally LCA",
          "Tally LCA",
          "Tally LCA",
          "One Click LCA",
          "One Click LCA",
          "One Click LCA",
          "Tally LCA",
          "Tally LCA",
          "Tally LCA",
          "Tally LCA",
          "One Click LCA",
          "Tally LCA",
          "Tally LCA",
          "Tally LCA",
          "Tally LCA",
          "One Click LCA",
          "One Click LCA",
          "One Click LCA",
          "Tally LCA",
          "One Click LCA",
          "One Click LCA",
          "One Click LCA",
          "Tally LCA",
          "Tally LCA",
          "Tally LCA",
          "One Click LCA",
          "One Click LCA",
          "One Click LCA",
          "Tally LCA",
          "One Click LCA",
          "Tally LCA",
          "One Click LCA",
          "One Click LCA",
          "One Click LCA",
          "One Click LCA",
          "One Click LCA",
          "One Click LCA",
          "One Click LCA",
          "One Click LCA",
          "Tally LCA",
          "Tally LCA",
          "Tally LCA",
          "Tally LCA",
          "Tally LCA",
          "Tally LCA",
          "Tally LCA",
          "One Click LCA",
          "Tally LCA",
          "One Click LCA",
          "One Click LCA",
          "One Click LCA",
          "One Click LCA",
          "Tally LCA",
          "Tally LCA",
          "Tally LCA",
          "One Click LCA",
          "One Click LCA",
          "Tally LCA",
          "One Click LCA",
          "One Click LCA",
          "Tally LCA",
          "One Click LCA",
          "Tally LCA",
          "Tally LCA",
          "One Click LCA",
          "One Click LCA",
          "Tally LCA"
         ],
         "yaxis": "y2"
        },
        {
         "boxpoints": "all",
         "fillcolor": "rgb(236,226,240)",
         "jitter": 0.3,
         "line": {
          "color": "rgb(166,189,219)"
         },
         "marker": {
          "color": "rgba(28, 144, 153, 0.5)"
         },
         "name": "Acidification Potential Intensity [kgSO2e/m²]",
         "orientation": "h",
         "pointpos": 0,
         "type": "box",
         "x": {
          "bdata": "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",
          "dtype": "f8"
         },
         "xaxis": "x3",
         "y": [
          "Tally LCA",
          "One Click LCA",
          "Tally LCA",
          "Tally LCA",
          "Tally LCA",
          "One Click LCA",
          "Tally LCA",
          "One Click LCA",
          "Tally LCA",
          "Tally LCA",
          "Tally LCA",
          "One Click LCA",
          "Tally LCA",
          "One Click LCA",
          "One Click LCA",
          "One Click LCA",
          "Tally LCA",
          "Tally LCA",
          "Tally LCA",
          "One Click LCA",
          "Tally LCA",
          "Tally LCA",
          "Tally LCA",
          "Tally LCA",
          "Tally LCA",
          "Tally LCA",
          "Tally LCA",
          "Tally LCA",
          "Tally LCA",
          "One Click LCA",
          "One Click LCA",
          "Tally LCA",
          "One Click LCA",
          "Tally LCA",
          "One Click LCA",
          "Tally LCA",
          "One Click LCA",
          "Tally LCA",
          "One Click LCA",
          "One Click LCA",
          "Tally LCA",
          "Tally LCA",
          "One Click LCA",
          "Tally LCA",
          "Tally LCA",
          "Tally LCA",
          "One Click LCA",
          "Tally LCA",
          "Tally LCA",
          "Tally LCA",
          "Tally LCA",
          "Tally LCA",
          "One Click LCA",
          "Tally LCA",
          "One Click LCA",
          "One Click LCA",
          "One Click LCA",
          "One Click LCA",
          "One Click LCA",
          "One Click LCA",
          "Tally LCA",
          "One Click LCA",
          "One Click LCA",
          "One Click LCA",
          "One Click LCA",
          "One Click LCA",
          "One Click LCA",
          "One Click LCA",
          "One Click LCA",
          "One Click LCA",
          "Tally LCA",
          "Tally LCA",
          "Tally LCA",
          "Tally LCA",
          "Tally LCA",
          "Tally LCA",
          "Tally LCA",
          "Tally LCA",
          "Tally LCA",
          "Tally LCA",
          "Tally LCA",
          "Tally LCA",
          "Tally LCA",
          "Tally LCA",
          "Tally LCA",
          "Tally LCA",
          "Tally LCA",
          "Tally LCA",
          "Tally LCA",
          "One Click LCA",
          "Tally LCA",
          "Tally LCA",
          "Tally LCA",
          "Tally LCA",
          "Tally LCA",
          "One Click LCA",
          "One Click LCA",
          "Tally LCA",
          "One Click LCA",
          "One Click LCA",
          "Tally LCA",
          "Tally LCA",
          "One Click LCA",
          "Tally LCA",
          "Tally LCA",
          "Tally LCA",
          "Tally LCA",
          "Tally LCA",
          "Tally LCA",
          "One Click LCA",
          "One Click LCA",
          "Tally LCA",
          "Tally LCA",
          "One Click LCA",
          "One Click LCA",
          "One Click LCA",
          "One Click LCA",
          "One Click LCA",
          "One Click LCA",
          "Tally LCA",
          "Tally LCA",
          "Tally LCA",
          "Tally LCA",
          "Tally LCA",
          "Tally LCA",
          "Tally LCA",
          "Tally LCA",
          "Tally LCA",
          "Tally LCA",
          "Tally LCA",
          "Tally LCA",
          "One Click LCA",
          "Tally LCA",
          "Tally LCA",
          "Tally LCA",
          "Tally LCA",
          "Tally LCA",
          "Tally LCA",
          "Tally LCA",
          "Tally LCA",
          "Tally LCA",
          "Tally LCA",
          "Tally LCA",
          "Tally LCA",
          "Tally LCA",
          "Tally LCA",
          "Tally LCA",
          "Tally LCA",
          "Tally LCA",
          "Tally LCA",
          "Tally LCA",
          "Tally LCA",
          "Tally LCA",
          "Tally LCA",
          "Tally LCA",
          "Tally LCA",
          "Tally LCA",
          "Tally LCA",
          "Tally LCA",
          "Tally LCA",
          "Tally LCA",
          "Tally LCA",
          "Tally LCA",
          "Tally LCA",
          "Tally LCA",
          "Tally LCA",
          "Tally LCA",
          "Tally LCA",
          "Tally LCA",
          "Tally LCA",
          "Tally LCA",
          "Tally LCA",
          "One Click LCA",
          "One Click LCA",
          "Tally LCA",
          "Tally LCA",
          "Tally LCA",
          "Tally LCA",
          "Tally LCA",
          "One Click LCA",
          "One Click LCA",
          "One Click LCA",
          "Tally LCA",
          "Tally LCA",
          "Tally LCA",
          "Tally LCA",
          "One Click LCA",
          "Tally LCA",
          "Tally LCA",
          "Tally LCA",
          "Tally LCA",
          "One Click LCA",
          "One Click LCA",
          "One Click LCA",
          "Tally LCA",
          "One Click LCA",
          "One Click LCA",
          "One Click LCA",
          "Tally LCA",
          "Tally LCA",
          "Tally LCA",
          "One Click LCA",
          "One Click LCA",
          "One Click LCA",
          "Tally LCA",
          "One Click LCA",
          "Tally LCA",
          "One Click LCA",
          "One Click LCA",
          "One Click LCA",
          "One Click LCA",
          "One Click LCA",
          "One Click LCA",
          "One Click LCA",
          "One Click LCA",
          "Tally LCA",
          "Tally LCA",
          "Tally LCA",
          "Tally LCA",
          "Tally LCA",
          "Tally LCA",
          "Tally LCA",
          "One Click LCA",
          "Tally LCA",
          "One Click LCA",
          "One Click LCA",
          "One Click LCA",
          "One Click LCA",
          "Tally LCA",
          "Tally LCA",
          "Tally LCA",
          "One Click LCA",
          "One Click LCA",
          "Tally LCA",
          "One Click LCA",
          "One Click LCA",
          "Tally LCA",
          "One Click LCA",
          "Tally LCA",
          "Tally LCA",
          "One Click LCA",
          "One Click LCA",
          "Tally LCA"
         ],
         "yaxis": "y3"
        },
        {
         "boxpoints": "all",
         "fillcolor": "rgb(236,226,240)",
         "jitter": 0.3,
         "line": {
          "color": "rgb(166,189,219)"
         },
         "marker": {
          "color": "rgba(28, 144, 153, 0.5)"
         },
         "name": "Smog Formation Potential Intensity [kgO3/m²]",
         "orientation": "h",
         "pointpos": 0,
         "type": "box",
         "x": {
          "bdata": "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",
          "dtype": "f8"
         },
         "xaxis": "x4",
         "y": [
          "Tally LCA",
          "One Click LCA",
          "Tally LCA",
          "Tally LCA",
          "Tally LCA",
          "One Click LCA",
          "Tally LCA",
          "One Click LCA",
          "Tally LCA",
          "Tally LCA",
          "Tally LCA",
          "One Click LCA",
          "Tally LCA",
          "One Click LCA",
          "One Click LCA",
          "One Click LCA",
          "Tally LCA",
          "Tally LCA",
          "Tally LCA",
          "One Click LCA",
          "Tally LCA",
          "Tally LCA",
          "Tally LCA",
          "Tally LCA",
          "Tally LCA",
          "Tally LCA",
          "Tally LCA",
          "Tally LCA",
          "Tally LCA",
          "One Click LCA",
          "One Click LCA",
          "Tally LCA",
          "One Click LCA",
          "Tally LCA",
          "One Click LCA",
          "Tally LCA",
          "One Click LCA",
          "Tally LCA",
          "One Click LCA",
          "One Click LCA",
          "Tally LCA",
          "Tally LCA",
          "One Click LCA",
          "Tally LCA",
          "Tally LCA",
          "Tally LCA",
          "One Click LCA",
          "Tally LCA",
          "Tally LCA",
          "Tally LCA",
          "Tally LCA",
          "Tally LCA",
          "One Click LCA",
          "Tally LCA",
          "One Click LCA",
          "One Click LCA",
          "One Click LCA",
          "One Click LCA",
          "One Click LCA",
          "One Click LCA",
          "Tally LCA",
          "One Click LCA",
          "One Click LCA",
          "One Click LCA",
          "One Click LCA",
          "One Click LCA",
          "One Click LCA",
          "One Click LCA",
          "One Click LCA",
          "One Click LCA",
          "Tally LCA",
          "Tally LCA",
          "Tally LCA",
          "Tally LCA",
          "Tally LCA",
          "Tally LCA",
          "Tally LCA",
          "Tally LCA",
          "Tally LCA",
          "Tally LCA",
          "Tally LCA",
          "Tally LCA",
          "Tally LCA",
          "Tally LCA",
          "Tally LCA",
          "Tally LCA",
          "Tally LCA",
          "Tally LCA",
          "Tally LCA",
          "One Click LCA",
          "Tally LCA",
          "Tally LCA",
          "Tally LCA",
          "Tally LCA",
          "Tally LCA",
          "One Click LCA",
          "One Click LCA",
          "Tally LCA",
          "One Click LCA",
          "One Click LCA",
          "Tally LCA",
          "Tally LCA",
          "One Click LCA",
          "Tally LCA",
          "Tally LCA",
          "Tally LCA",
          "Tally LCA",
          "Tally LCA",
          "Tally LCA",
          "One Click LCA",
          "One Click LCA",
          "Tally LCA",
          "Tally LCA",
          "One Click LCA",
          "One Click LCA",
          "One Click LCA",
          "One Click LCA",
          "One Click LCA",
          "One Click LCA",
          "Tally LCA",
          "Tally LCA",
          "Tally LCA",
          "Tally LCA",
          "Tally LCA",
          "Tally LCA",
          "Tally LCA",
          "Tally LCA",
          "Tally LCA",
          "Tally LCA",
          "Tally LCA",
          "Tally LCA",
          "One Click LCA",
          "Tally LCA",
          "Tally LCA",
          "Tally LCA",
          "Tally LCA",
          "Tally LCA",
          "Tally LCA",
          "Tally LCA",
          "Tally LCA",
          "Tally LCA",
          "Tally LCA",
          "Tally LCA",
          "Tally LCA",
          "Tally LCA",
          "Tally LCA",
          "Tally LCA",
          "Tally LCA",
          "Tally LCA",
          "Tally LCA",
          "Tally LCA",
          "Tally LCA",
          "Tally LCA",
          "Tally LCA",
          "Tally LCA",
          "Tally LCA",
          "Tally LCA",
          "Tally LCA",
          "Tally LCA",
          "Tally LCA",
          "Tally LCA",
          "Tally LCA",
          "Tally LCA",
          "Tally LCA",
          "Tally LCA",
          "Tally LCA",
          "Tally LCA",
          "Tally LCA",
          "Tally LCA",
          "Tally LCA",
          "Tally LCA",
          "Tally LCA",
          "One Click LCA",
          "One Click LCA",
          "Tally LCA",
          "Tally LCA",
          "Tally LCA",
          "Tally LCA",
          "Tally LCA",
          "One Click LCA",
          "One Click LCA",
          "One Click LCA",
          "Tally LCA",
          "Tally LCA",
          "Tally LCA",
          "Tally LCA",
          "One Click LCA",
          "Tally LCA",
          "Tally LCA",
          "Tally LCA",
          "Tally LCA",
          "One Click LCA",
          "One Click LCA",
          "One Click LCA",
          "Tally LCA",
          "One Click LCA",
          "One Click LCA",
          "One Click LCA",
          "Tally LCA",
          "Tally LCA",
          "Tally LCA",
          "One Click LCA",
          "One Click LCA",
          "One Click LCA",
          "Tally LCA",
          "One Click LCA",
          "Tally LCA",
          "One Click LCA",
          "One Click LCA",
          "One Click LCA",
          "One Click LCA",
          "One Click LCA",
          "One Click LCA",
          "One Click LCA",
          "One Click LCA",
          "Tally LCA",
          "Tally LCA",
          "Tally LCA",
          "Tally LCA",
          "Tally LCA",
          "Tally LCA",
          "Tally LCA",
          "One Click LCA",
          "Tally LCA",
          "One Click LCA",
          "One Click LCA",
          "One Click LCA",
          "One Click LCA",
          "Tally LCA",
          "Tally LCA",
          "Tally LCA",
          "One Click LCA",
          "One Click LCA",
          "Tally LCA",
          "One Click LCA",
          "One Click LCA",
          "Tally LCA",
          "One Click LCA",
          "Tally LCA",
          "Tally LCA",
          "One Click LCA",
          "One Click LCA",
          "Tally LCA"
         ],
         "yaxis": "y4"
        },
        {
         "boxpoints": "all",
         "fillcolor": "rgb(236,226,240)",
         "jitter": 0.3,
         "line": {
          "color": "rgb(166,189,219)"
         },
         "marker": {
          "color": "rgba(28, 144, 153, 0.5)"
         },
         "name": "Ozone Depletion Potential Intensity [kgCFC11e/m²]",
         "orientation": "h",
         "pointpos": 0,
         "type": "box",
         "x": {
          "bdata": "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",
          "dtype": "f8"
         },
         "xaxis": "x5",
         "y": [
          "Tally LCA",
          "One Click LCA",
          "Tally LCA",
          "Tally LCA",
          "Tally LCA",
          "One Click LCA",
          "Tally LCA",
          "One Click LCA",
          "Tally LCA",
          "Tally LCA",
          "Tally LCA",
          "One Click LCA",
          "Tally LCA",
          "One Click LCA",
          "One Click LCA",
          "One Click LCA",
          "Tally LCA",
          "Tally LCA",
          "Tally LCA",
          "One Click LCA",
          "Tally LCA",
          "Tally LCA",
          "Tally LCA",
          "Tally LCA",
          "Tally LCA",
          "Tally LCA",
          "Tally LCA",
          "Tally LCA",
          "Tally LCA",
          "One Click LCA",
          "One Click LCA",
          "Tally LCA",
          "One Click LCA",
          "Tally LCA",
          "One Click LCA",
          "Tally LCA",
          "One Click LCA",
          "Tally LCA",
          "One Click LCA",
          "One Click LCA",
          "Tally LCA",
          "Tally LCA",
          "One Click LCA",
          "Tally LCA",
          "Tally LCA",
          "Tally LCA",
          "One Click LCA",
          "Tally LCA",
          "Tally LCA",
          "Tally LCA",
          "Tally LCA",
          "Tally LCA",
          "One Click LCA",
          "Tally LCA",
          "One Click LCA",
          "One Click LCA",
          "One Click LCA",
          "One Click LCA",
          "One Click LCA",
          "One Click LCA",
          "Tally LCA",
          "One Click LCA",
          "One Click LCA",
          "One Click LCA",
          "One Click LCA",
          "One Click LCA",
          "One Click LCA",
          "One Click LCA",
          "One Click LCA",
          "One Click LCA",
          "Tally LCA",
          "Tally LCA",
          "Tally LCA",
          "Tally LCA",
          "Tally LCA",
          "Tally LCA",
          "Tally LCA",
          "Tally LCA",
          "Tally LCA",
          "Tally LCA",
          "Tally LCA",
          "Tally LCA",
          "Tally LCA",
          "Tally LCA",
          "Tally LCA",
          "Tally LCA",
          "Tally LCA",
          "Tally LCA",
          "Tally LCA",
          "One Click LCA",
          "Tally LCA",
          "Tally LCA",
          "Tally LCA",
          "Tally LCA",
          "Tally LCA",
          "One Click LCA",
          "One Click LCA",
          "Tally LCA",
          "One Click LCA",
          "One Click LCA",
          "Tally LCA",
          "Tally LCA",
          "One Click LCA",
          "Tally LCA",
          "Tally LCA",
          "Tally LCA",
          "Tally LCA",
          "Tally LCA",
          "Tally LCA",
          "One Click LCA",
          "One Click LCA",
          "Tally LCA",
          "Tally LCA",
          "One Click LCA",
          "One Click LCA",
          "One Click LCA",
          "One Click LCA",
          "One Click LCA",
          "One Click LCA",
          "Tally LCA",
          "Tally LCA",
          "Tally LCA",
          "Tally LCA",
          "Tally LCA",
          "Tally LCA",
          "Tally LCA",
          "Tally LCA",
          "Tally LCA",
          "Tally LCA",
          "Tally LCA",
          "Tally LCA",
          "One Click LCA",
          "Tally LCA",
          "Tally LCA",
          "Tally LCA",
          "Tally LCA",
          "Tally LCA",
          "Tally LCA",
          "Tally LCA",
          "Tally LCA",
          "Tally LCA",
          "Tally LCA",
          "Tally LCA",
          "Tally LCA",
          "Tally LCA",
          "Tally LCA",
          "Tally LCA",
          "Tally LCA",
          "Tally LCA",
          "Tally LCA",
          "Tally LCA",
          "Tally LCA",
          "Tally LCA",
          "Tally LCA",
          "Tally LCA",
          "Tally LCA",
          "Tally LCA",
          "Tally LCA",
          "Tally LCA",
          "Tally LCA",
          "Tally LCA",
          "Tally LCA",
          "Tally LCA",
          "Tally LCA",
          "Tally LCA",
          "Tally LCA",
          "Tally LCA",
          "Tally LCA",
          "Tally LCA",
          "Tally LCA",
          "Tally LCA",
          "Tally LCA",
          "One Click LCA",
          "One Click LCA",
          "Tally LCA",
          "Tally LCA",
          "Tally LCA",
          "Tally LCA",
          "Tally LCA",
          "One Click LCA",
          "One Click LCA",
          "One Click LCA",
          "Tally LCA",
          "Tally LCA",
          "Tally LCA",
          "Tally LCA",
          "One Click LCA",
          "Tally LCA",
          "Tally LCA",
          "Tally LCA",
          "Tally LCA",
          "One Click LCA",
          "One Click LCA",
          "One Click LCA",
          "Tally LCA",
          "One Click LCA",
          "One Click LCA",
          "One Click LCA",
          "Tally LCA",
          "Tally LCA",
          "Tally LCA",
          "One Click LCA",
          "One Click LCA",
          "One Click LCA",
          "Tally LCA",
          "One Click LCA",
          "Tally LCA",
          "One Click LCA",
          "One Click LCA",
          "One Click LCA",
          "One Click LCA",
          "One Click LCA",
          "One Click LCA",
          "One Click LCA",
          "One Click LCA",
          "Tally LCA",
          "Tally LCA",
          "Tally LCA",
          "Tally LCA",
          "Tally LCA",
          "Tally LCA",
          "Tally LCA",
          "One Click LCA",
          "Tally LCA",
          "One Click LCA",
          "One Click LCA",
          "One Click LCA",
          "One Click LCA",
          "Tally LCA",
          "Tally LCA",
          "Tally LCA",
          "One Click LCA",
          "One Click LCA",
          "Tally LCA",
          "One Click LCA",
          "One Click LCA",
          "Tally LCA",
          "One Click LCA",
          "Tally LCA",
          "Tally LCA",
          "One Click LCA",
          "One Click LCA",
          "Tally LCA"
         ],
         "yaxis": "y5"
        },
        {
         "boxpoints": "all",
         "fillcolor": "rgb(236,226,240)",
         "jitter": 0.3,
         "line": {
          "color": "rgb(166,189,219)"
         },
         "marker": {
          "color": "rgba(28, 144, 153, 0.5)"
         },
         "name": "Non-renewable Energy Demand Intensity [MJ/m²]",
         "orientation": "h",
         "pointpos": 0,
         "type": "box",
         "x": {
          "bdata": "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",
          "dtype": "f8"
         },
         "xaxis": "x6",
         "y": [
          "Tally LCA",
          "One Click LCA",
          "Tally LCA",
          "Tally LCA",
          "Tally LCA",
          "One Click LCA",
          "Tally LCA",
          "One Click LCA",
          "Tally LCA",
          "Tally LCA",
          "Tally LCA",
          "One Click LCA",
          "Tally LCA",
          "One Click LCA",
          "One Click LCA",
          "One Click LCA",
          "Tally LCA",
          "Tally LCA",
          "Tally LCA",
          "One Click LCA",
          "Tally LCA",
          "Tally LCA",
          "Tally LCA",
          "Tally LCA",
          "Tally LCA",
          "Tally LCA",
          "Tally LCA",
          "Tally LCA",
          "Tally LCA",
          "One Click LCA",
          "One Click LCA",
          "Tally LCA",
          "One Click LCA",
          "Tally LCA",
          "One Click LCA",
          "Tally LCA",
          "One Click LCA",
          "Tally LCA",
          "One Click LCA",
          "One Click LCA",
          "Tally LCA",
          "Tally LCA",
          "One Click LCA",
          "Tally LCA",
          "Tally LCA",
          "Tally LCA",
          "One Click LCA",
          "Tally LCA",
          "Tally LCA",
          "Tally LCA",
          "Tally LCA",
          "Tally LCA",
          "One Click LCA",
          "Tally LCA",
          "One Click LCA",
          "One Click LCA",
          "One Click LCA",
          "One Click LCA",
          "One Click LCA",
          "One Click LCA",
          "Tally LCA",
          "One Click LCA",
          "One Click LCA",
          "One Click LCA",
          "One Click LCA",
          "One Click LCA",
          "One Click LCA",
          "One Click LCA",
          "One Click LCA",
          "One Click LCA",
          "Tally LCA",
          "Tally LCA",
          "Tally LCA",
          "Tally LCA",
          "Tally LCA",
          "Tally LCA",
          "Tally LCA",
          "Tally LCA",
          "Tally LCA",
          "Tally LCA",
          "Tally LCA",
          "Tally LCA",
          "Tally LCA",
          "Tally LCA",
          "Tally LCA",
          "Tally LCA",
          "Tally LCA",
          "Tally LCA",
          "Tally LCA",
          "One Click LCA",
          "Tally LCA",
          "Tally LCA",
          "Tally LCA",
          "Tally LCA",
          "Tally LCA",
          "One Click LCA",
          "One Click LCA",
          "Tally LCA",
          "One Click LCA",
          "One Click LCA",
          "Tally LCA",
          "Tally LCA",
          "One Click LCA",
          "Tally LCA",
          "Tally LCA",
          "Tally LCA",
          "Tally LCA",
          "Tally LCA",
          "Tally LCA",
          "One Click LCA",
          "One Click LCA",
          "Tally LCA",
          "Tally LCA",
          "One Click LCA",
          "One Click LCA",
          "One Click LCA",
          "One Click LCA",
          "One Click LCA",
          "One Click LCA",
          "Tally LCA",
          "Tally LCA",
          "Tally LCA",
          "Tally LCA",
          "Tally LCA",
          "Tally LCA",
          "Tally LCA",
          "Tally LCA",
          "Tally LCA",
          "Tally LCA",
          "Tally LCA",
          "Tally LCA",
          "One Click LCA",
          "Tally LCA",
          "Tally LCA",
          "Tally LCA",
          "Tally LCA",
          "Tally LCA",
          "Tally LCA",
          "Tally LCA",
          "Tally LCA",
          "Tally LCA",
          "Tally LCA",
          "Tally LCA",
          "Tally LCA",
          "Tally LCA",
          "Tally LCA",
          "Tally LCA",
          "Tally LCA",
          "Tally LCA",
          "Tally LCA",
          "Tally LCA",
          "Tally LCA",
          "Tally LCA",
          "Tally LCA",
          "Tally LCA",
          "Tally LCA",
          "Tally LCA",
          "Tally LCA",
          "Tally LCA",
          "Tally LCA",
          "Tally LCA",
          "Tally LCA",
          "Tally LCA",
          "Tally LCA",
          "Tally LCA",
          "Tally LCA",
          "Tally LCA",
          "Tally LCA",
          "Tally LCA",
          "Tally LCA",
          "Tally LCA",
          "Tally LCA",
          "One Click LCA",
          "One Click LCA",
          "Tally LCA",
          "Tally LCA",
          "Tally LCA",
          "Tally LCA",
          "Tally LCA",
          "One Click LCA",
          "One Click LCA",
          "One Click LCA",
          "Tally LCA",
          "Tally LCA",
          "Tally LCA",
          "Tally LCA",
          "One Click LCA",
          "Tally LCA",
          "Tally LCA",
          "Tally LCA",
          "Tally LCA",
          "One Click LCA",
          "One Click LCA",
          "One Click LCA",
          "Tally LCA",
          "One Click LCA",
          "One Click LCA",
          "One Click LCA",
          "Tally LCA",
          "Tally LCA",
          "Tally LCA",
          "One Click LCA",
          "One Click LCA",
          "One Click LCA",
          "Tally LCA",
          "One Click LCA",
          "Tally LCA",
          "One Click LCA",
          "One Click LCA",
          "One Click LCA",
          "One Click LCA",
          "One Click LCA",
          "One Click LCA",
          "One Click LCA",
          "One Click LCA",
          "Tally LCA",
          "Tally LCA",
          "Tally LCA",
          "Tally LCA",
          "Tally LCA",
          "Tally LCA",
          "Tally LCA",
          "One Click LCA",
          "Tally LCA",
          "One Click LCA",
          "One Click LCA",
          "One Click LCA",
          "One Click LCA",
          "Tally LCA",
          "Tally LCA",
          "Tally LCA",
          "One Click LCA",
          "One Click LCA",
          "Tally LCA",
          "One Click LCA",
          "One Click LCA",
          "Tally LCA",
          "One Click LCA",
          "Tally LCA",
          "Tally LCA",
          "One Click LCA",
          "One Click LCA",
          "Tally LCA"
         ],
         "yaxis": "y6"
        }
       ],
       "layout": {
        "height": 1500,
        "paper_bgcolor": "white",
        "plot_bgcolor": "white",
        "showlegend": false,
        "template": {
         "data": {
          "bar": [
           {
            "error_x": {
             "color": "#2a3f5f"
            },
            "error_y": {
             "color": "#2a3f5f"
            },
            "marker": {
             "line": {
              "color": "#E5ECF6",
              "width": 0.5
             },
             "pattern": {
              "fillmode": "overlay",
              "size": 10,
              "solidity": 0.2
             }
            },
            "type": "bar"
           }
          ],
          "barpolar": [
           {
            "marker": {
             "line": {
              "color": "#E5ECF6",
              "width": 0.5
             },
             "pattern": {
              "fillmode": "overlay",
              "size": 10,
              "solidity": 0.2
             }
            },
            "type": "barpolar"
           }
          ],
          "carpet": [
           {
            "aaxis": {
             "endlinecolor": "#2a3f5f",
             "gridcolor": "white",
             "linecolor": "white",
             "minorgridcolor": "white",
             "startlinecolor": "#2a3f5f"
            },
            "baxis": {
             "endlinecolor": "#2a3f5f",
             "gridcolor": "white",
             "linecolor": "white",
             "minorgridcolor": "white",
             "startlinecolor": "#2a3f5f"
            },
            "type": "carpet"
           }
          ],
          "choropleth": [
           {
            "colorbar": {
             "outlinewidth": 0,
             "ticks": ""
            },
            "type": "choropleth"
           }
          ],
          "contour": [
           {
            "colorbar": {
             "outlinewidth": 0,
             "ticks": ""
            },
            "colorscale": [
             [
              0,
              "#0d0887"
             ],
             [
              0.1111111111111111,
              "#46039f"
             ],
             [
              0.2222222222222222,
              "#7201a8"
             ],
             [
              0.3333333333333333,
              "#9c179e"
             ],
             [
              0.4444444444444444,
              "#bd3786"
             ],
             [
              0.5555555555555556,
              "#d8576b"
             ],
             [
              0.6666666666666666,
              "#ed7953"
             ],
             [
              0.7777777777777778,
              "#fb9f3a"
             ],
             [
              0.8888888888888888,
              "#fdca26"
             ],
             [
              1,
              "#f0f921"
             ]
            ],
            "type": "contour"
           }
          ],
          "contourcarpet": [
           {
            "colorbar": {
             "outlinewidth": 0,
             "ticks": ""
            },
            "type": "contourcarpet"
           }
          ],
          "heatmap": [
           {
            "colorbar": {
             "outlinewidth": 0,
             "ticks": ""
            },
            "colorscale": [
             [
              0,
              "#0d0887"
             ],
             [
              0.1111111111111111,
              "#46039f"
             ],
             [
              0.2222222222222222,
              "#7201a8"
             ],
             [
              0.3333333333333333,
              "#9c179e"
             ],
             [
              0.4444444444444444,
              "#bd3786"
             ],
             [
              0.5555555555555556,
              "#d8576b"
             ],
             [
              0.6666666666666666,
              "#ed7953"
             ],
             [
              0.7777777777777778,
              "#fb9f3a"
             ],
             [
              0.8888888888888888,
              "#fdca26"
             ],
             [
              1,
              "#f0f921"
             ]
            ],
            "type": "heatmap"
           }
          ],
          "histogram": [
           {
            "marker": {
             "pattern": {
              "fillmode": "overlay",
              "size": 10,
              "solidity": 0.2
             }
            },
            "type": "histogram"
           }
          ],
          "histogram2d": [
           {
            "colorbar": {
             "outlinewidth": 0,
             "ticks": ""
            },
            "colorscale": [
             [
              0,
              "#0d0887"
             ],
             [
              0.1111111111111111,
              "#46039f"
             ],
             [
              0.2222222222222222,
              "#7201a8"
             ],
             [
              0.3333333333333333,
              "#9c179e"
             ],
             [
              0.4444444444444444,
              "#bd3786"
             ],
             [
              0.5555555555555556,
              "#d8576b"
             ],
             [
              0.6666666666666666,
              "#ed7953"
             ],
             [
              0.7777777777777778,
              "#fb9f3a"
             ],
             [
              0.8888888888888888,
              "#fdca26"
             ],
             [
              1,
              "#f0f921"
             ]
            ],
            "type": "histogram2d"
           }
          ],
          "histogram2dcontour": [
           {
            "colorbar": {
             "outlinewidth": 0,
             "ticks": ""
            },
            "colorscale": [
             [
              0,
              "#0d0887"
             ],
             [
              0.1111111111111111,
              "#46039f"
             ],
             [
              0.2222222222222222,
              "#7201a8"
             ],
             [
              0.3333333333333333,
              "#9c179e"
             ],
             [
              0.4444444444444444,
              "#bd3786"
             ],
             [
              0.5555555555555556,
              "#d8576b"
             ],
             [
              0.6666666666666666,
              "#ed7953"
             ],
             [
              0.7777777777777778,
              "#fb9f3a"
             ],
             [
              0.8888888888888888,
              "#fdca26"
             ],
             [
              1,
              "#f0f921"
             ]
            ],
            "type": "histogram2dcontour"
           }
          ],
          "mesh3d": [
           {
            "colorbar": {
             "outlinewidth": 0,
             "ticks": ""
            },
            "type": "mesh3d"
           }
          ],
          "parcoords": [
           {
            "line": {
             "colorbar": {
              "outlinewidth": 0,
              "ticks": ""
             }
            },
            "type": "parcoords"
           }
          ],
          "pie": [
           {
            "automargin": true,
            "type": "pie"
           }
          ],
          "scatter": [
           {
            "fillpattern": {
             "fillmode": "overlay",
             "size": 10,
             "solidity": 0.2
            },
            "type": "scatter"
           }
          ],
          "scatter3d": [
           {
            "line": {
             "colorbar": {
              "outlinewidth": 0,
              "ticks": ""
             }
            },
            "marker": {
             "colorbar": {
              "outlinewidth": 0,
              "ticks": ""
             }
            },
            "type": "scatter3d"
           }
          ],
          "scattercarpet": [
           {
            "marker": {
             "colorbar": {
              "outlinewidth": 0,
              "ticks": ""
             }
            },
            "type": "scattercarpet"
           }
          ],
          "scattergeo": [
           {
            "marker": {
             "colorbar": {
              "outlinewidth": 0,
              "ticks": ""
             }
            },
            "type": "scattergeo"
           }
          ],
          "scattergl": [
           {
            "marker": {
             "colorbar": {
              "outlinewidth": 0,
              "ticks": ""
             }
            },
            "type": "scattergl"
           }
          ],
          "scattermap": [
           {
            "marker": {
             "colorbar": {
              "outlinewidth": 0,
              "ticks": ""
             }
            },
            "type": "scattermap"
           }
          ],
          "scattermapbox": [
           {
            "marker": {
             "colorbar": {
              "outlinewidth": 0,
              "ticks": ""
             }
            },
            "type": "scattermapbox"
           }
          ],
          "scatterpolar": [
           {
            "marker": {
             "colorbar": {
              "outlinewidth": 0,
              "ticks": ""
             }
            },
            "type": "scatterpolar"
           }
          ],
          "scatterpolargl": [
           {
            "marker": {
             "colorbar": {
              "outlinewidth": 0,
              "ticks": ""
             }
            },
            "type": "scatterpolargl"
           }
          ],
          "scatterternary": [
           {
            "marker": {
             "colorbar": {
              "outlinewidth": 0,
              "ticks": ""
             }
            },
            "type": "scatterternary"
           }
          ],
          "surface": [
           {
            "colorbar": {
             "outlinewidth": 0,
             "ticks": ""
            },
            "colorscale": [
             [
              0,
              "#0d0887"
             ],
             [
              0.1111111111111111,
              "#46039f"
             ],
             [
              0.2222222222222222,
              "#7201a8"
             ],
             [
              0.3333333333333333,
              "#9c179e"
             ],
             [
              0.4444444444444444,
              "#bd3786"
             ],
             [
              0.5555555555555556,
              "#d8576b"
             ],
             [
              0.6666666666666666,
              "#ed7953"
             ],
             [
              0.7777777777777778,
              "#fb9f3a"
             ],
             [
              0.8888888888888888,
              "#fdca26"
             ],
             [
              1,
              "#f0f921"
             ]
            ],
            "type": "surface"
           }
          ],
          "table": [
           {
            "cells": {
             "fill": {
              "color": "#EBF0F8"
             },
             "line": {
              "color": "white"
             }
            },
            "header": {
             "fill": {
              "color": "#C8D4E3"
             },
             "line": {
              "color": "white"
             }
            },
            "type": "table"
           }
          ]
         },
         "layout": {
          "annotationdefaults": {
           "arrowcolor": "#2a3f5f",
           "arrowhead": 0,
           "arrowwidth": 1
          },
          "autotypenumbers": "strict",
          "coloraxis": {
           "colorbar": {
            "outlinewidth": 0,
            "ticks": ""
           }
          },
          "colorscale": {
           "diverging": [
            [
             0,
             "#8e0152"
            ],
            [
             0.1,
             "#c51b7d"
            ],
            [
             0.2,
             "#de77ae"
            ],
            [
             0.3,
             "#f1b6da"
            ],
            [
             0.4,
             "#fde0ef"
            ],
            [
             0.5,
             "#f7f7f7"
            ],
            [
             0.6,
             "#e6f5d0"
            ],
            [
             0.7,
             "#b8e186"
            ],
            [
             0.8,
             "#7fbc41"
            ],
            [
             0.9,
             "#4d9221"
            ],
            [
             1,
             "#276419"
            ]
           ],
           "sequential": [
            [
             0,
             "#0d0887"
            ],
            [
             0.1111111111111111,
             "#46039f"
            ],
            [
             0.2222222222222222,
             "#7201a8"
            ],
            [
             0.3333333333333333,
             "#9c179e"
            ],
            [
             0.4444444444444444,
             "#bd3786"
            ],
            [
             0.5555555555555556,
             "#d8576b"
            ],
            [
             0.6666666666666666,
             "#ed7953"
            ],
            [
             0.7777777777777778,
             "#fb9f3a"
            ],
            [
             0.8888888888888888,
             "#fdca26"
            ],
            [
             1,
             "#f0f921"
            ]
           ],
           "sequentialminus": [
            [
             0,
             "#0d0887"
            ],
            [
             0.1111111111111111,
             "#46039f"
            ],
            [
             0.2222222222222222,
             "#7201a8"
            ],
            [
             0.3333333333333333,
             "#9c179e"
            ],
            [
             0.4444444444444444,
             "#bd3786"
            ],
            [
             0.5555555555555556,
             "#d8576b"
            ],
            [
             0.6666666666666666,
             "#ed7953"
            ],
            [
             0.7777777777777778,
             "#fb9f3a"
            ],
            [
             0.8888888888888888,
             "#fdca26"
            ],
            [
             1,
             "#f0f921"
            ]
           ]
          },
          "colorway": [
           "#636efa",
           "#EF553B",
           "#00cc96",
           "#ab63fa",
           "#FFA15A",
           "#19d3f3",
           "#FF6692",
           "#B6E880",
           "#FF97FF",
           "#FECB52"
          ],
          "font": {
           "color": "#2a3f5f"
          },
          "geo": {
           "bgcolor": "white",
           "lakecolor": "white",
           "landcolor": "#E5ECF6",
           "showlakes": true,
           "showland": true,
           "subunitcolor": "white"
          },
          "hoverlabel": {
           "align": "left"
          },
          "hovermode": "closest",
          "mapbox": {
           "style": "light"
          },
          "paper_bgcolor": "white",
          "plot_bgcolor": "#E5ECF6",
          "polar": {
           "angularaxis": {
            "gridcolor": "white",
            "linecolor": "white",
            "ticks": ""
           },
           "bgcolor": "#E5ECF6",
           "radialaxis": {
            "gridcolor": "white",
            "linecolor": "white",
            "ticks": ""
           }
          },
          "scene": {
           "xaxis": {
            "backgroundcolor": "#E5ECF6",
            "gridcolor": "white",
            "gridwidth": 2,
            "linecolor": "white",
            "showbackground": true,
            "ticks": "",
            "zerolinecolor": "white"
           },
           "yaxis": {
            "backgroundcolor": "#E5ECF6",
            "gridcolor": "white",
            "gridwidth": 2,
            "linecolor": "white",
            "showbackground": true,
            "ticks": "",
            "zerolinecolor": "white"
           },
           "zaxis": {
            "backgroundcolor": "#E5ECF6",
            "gridcolor": "white",
            "gridwidth": 2,
            "linecolor": "white",
            "showbackground": true,
            "ticks": "",
            "zerolinecolor": "white"
           }
          },
          "shapedefaults": {
           "line": {
            "color": "#2a3f5f"
           }
          },
          "ternary": {
           "aaxis": {
            "gridcolor": "white",
            "linecolor": "white",
            "ticks": ""
           },
           "baxis": {
            "gridcolor": "white",
            "linecolor": "white",
            "ticks": ""
           },
           "bgcolor": "#E5ECF6",
           "caxis": {
            "gridcolor": "white",
            "linecolor": "white",
            "ticks": ""
           }
          },
          "title": {
           "x": 0.05
          },
          "xaxis": {
           "automargin": true,
           "gridcolor": "white",
           "linecolor": "white",
           "ticks": "",
           "title": {
            "standoff": 15
           },
           "zerolinecolor": "white",
           "zerolinewidth": 2
          },
          "yaxis": {
           "automargin": true,
           "gridcolor": "white",
           "linecolor": "white",
           "ticks": "",
           "title": {
            "standoff": 15
           },
           "zerolinecolor": "white",
           "zerolinewidth": 2
          }
         }
        },
        "title": {
         "font": {
          "color": "black",
          "family": "Arial",
          "size": 16,
          "weight": "bold"
         },
         "text": "Comparison of Environmental Impact Intensities by LCA Software",
         "x": 0.5,
         "xanchor": "center",
         "yanchor": "top"
        },
        "width": 800,
        "xaxis": {
         "anchor": "y",
         "domain": [
          0,
          1
         ],
         "gridcolor": "lightgrey",
         "range": [
          0,
          1236
         ],
         "showgrid": true,
         "title": {
          "text": "Embodied Carbon Intensity [kgCO2e/m²]"
         }
        },
        "xaxis2": {
         "anchor": "y2",
         "domain": [
          0,
          1
         ],
         "gridcolor": "lightgrey",
         "range": [
          0,
          1.03
         ],
         "showgrid": true,
         "title": {
          "text": "Eutrophication Potential Intensity [kgNe/m²]"
         }
        },
        "xaxis3": {
         "anchor": "y3",
         "domain": [
          0,
          1
         ],
         "gridcolor": "lightgrey",
         "range": [
          0,
          6.695
         ],
         "showgrid": true,
         "title": {
          "text": "Acidification Potential Intensity [kgSO2e/m²]"
         }
        },
        "xaxis4": {
         "anchor": "y4",
         "domain": [
          0,
          1
         ],
         "gridcolor": "lightgrey",
         "range": [
          0,
          61.8
         ],
         "showgrid": true,
         "title": {
          "text": "Smog Formation Potential Intensity [kgO3/m²]"
         }
        },
        "xaxis5": {
         "anchor": "y5",
         "domain": [
          0,
          1
         ],
         "gridcolor": "lightgrey",
         "range": [
          0,
          0.00010300000000000001
         ],
         "showgrid": true,
         "title": {
          "text": "Ozone Depletion Potential Intensity [kgCFC11e/m²]"
         }
        },
        "xaxis6": {
         "anchor": "y6",
         "domain": [
          0,
          1
         ],
         "gridcolor": "lightgrey",
         "range": [
          0,
          12360
         ],
         "showgrid": true,
         "title": {
          "text": "Non-renewable Energy Demand Intensity [MJ/m²]"
         }
        },
        "yaxis": {
         "anchor": "x",
         "domain": [
          0.8999999999999999,
          0.9999999999999999
         ]
        },
        "yaxis2": {
         "anchor": "x2",
         "domain": [
          0.72,
          0.82
         ]
        },
        "yaxis3": {
         "anchor": "x3",
         "domain": [
          0.54,
          0.64
         ]
        },
        "yaxis4": {
         "anchor": "x4",
         "domain": [
          0.36,
          0.45999999999999996
         ]
        },
        "yaxis5": {
         "anchor": "x5",
         "domain": [
          0.18,
          0.27999999999999997
         ]
        },
        "yaxis6": {
         "anchor": "x6",
         "domain": [
          0,
          0.09999999999999999
         ]
        }
       }
      }
     },
     "metadata": {},
     "output_type": "display_data"
    }
   ],
   "source": [
    "from plotly.subplots import make_subplots\n",
    "import plotly.graph_objects as go\n",
    "\n",
    "# Define the fields, their corresponding x-axis labels, and max value to cap chart at\n",
    "fields_and_labels_and_caps = {\n",
    "    'eci_a_to_c_cfa': ('Embodied Carbon Intensity [kgCO2e/m²]', 1200),\n",
    "    'epi_a_to_c_cfa': ('Eutrophication Potential Intensity [kgNe/m²]', 1),\n",
    "    'api_a_to_c_cfa': ('Acidification Potential Intensity [kgSO2e/m²]', 6.5),\n",
    "    'sfpi_a_to_c_cfa': ('Smog Formation Potential Intensity [kgO3/m²]', 60),\n",
    "    'odpi_a_to_c_cfa': ('Ozone Depletion Potential Intensity [kgCFC11e/m²]', 0.0001),\n",
    "    'nredi_a_to_c_cfa': ('Non-renewable Energy Demand Intensity [MJ/m²]', 12000)\n",
    "}\n",
    "\n",
    "# Create a subplot figure\n",
    "fig6 = make_subplots(\n",
    "    rows=len(fields_and_labels_and_caps), cols=1,  # One row per field\n",
    "    shared_yaxes=True,  # Share the y-axis for alignment\n",
    "    vertical_spacing=0.08  # Space between plots\n",
    ")\n",
    "\n",
    "# Add a box and whisker plot for each field\n",
    "for i, (field, (label, cap)) in enumerate(fields_and_labels_and_caps.items(), start=1):\n",
    "    # Apply capping\n",
    "    values = filtered_bldgs_df5[field].clip(upper=cap) if cap is not None else filtered_bldgs_df5[field]\n",
    "\n",
    "    # Add the box plot to the subplot\n",
    "    fig6.add_trace(\n",
    "        go.Box(\n",
    "            x=values,\n",
    "            y=filtered_bldgs_df5['lca_software'],\n",
    "            boxpoints='all',\n",
    "            jitter=0.3,\n",
    "            pointpos=0,  # Position points on the box\n",
    "            marker=dict(color='rgba(28, 144, 153, 0.5)'),\n",
    "            fillcolor='rgb(236,226,240)',\n",
    "            line=dict(color='rgb(166,189,219)'),\n",
    "            orientation='h',  # Horizontal orientation\n",
    "            name=label  # Use the label as the trace name\n",
    "        ),\n",
    "        row=i, col=1  # Add to the appropriate subplot\n",
    "    )\n",
    "\n",
    "# Customize the layout\n",
    "fig6.update_layout(\n",
    "    title={\n",
    "        'text': 'Comparison of Environmental Impact Intensities by LCA Software',\n",
    "        'x': 0.5,  # Center the title\n",
    "        'xanchor': 'center',\n",
    "        'yanchor': 'top',\n",
    "        'font': {'size': 16, 'family': 'Arial', 'color': 'black', 'weight': 'bold'}  # Make the title bold\n",
    "    },\n",
    "    plot_bgcolor='white',\n",
    "    paper_bgcolor='white',\n",
    "    height=250 * len(fields_and_labels_and_caps),  # Adjust height based on the number of plots\n",
    "    width=800,\n",
    "    showlegend=False\n",
    ")\n",
    "\n",
    "# Update x-axis titles, ranges, and gridlines for each subplot\n",
    "for i, (field, (label, cap)) in enumerate(fields_and_labels_and_caps.items(), start=1):\n",
    "    buffer = cap * 0.03 if cap is not None else 0  # Add 3% buffer to the cap so marks don't get cutoff\n",
    "    fig6.update_xaxes(\n",
    "        title_text=label,\n",
    "        range=[0, cap + buffer] if cap is not None else None,  # Extend the range slightly\n",
    "        showgrid=True,\n",
    "        gridcolor='lightgrey',\n",
    "        row=i, col=1\n",
    "    )\n",
    "\n",
    "# Show the figure\n",
    "fig6.show()"
   ]
  }
 ],
 "metadata": {
  "kernelspec": {
   "display_name": "data_viz_basic",
   "language": "python",
   "name": "python3"
  },
  "language_info": {
   "codemirror_mode": {
    "name": "ipython",
    "version": 3
   },
   "file_extension": ".py",
   "mimetype": "text/x-python",
   "name": "python",
   "nbconvert_exporter": "python",
   "pygments_lexer": "ipython3",
   "version": "3.10.10"
  }
 },
 "nbformat": 4,
 "nbformat_minor": 2
}
